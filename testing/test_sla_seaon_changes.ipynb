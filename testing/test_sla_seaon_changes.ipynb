{
 "cells": [
  {
   "cell_type": "code",
   "execution_count": 1,
   "metadata": {},
   "outputs": [],
   "source": [
    "import sys\n",
    "import pandas as pd\n",
    "import numpy as np\n",
    "import urllib\n",
    "import sqlalchemy\n",
    "import string\n",
    "import datetime"
   ]
  },
  {
   "cell_type": "code",
   "execution_count": 2,
   "metadata": {},
   "outputs": [],
   "source": [
    "#Import shared functions\n",
    "sys.path.append('..\\..')\n",
    "from IPM_Shared_Code_public.Python.utils import get_config"
   ]
  },
  {
   "cell_type": "code",
   "execution_count": 3,
   "metadata": {},
   "outputs": [],
   "source": [
    "config = get_config('c:\\Projects\\config.ini')\n",
    "\n",
    "driver = config['srv']['driver']\n",
    "server = config['srv']['dev_server']\n",
    "sladb = config['db']['sladb']"
   ]
  },
  {
   "cell_type": "code",
   "execution_count": 4,
   "metadata": {},
   "outputs": [],
   "source": [
    "con_string = 'Driver={' + driver + '};Server=' + server +';Database=' + sladb + ';Trusted_Connection=Yes;'\n",
    "params = urllib.parse.quote_plus(con_string)\n",
    "engine = sqlalchemy.create_engine(\"mssql+pyodbc:///?odbc_connect=%s\" % params)"
   ]
  },
  {
   "cell_type": "markdown",
   "metadata": {},
   "source": [
    "## Write all of the sql queries required for the tests"
   ]
  },
  {
   "cell_type": "code",
   "execution_count": 5,
   "metadata": {},
   "outputs": [],
   "source": [
    "sql_sla_season = 'select * from sladb.dbo.tbl_sla_season'"
   ]
  },
  {
   "cell_type": "code",
   "execution_count": 6,
   "metadata": {},
   "outputs": [],
   "source": [
    "sql_season_definition = 'select * from sladb.dbo.tbl_ref_sla_season_definition'"
   ]
  },
  {
   "cell_type": "code",
   "execution_count": 7,
   "metadata": {},
   "outputs": [],
   "source": [
    "sql_season_date = 'select * from sladb.dbo.tbl_sla_season_date'"
   ]
  },
  {
   "cell_type": "markdown",
   "metadata": {},
   "source": [
    "## Execute all of the sql queries and store the results"
   ]
  },
  {
   "cell_type": "code",
   "execution_count": 8,
   "metadata": {},
   "outputs": [],
   "source": [
    "before_sla_season = pd.read_sql(con = engine, sql = sql_sla_season)"
   ]
  },
  {
   "cell_type": "code",
   "execution_count": 9,
   "metadata": {},
   "outputs": [],
   "source": [
    "date_cols_season = [\n",
    "    'effective_start', 'effective_end', 'created_date_utc', 'updated_date_utc',\n",
    "    'effective_start_adj', 'effective_end_adj'\n",
    "]"
   ]
  },
  {
   "cell_type": "code",
   "execution_count": 10,
   "metadata": {},
   "outputs": [],
   "source": [
    "# pd.to_datetime(before_sla_season['effective_start'])"
   ]
  },
  {
   "cell_type": "code",
   "execution_count": 11,
   "metadata": {},
   "outputs": [],
   "source": [
    "for i in date_cols_season:\n",
    "    before_sla_season[i] = pd.to_datetime(before_sla_season[i])"
   ]
  },
  {
   "cell_type": "code",
   "execution_count": 12,
   "metadata": {
    "scrolled": true
   },
   "outputs": [
    {
     "data": {
      "text/html": [
       "<div>\n",
       "<style scoped>\n",
       "    .dataframe tbody tr th:only-of-type {\n",
       "        vertical-align: middle;\n",
       "    }\n",
       "\n",
       "    .dataframe tbody tr th {\n",
       "        vertical-align: top;\n",
       "    }\n",
       "\n",
       "    .dataframe thead th {\n",
       "        text-align: right;\n",
       "    }\n",
       "</style>\n",
       "<table border=\"1\" class=\"dataframe\">\n",
       "  <thead>\n",
       "    <tr style=\"text-align: right;\">\n",
       "      <th></th>\n",
       "      <th>season_id</th>\n",
       "      <th>season_desc</th>\n",
       "      <th>year_round</th>\n",
       "      <th>effective</th>\n",
       "      <th>effective_end</th>\n",
       "      <th>effective_start</th>\n",
       "      <th>created_date_utc</th>\n",
       "      <th>updated_date_utc</th>\n",
       "      <th>effective_start_adj</th>\n",
       "      <th>effective_end_adj</th>\n",
       "    </tr>\n",
       "  </thead>\n",
       "  <tbody>\n",
       "    <tr>\n",
       "      <th>0</th>\n",
       "      <td>1</td>\n",
       "      <td>Year-round, not seasonal</td>\n",
       "      <td>True</td>\n",
       "      <td>False</td>\n",
       "      <td>2020-07-24</td>\n",
       "      <td>2014-01-01</td>\n",
       "      <td>2020-03-03 19:12:12.710</td>\n",
       "      <td>2020-07-28 20:16:56.850</td>\n",
       "      <td>2014-01-05</td>\n",
       "      <td>2020-07-25</td>\n",
       "    </tr>\n",
       "    <tr>\n",
       "      <th>1</th>\n",
       "      <td>2</td>\n",
       "      <td>Beaches, etc.</td>\n",
       "      <td>False</td>\n",
       "      <td>False</td>\n",
       "      <td>2020-07-25</td>\n",
       "      <td>2019-07-01</td>\n",
       "      <td>2020-03-03 19:12:12.723</td>\n",
       "      <td>2020-07-29 12:39:31.760</td>\n",
       "      <td>2019-07-07</td>\n",
       "      <td>2020-07-25</td>\n",
       "    </tr>\n",
       "    <tr>\n",
       "      <th>2</th>\n",
       "      <td>3</td>\n",
       "      <td>Ballfields, etc.</td>\n",
       "      <td>False</td>\n",
       "      <td>False</td>\n",
       "      <td>2020-07-25</td>\n",
       "      <td>2019-07-01</td>\n",
       "      <td>2020-03-03 19:12:12.723</td>\n",
       "      <td>2020-07-29 12:39:31.760</td>\n",
       "      <td>2019-07-07</td>\n",
       "      <td>2020-07-25</td>\n",
       "    </tr>\n",
       "    <tr>\n",
       "      <th>3</th>\n",
       "      <td>4</td>\n",
       "      <td>NY Pause, COVID-19 Pandemic</td>\n",
       "      <td>True</td>\n",
       "      <td>False</td>\n",
       "      <td>2020-07-04</td>\n",
       "      <td>2020-03-22</td>\n",
       "      <td>2020-04-20 21:52:46.403</td>\n",
       "      <td>2020-07-01 15:20:36.193</td>\n",
       "      <td>2020-03-22</td>\n",
       "      <td>2020-07-04</td>\n",
       "    </tr>\n",
       "    <tr>\n",
       "      <th>4</th>\n",
       "      <td>6</td>\n",
       "      <td>New year round test season.</td>\n",
       "      <td>True</td>\n",
       "      <td>True</td>\n",
       "      <td>NaT</td>\n",
       "      <td>2020-07-24</td>\n",
       "      <td>2020-07-24 23:41:46.543</td>\n",
       "      <td>2020-07-28 18:31:55.867</td>\n",
       "      <td>2020-07-26</td>\n",
       "      <td>NaT</td>\n",
       "    </tr>\n",
       "  </tbody>\n",
       "</table>\n",
       "</div>"
      ],
      "text/plain": [
       "   season_id                  season_desc  year_round  effective  \\\n",
       "0          1     Year-round, not seasonal        True      False   \n",
       "1          2                Beaches, etc.       False      False   \n",
       "2          3             Ballfields, etc.       False      False   \n",
       "3          4  NY Pause, COVID-19 Pandemic        True      False   \n",
       "4          6  New year round test season.        True       True   \n",
       "\n",
       "  effective_end effective_start        created_date_utc  \\\n",
       "0    2020-07-24      2014-01-01 2020-03-03 19:12:12.710   \n",
       "1    2020-07-25      2019-07-01 2020-03-03 19:12:12.723   \n",
       "2    2020-07-25      2019-07-01 2020-03-03 19:12:12.723   \n",
       "3    2020-07-04      2020-03-22 2020-04-20 21:52:46.403   \n",
       "4           NaT      2020-07-24 2020-07-24 23:41:46.543   \n",
       "\n",
       "         updated_date_utc effective_start_adj effective_end_adj  \n",
       "0 2020-07-28 20:16:56.850          2014-01-05        2020-07-25  \n",
       "1 2020-07-29 12:39:31.760          2019-07-07        2020-07-25  \n",
       "2 2020-07-29 12:39:31.760          2019-07-07        2020-07-25  \n",
       "3 2020-07-01 15:20:36.193          2020-03-22        2020-07-04  \n",
       "4 2020-07-28 18:31:55.867          2020-07-26               NaT  "
      ]
     },
     "execution_count": 12,
     "metadata": {},
     "output_type": "execute_result"
    }
   ],
   "source": [
    "before_sla_season.head()"
   ]
  },
  {
   "cell_type": "code",
   "execution_count": 13,
   "metadata": {},
   "outputs": [],
   "source": [
    "before_season_definition = pd.read_sql(con = engine, sql = sql_season_definition)"
   ]
  },
  {
   "cell_type": "code",
   "execution_count": 14,
   "metadata": {
    "scrolled": true
   },
   "outputs": [
    {
     "data": {
      "text/html": [
       "<div>\n",
       "<style scoped>\n",
       "    .dataframe tbody tr th:only-of-type {\n",
       "        vertical-align: middle;\n",
       "    }\n",
       "\n",
       "    .dataframe tbody tr th {\n",
       "        vertical-align: top;\n",
       "    }\n",
       "\n",
       "    .dataframe thead th {\n",
       "        text-align: right;\n",
       "    }\n",
       "</style>\n",
       "<table border=\"1\" class=\"dataframe\">\n",
       "  <thead>\n",
       "    <tr style=\"text-align: right;\">\n",
       "      <th></th>\n",
       "      <th>season_date_ref_id</th>\n",
       "      <th>season_id</th>\n",
       "      <th>date_ref_fixed</th>\n",
       "      <th>month_name_desc</th>\n",
       "      <th>date_ref_day_number</th>\n",
       "      <th>day_name_desc</th>\n",
       "      <th>day_rank_id</th>\n",
       "      <th>date_type_id</th>\n",
       "    </tr>\n",
       "  </thead>\n",
       "  <tbody>\n",
       "    <tr>\n",
       "      <th>0</th>\n",
       "      <td>1</td>\n",
       "      <td>1</td>\n",
       "      <td>True</td>\n",
       "      <td>January</td>\n",
       "      <td>1.0</td>\n",
       "      <td>None</td>\n",
       "      <td>None</td>\n",
       "      <td>1</td>\n",
       "    </tr>\n",
       "    <tr>\n",
       "      <th>1</th>\n",
       "      <td>2</td>\n",
       "      <td>1</td>\n",
       "      <td>True</td>\n",
       "      <td>December</td>\n",
       "      <td>31.0</td>\n",
       "      <td>None</td>\n",
       "      <td>None</td>\n",
       "      <td>2</td>\n",
       "    </tr>\n",
       "    <tr>\n",
       "      <th>2</th>\n",
       "      <td>3</td>\n",
       "      <td>2</td>\n",
       "      <td>True</td>\n",
       "      <td>May</td>\n",
       "      <td>1.0</td>\n",
       "      <td>None</td>\n",
       "      <td>None</td>\n",
       "      <td>1</td>\n",
       "    </tr>\n",
       "    <tr>\n",
       "      <th>3</th>\n",
       "      <td>4</td>\n",
       "      <td>2</td>\n",
       "      <td>True</td>\n",
       "      <td>October</td>\n",
       "      <td>1.0</td>\n",
       "      <td>None</td>\n",
       "      <td>None</td>\n",
       "      <td>2</td>\n",
       "    </tr>\n",
       "    <tr>\n",
       "      <th>4</th>\n",
       "      <td>5</td>\n",
       "      <td>3</td>\n",
       "      <td>True</td>\n",
       "      <td>March</td>\n",
       "      <td>1.0</td>\n",
       "      <td>None</td>\n",
       "      <td>None</td>\n",
       "      <td>1</td>\n",
       "    </tr>\n",
       "  </tbody>\n",
       "</table>\n",
       "</div>"
      ],
      "text/plain": [
       "   season_date_ref_id  season_id  date_ref_fixed month_name_desc  \\\n",
       "0                   1          1            True         January   \n",
       "1                   2          1            True        December   \n",
       "2                   3          2            True             May   \n",
       "3                   4          2            True         October   \n",
       "4                   5          3            True           March   \n",
       "\n",
       "   date_ref_day_number day_name_desc day_rank_id  date_type_id  \n",
       "0                  1.0          None        None             1  \n",
       "1                 31.0          None        None             2  \n",
       "2                  1.0          None        None             1  \n",
       "3                  1.0          None        None             2  \n",
       "4                  1.0          None        None             1  "
      ]
     },
     "execution_count": 14,
     "metadata": {},
     "output_type": "execute_result"
    }
   ],
   "source": [
    "before_season_definition.head()"
   ]
  },
  {
   "cell_type": "code",
   "execution_count": 15,
   "metadata": {},
   "outputs": [],
   "source": [
    "before_season_date = pd.read_sql(con = engine, sql = sql_season_date)"
   ]
  },
  {
   "cell_type": "code",
   "execution_count": 16,
   "metadata": {},
   "outputs": [],
   "source": [
    "date_cols_season_date = [\n",
    "    'effective_start', 'effective_end', 'effective_start_adj',\n",
    "    'effective_end_adj'\n",
    "]"
   ]
  },
  {
   "cell_type": "code",
   "execution_count": 17,
   "metadata": {},
   "outputs": [],
   "source": [
    "for i in date_cols_season_date:\n",
    "    before_season_date[i] = pd.to_datetime(before_season_date[i])"
   ]
  },
  {
   "cell_type": "code",
   "execution_count": 18,
   "metadata": {
    "scrolled": false
   },
   "outputs": [
    {
     "data": {
      "text/html": [
       "<div>\n",
       "<style scoped>\n",
       "    .dataframe tbody tr th:only-of-type {\n",
       "        vertical-align: middle;\n",
       "    }\n",
       "\n",
       "    .dataframe tbody tr th {\n",
       "        vertical-align: top;\n",
       "    }\n",
       "\n",
       "    .dataframe thead th {\n",
       "        text-align: right;\n",
       "    }\n",
       "</style>\n",
       "<table border=\"1\" class=\"dataframe\">\n",
       "  <thead>\n",
       "    <tr style=\"text-align: right;\">\n",
       "      <th></th>\n",
       "      <th>season_date_id</th>\n",
       "      <th>season_id</th>\n",
       "      <th>effective_start</th>\n",
       "      <th>effective_end</th>\n",
       "      <th>date_category_id</th>\n",
       "      <th>effective_start_adj</th>\n",
       "      <th>effective_end_adj</th>\n",
       "    </tr>\n",
       "  </thead>\n",
       "  <tbody>\n",
       "    <tr>\n",
       "      <th>0</th>\n",
       "      <td>1</td>\n",
       "      <td>1</td>\n",
       "      <td>2014-01-01</td>\n",
       "      <td>2020-07-24</td>\n",
       "      <td>1</td>\n",
       "      <td>2014-01-05</td>\n",
       "      <td>2020-07-25</td>\n",
       "    </tr>\n",
       "    <tr>\n",
       "      <th>1</th>\n",
       "      <td>2</td>\n",
       "      <td>2</td>\n",
       "      <td>2019-07-01</td>\n",
       "      <td>2019-10-01</td>\n",
       "      <td>1</td>\n",
       "      <td>2019-07-07</td>\n",
       "      <td>2019-10-05</td>\n",
       "    </tr>\n",
       "    <tr>\n",
       "      <th>2</th>\n",
       "      <td>4</td>\n",
       "      <td>2</td>\n",
       "      <td>2020-05-01</td>\n",
       "      <td>2020-07-25</td>\n",
       "      <td>1</td>\n",
       "      <td>2020-05-03</td>\n",
       "      <td>2020-07-25</td>\n",
       "    </tr>\n",
       "    <tr>\n",
       "      <th>3</th>\n",
       "      <td>6</td>\n",
       "      <td>3</td>\n",
       "      <td>2019-07-01</td>\n",
       "      <td>2019-10-31</td>\n",
       "      <td>1</td>\n",
       "      <td>2019-07-07</td>\n",
       "      <td>2019-11-02</td>\n",
       "    </tr>\n",
       "    <tr>\n",
       "      <th>4</th>\n",
       "      <td>8</td>\n",
       "      <td>3</td>\n",
       "      <td>2020-03-01</td>\n",
       "      <td>2020-07-25</td>\n",
       "      <td>1</td>\n",
       "      <td>2020-03-01</td>\n",
       "      <td>2020-07-25</td>\n",
       "    </tr>\n",
       "  </tbody>\n",
       "</table>\n",
       "</div>"
      ],
      "text/plain": [
       "   season_date_id  season_id effective_start effective_end  date_category_id  \\\n",
       "0               1          1      2014-01-01    2020-07-24                 1   \n",
       "1               2          2      2019-07-01    2019-10-01                 1   \n",
       "2               4          2      2020-05-01    2020-07-25                 1   \n",
       "3               6          3      2019-07-01    2019-10-31                 1   \n",
       "4               8          3      2020-03-01    2020-07-25                 1   \n",
       "\n",
       "  effective_start_adj effective_end_adj  \n",
       "0          2014-01-05        2020-07-25  \n",
       "1          2019-07-07        2019-10-05  \n",
       "2          2020-05-03        2020-07-25  \n",
       "3          2019-07-07        2019-11-02  \n",
       "4          2020-03-01        2020-07-25  "
      ]
     },
     "execution_count": 18,
     "metadata": {},
     "output_type": "execute_result"
    }
   ],
   "source": [
    "before_season_date.head()"
   ]
  },
  {
   "cell_type": "code",
   "execution_count": null,
   "metadata": {},
   "outputs": [],
   "source": []
  },
  {
   "cell_type": "code",
   "execution_count": 19,
   "metadata": {},
   "outputs": [],
   "source": [
    "timing = []"
   ]
  },
  {
   "cell_type": "code",
   "execution_count": 20,
   "metadata": {},
   "outputs": [],
   "source": [
    "descriptions = []"
   ]
  },
  {
   "cell_type": "code",
   "execution_count": 21,
   "metadata": {},
   "outputs": [],
   "source": [
    "results = []"
   ]
  },
  {
   "cell_type": "markdown",
   "metadata": {},
   "source": [
    "## Before Tests"
   ]
  },
  {
   "cell_type": "markdown",
   "metadata": {},
   "source": [
    "### First before test"
   ]
  },
  {
   "cell_type": "code",
   "execution_count": 22,
   "metadata": {},
   "outputs": [],
   "source": [
    "timing.append('before')"
   ]
  },
  {
   "cell_type": "code",
   "execution_count": 23,
   "metadata": {},
   "outputs": [],
   "source": [
    "descriptions.append('''Ensure that 'effective'==1 for every season that has\\\n",
    "'effective_end_date'==null''')"
   ]
  },
  {
   "cell_type": "code",
   "execution_count": 24,
   "metadata": {},
   "outputs": [],
   "source": [
    "results.append(\n",
    "    len(before_sla_season[(pd.isnull(before_sla_season['effective_end']))\n",
    "                          & (before_sla_season['effective'] == False)]) == 0)"
   ]
  },
  {
   "cell_type": "markdown",
   "metadata": {},
   "source": [
    "### Second before test"
   ]
  },
  {
   "cell_type": "code",
   "execution_count": 25,
   "metadata": {},
   "outputs": [],
   "source": [
    "timing.append('before')"
   ]
  },
  {
   "cell_type": "code",
   "execution_count": 26,
   "metadata": {},
   "outputs": [],
   "source": [
    "descriptions.append('''Test that 'effective_end_adj' is after today if \\\n",
    "'effective'==1 AND 'effective_end' != null in tbl_sla_season''')"
   ]
  },
  {
   "cell_type": "code",
   "execution_count": 27,
   "metadata": {},
   "outputs": [],
   "source": [
    "before_sla_season['effective_end_adj'] = pd.to_datetime(\n",
    "    before_sla_season['effective_end_adj'])"
   ]
  },
  {
   "cell_type": "code",
   "execution_count": 28,
   "metadata": {},
   "outputs": [],
   "source": [
    "today = datetime.datetime.today()"
   ]
  },
  {
   "cell_type": "code",
   "execution_count": 29,
   "metadata": {},
   "outputs": [],
   "source": [
    "temp_df = before_sla_season[(before_sla_season['effective'] == True)\n",
    "                  & (~pd.isnull(before_sla_season['effective_end']))].copy()"
   ]
  },
  {
   "cell_type": "code",
   "execution_count": 30,
   "metadata": {},
   "outputs": [],
   "source": [
    "results.append(len(temp_df[temp_df['effective_end_adj'] > today])==len(temp_df))"
   ]
  },
  {
   "cell_type": "markdown",
   "metadata": {},
   "source": [
    "### Third before test"
   ]
  },
  {
   "cell_type": "code",
   "execution_count": 31,
   "metadata": {},
   "outputs": [],
   "source": [
    "timing.append('before')"
   ]
  },
  {
   "cell_type": "code",
   "execution_count": 32,
   "metadata": {},
   "outputs": [],
   "source": [
    "descriptions.append('''Test that every season in tbl_sla_season has exactly two\\\n",
    "entries in tbl_ref_sla_season_definition''')"
   ]
  },
  {
   "cell_type": "code",
   "execution_count": 33,
   "metadata": {},
   "outputs": [],
   "source": [
    "entry_count = []\n",
    "for i in before_sla_season.season_id.values:\n",
    "    entry_count.append(\n",
    "        len(before_season_definition[before_season_definition['season_id'] ==\n",
    "                                     i]) == 2)"
   ]
  },
  {
   "cell_type": "code",
   "execution_count": 34,
   "metadata": {},
   "outputs": [],
   "source": [
    "results.append(False not in entry_count)"
   ]
  },
  {
   "cell_type": "markdown",
   "metadata": {},
   "source": [
    "### Fourth before test"
   ]
  },
  {
   "cell_type": "code",
   "execution_count": 35,
   "metadata": {},
   "outputs": [],
   "source": [
    "timing.append('before')"
   ]
  },
  {
   "cell_type": "code",
   "execution_count": 36,
   "metadata": {},
   "outputs": [],
   "source": [
    "descriptions.append('''Test that in tbl_ref_sla_season_definition if 'date_ref_fixed'==True,\\\n",
    "then columns 'month_name_desc' and 'date_ref_day_number' are not null ''')"
   ]
  },
  {
   "cell_type": "code",
   "execution_count": 37,
   "metadata": {},
   "outputs": [],
   "source": [
    "temp_df = before_season_definition[before_season_definition['date_ref_fixed']\n",
    "                                   == True]"
   ]
  },
  {
   "cell_type": "code",
   "execution_count": 38,
   "metadata": {},
   "outputs": [],
   "source": [
    "results.append(\n",
    "    len(temp_df) == len(temp_df[~(pd.isnull(temp_df['month_name_desc']))\n",
    "                                &\n",
    "                                (~pd.isnull(temp_df['date_ref_day_number']))]))"
   ]
  },
  {
   "cell_type": "markdown",
   "metadata": {},
   "source": [
    "### Fifth before test"
   ]
  },
  {
   "cell_type": "code",
   "execution_count": 39,
   "metadata": {},
   "outputs": [],
   "source": [
    "timing.append('before')"
   ]
  },
  {
   "cell_type": "code",
   "execution_count": 40,
   "metadata": {},
   "outputs": [],
   "source": [
    "descriptions.append('''Test that in tbl_ref_sla_season_definition if 'date_ref_fixed'==False,\\\n",
    "then columns 'month_name_desc' and 'day_name_desc' and 'day_rank_id' are not null ''')"
   ]
  },
  {
   "cell_type": "code",
   "execution_count": 41,
   "metadata": {},
   "outputs": [],
   "source": [
    "temp_df = before_season_definition[before_season_definition['date_ref_fixed']==False]"
   ]
  },
  {
   "cell_type": "code",
   "execution_count": 42,
   "metadata": {},
   "outputs": [],
   "source": [
    "results.append(\n",
    "    len(temp_df) == len(temp_df[~(pd.isnull(temp_df['month_name_desc']))\n",
    "                                & (~pd.isnull(temp_df['day_name_desc']))\n",
    "                                & (~pd.isnull(temp_df['day_rank_id']))]))"
   ]
  },
  {
   "cell_type": "markdown",
   "metadata": {},
   "source": [
    "### Sixth before test"
   ]
  },
  {
   "cell_type": "code",
   "execution_count": 43,
   "metadata": {},
   "outputs": [],
   "source": [
    "timing.append('before')"
   ]
  },
  {
   "cell_type": "code",
   "execution_count": 44,
   "metadata": {},
   "outputs": [
    {
     "data": {
      "text/html": [
       "<div>\n",
       "<style scoped>\n",
       "    .dataframe tbody tr th:only-of-type {\n",
       "        vertical-align: middle;\n",
       "    }\n",
       "\n",
       "    .dataframe tbody tr th {\n",
       "        vertical-align: top;\n",
       "    }\n",
       "\n",
       "    .dataframe thead th {\n",
       "        text-align: right;\n",
       "    }\n",
       "</style>\n",
       "<table border=\"1\" class=\"dataframe\">\n",
       "  <thead>\n",
       "    <tr style=\"text-align: right;\">\n",
       "      <th></th>\n",
       "      <th>season_date_ref_id</th>\n",
       "      <th>season_id</th>\n",
       "      <th>date_ref_fixed</th>\n",
       "      <th>month_name_desc</th>\n",
       "      <th>date_ref_day_number</th>\n",
       "      <th>day_name_desc</th>\n",
       "      <th>day_rank_id</th>\n",
       "      <th>date_type_id</th>\n",
       "    </tr>\n",
       "  </thead>\n",
       "  <tbody>\n",
       "    <tr>\n",
       "      <th>0</th>\n",
       "      <td>1</td>\n",
       "      <td>1</td>\n",
       "      <td>True</td>\n",
       "      <td>January</td>\n",
       "      <td>1.0</td>\n",
       "      <td>None</td>\n",
       "      <td>None</td>\n",
       "      <td>1</td>\n",
       "    </tr>\n",
       "    <tr>\n",
       "      <th>1</th>\n",
       "      <td>2</td>\n",
       "      <td>1</td>\n",
       "      <td>True</td>\n",
       "      <td>December</td>\n",
       "      <td>31.0</td>\n",
       "      <td>None</td>\n",
       "      <td>None</td>\n",
       "      <td>2</td>\n",
       "    </tr>\n",
       "    <tr>\n",
       "      <th>2</th>\n",
       "      <td>3</td>\n",
       "      <td>2</td>\n",
       "      <td>True</td>\n",
       "      <td>May</td>\n",
       "      <td>1.0</td>\n",
       "      <td>None</td>\n",
       "      <td>None</td>\n",
       "      <td>1</td>\n",
       "    </tr>\n",
       "    <tr>\n",
       "      <th>3</th>\n",
       "      <td>4</td>\n",
       "      <td>2</td>\n",
       "      <td>True</td>\n",
       "      <td>October</td>\n",
       "      <td>1.0</td>\n",
       "      <td>None</td>\n",
       "      <td>None</td>\n",
       "      <td>2</td>\n",
       "    </tr>\n",
       "    <tr>\n",
       "      <th>4</th>\n",
       "      <td>5</td>\n",
       "      <td>3</td>\n",
       "      <td>True</td>\n",
       "      <td>March</td>\n",
       "      <td>1.0</td>\n",
       "      <td>None</td>\n",
       "      <td>None</td>\n",
       "      <td>1</td>\n",
       "    </tr>\n",
       "    <tr>\n",
       "      <th>5</th>\n",
       "      <td>6</td>\n",
       "      <td>3</td>\n",
       "      <td>True</td>\n",
       "      <td>October</td>\n",
       "      <td>31.0</td>\n",
       "      <td>None</td>\n",
       "      <td>None</td>\n",
       "      <td>2</td>\n",
       "    </tr>\n",
       "    <tr>\n",
       "      <th>6</th>\n",
       "      <td>7</td>\n",
       "      <td>4</td>\n",
       "      <td>True</td>\n",
       "      <td>January</td>\n",
       "      <td>1.0</td>\n",
       "      <td>None</td>\n",
       "      <td>None</td>\n",
       "      <td>1</td>\n",
       "    </tr>\n",
       "    <tr>\n",
       "      <th>7</th>\n",
       "      <td>8</td>\n",
       "      <td>4</td>\n",
       "      <td>True</td>\n",
       "      <td>December</td>\n",
       "      <td>31.0</td>\n",
       "      <td>None</td>\n",
       "      <td>None</td>\n",
       "      <td>2</td>\n",
       "    </tr>\n",
       "    <tr>\n",
       "      <th>8</th>\n",
       "      <td>9</td>\n",
       "      <td>6</td>\n",
       "      <td>True</td>\n",
       "      <td>January</td>\n",
       "      <td>1.0</td>\n",
       "      <td>None</td>\n",
       "      <td>None</td>\n",
       "      <td>1</td>\n",
       "    </tr>\n",
       "    <tr>\n",
       "      <th>9</th>\n",
       "      <td>10</td>\n",
       "      <td>6</td>\n",
       "      <td>True</td>\n",
       "      <td>December</td>\n",
       "      <td>31.0</td>\n",
       "      <td>None</td>\n",
       "      <td>None</td>\n",
       "      <td>2</td>\n",
       "    </tr>\n",
       "    <tr>\n",
       "      <th>10</th>\n",
       "      <td>11</td>\n",
       "      <td>10</td>\n",
       "      <td>True</td>\n",
       "      <td>May</td>\n",
       "      <td>1.0</td>\n",
       "      <td>None</td>\n",
       "      <td>None</td>\n",
       "      <td>1</td>\n",
       "    </tr>\n",
       "    <tr>\n",
       "      <th>11</th>\n",
       "      <td>12</td>\n",
       "      <td>10</td>\n",
       "      <td>True</td>\n",
       "      <td>October</td>\n",
       "      <td>1.0</td>\n",
       "      <td>None</td>\n",
       "      <td>None</td>\n",
       "      <td>2</td>\n",
       "    </tr>\n",
       "    <tr>\n",
       "      <th>12</th>\n",
       "      <td>13</td>\n",
       "      <td>9</td>\n",
       "      <td>True</td>\n",
       "      <td>March</td>\n",
       "      <td>1.0</td>\n",
       "      <td>None</td>\n",
       "      <td>None</td>\n",
       "      <td>1</td>\n",
       "    </tr>\n",
       "    <tr>\n",
       "      <th>13</th>\n",
       "      <td>14</td>\n",
       "      <td>9</td>\n",
       "      <td>True</td>\n",
       "      <td>October</td>\n",
       "      <td>31.0</td>\n",
       "      <td>None</td>\n",
       "      <td>None</td>\n",
       "      <td>2</td>\n",
       "    </tr>\n",
       "    <tr>\n",
       "      <th>14</th>\n",
       "      <td>15</td>\n",
       "      <td>12</td>\n",
       "      <td>True</td>\n",
       "      <td>May</td>\n",
       "      <td>1.0</td>\n",
       "      <td>None</td>\n",
       "      <td>None</td>\n",
       "      <td>1</td>\n",
       "    </tr>\n",
       "    <tr>\n",
       "      <th>15</th>\n",
       "      <td>16</td>\n",
       "      <td>12</td>\n",
       "      <td>True</td>\n",
       "      <td>October</td>\n",
       "      <td>1.0</td>\n",
       "      <td>None</td>\n",
       "      <td>None</td>\n",
       "      <td>2</td>\n",
       "    </tr>\n",
       "    <tr>\n",
       "      <th>16</th>\n",
       "      <td>17</td>\n",
       "      <td>11</td>\n",
       "      <td>True</td>\n",
       "      <td>March</td>\n",
       "      <td>1.0</td>\n",
       "      <td>None</td>\n",
       "      <td>None</td>\n",
       "      <td>1</td>\n",
       "    </tr>\n",
       "    <tr>\n",
       "      <th>17</th>\n",
       "      <td>18</td>\n",
       "      <td>11</td>\n",
       "      <td>True</td>\n",
       "      <td>October</td>\n",
       "      <td>31.0</td>\n",
       "      <td>None</td>\n",
       "      <td>None</td>\n",
       "      <td>2</td>\n",
       "    </tr>\n",
       "    <tr>\n",
       "      <th>18</th>\n",
       "      <td>21</td>\n",
       "      <td>14</td>\n",
       "      <td>True</td>\n",
       "      <td>April</td>\n",
       "      <td>15.0</td>\n",
       "      <td>None</td>\n",
       "      <td>None</td>\n",
       "      <td>1</td>\n",
       "    </tr>\n",
       "    <tr>\n",
       "      <th>19</th>\n",
       "      <td>22</td>\n",
       "      <td>14</td>\n",
       "      <td>True</td>\n",
       "      <td>November</td>\n",
       "      <td>15.0</td>\n",
       "      <td>None</td>\n",
       "      <td>None</td>\n",
       "      <td>2</td>\n",
       "    </tr>\n",
       "    <tr>\n",
       "      <th>20</th>\n",
       "      <td>23</td>\n",
       "      <td>16</td>\n",
       "      <td>False</td>\n",
       "      <td>May</td>\n",
       "      <td>NaN</td>\n",
       "      <td>Monday</td>\n",
       "      <td>last</td>\n",
       "      <td>1</td>\n",
       "    </tr>\n",
       "    <tr>\n",
       "      <th>21</th>\n",
       "      <td>24</td>\n",
       "      <td>16</td>\n",
       "      <td>False</td>\n",
       "      <td>September</td>\n",
       "      <td>NaN</td>\n",
       "      <td>Monday</td>\n",
       "      <td>1</td>\n",
       "      <td>2</td>\n",
       "    </tr>\n",
       "    <tr>\n",
       "      <th>22</th>\n",
       "      <td>25</td>\n",
       "      <td>17</td>\n",
       "      <td>True</td>\n",
       "      <td>April</td>\n",
       "      <td>15.0</td>\n",
       "      <td>None</td>\n",
       "      <td>None</td>\n",
       "      <td>1</td>\n",
       "    </tr>\n",
       "    <tr>\n",
       "      <th>23</th>\n",
       "      <td>26</td>\n",
       "      <td>17</td>\n",
       "      <td>False</td>\n",
       "      <td>September</td>\n",
       "      <td>NaN</td>\n",
       "      <td>Monday</td>\n",
       "      <td>1</td>\n",
       "      <td>2</td>\n",
       "    </tr>\n",
       "    <tr>\n",
       "      <th>24</th>\n",
       "      <td>27</td>\n",
       "      <td>18</td>\n",
       "      <td>False</td>\n",
       "      <td>May</td>\n",
       "      <td>NaN</td>\n",
       "      <td>Monday</td>\n",
       "      <td>last</td>\n",
       "      <td>2</td>\n",
       "    </tr>\n",
       "    <tr>\n",
       "      <th>25</th>\n",
       "      <td>28</td>\n",
       "      <td>18</td>\n",
       "      <td>True</td>\n",
       "      <td>November</td>\n",
       "      <td>15.0</td>\n",
       "      <td>None</td>\n",
       "      <td>None</td>\n",
       "      <td>1</td>\n",
       "    </tr>\n",
       "    <tr>\n",
       "      <th>26</th>\n",
       "      <td>29</td>\n",
       "      <td>20</td>\n",
       "      <td>True</td>\n",
       "      <td>January</td>\n",
       "      <td>1.0</td>\n",
       "      <td>None</td>\n",
       "      <td>None</td>\n",
       "      <td>1</td>\n",
       "    </tr>\n",
       "    <tr>\n",
       "      <th>27</th>\n",
       "      <td>30</td>\n",
       "      <td>20</td>\n",
       "      <td>True</td>\n",
       "      <td>December</td>\n",
       "      <td>31.0</td>\n",
       "      <td>None</td>\n",
       "      <td>None</td>\n",
       "      <td>2</td>\n",
       "    </tr>\n",
       "    <tr>\n",
       "      <th>28</th>\n",
       "      <td>31</td>\n",
       "      <td>21</td>\n",
       "      <td>False</td>\n",
       "      <td>May</td>\n",
       "      <td>NaN</td>\n",
       "      <td>Monday</td>\n",
       "      <td>last</td>\n",
       "      <td>1</td>\n",
       "    </tr>\n",
       "    <tr>\n",
       "      <th>29</th>\n",
       "      <td>32</td>\n",
       "      <td>21</td>\n",
       "      <td>True</td>\n",
       "      <td>November</td>\n",
       "      <td>15.0</td>\n",
       "      <td>None</td>\n",
       "      <td>None</td>\n",
       "      <td>2</td>\n",
       "    </tr>\n",
       "    <tr>\n",
       "      <th>30</th>\n",
       "      <td>33</td>\n",
       "      <td>23</td>\n",
       "      <td>True</td>\n",
       "      <td>January</td>\n",
       "      <td>1.0</td>\n",
       "      <td>None</td>\n",
       "      <td>None</td>\n",
       "      <td>1</td>\n",
       "    </tr>\n",
       "    <tr>\n",
       "      <th>31</th>\n",
       "      <td>34</td>\n",
       "      <td>23</td>\n",
       "      <td>True</td>\n",
       "      <td>December</td>\n",
       "      <td>31.0</td>\n",
       "      <td>None</td>\n",
       "      <td>None</td>\n",
       "      <td>2</td>\n",
       "    </tr>\n",
       "    <tr>\n",
       "      <th>32</th>\n",
       "      <td>35</td>\n",
       "      <td>24</td>\n",
       "      <td>False</td>\n",
       "      <td>May</td>\n",
       "      <td>NaN</td>\n",
       "      <td>Monday</td>\n",
       "      <td>last</td>\n",
       "      <td>1</td>\n",
       "    </tr>\n",
       "    <tr>\n",
       "      <th>33</th>\n",
       "      <td>36</td>\n",
       "      <td>24</td>\n",
       "      <td>True</td>\n",
       "      <td>November</td>\n",
       "      <td>15.0</td>\n",
       "      <td>None</td>\n",
       "      <td>None</td>\n",
       "      <td>2</td>\n",
       "    </tr>\n",
       "    <tr>\n",
       "      <th>34</th>\n",
       "      <td>520</td>\n",
       "      <td>37</td>\n",
       "      <td>True</td>\n",
       "      <td>April</td>\n",
       "      <td>1.0</td>\n",
       "      <td>None</td>\n",
       "      <td>None</td>\n",
       "      <td>1</td>\n",
       "    </tr>\n",
       "    <tr>\n",
       "      <th>35</th>\n",
       "      <td>521</td>\n",
       "      <td>37</td>\n",
       "      <td>True</td>\n",
       "      <td>June</td>\n",
       "      <td>30.0</td>\n",
       "      <td>None</td>\n",
       "      <td>None</td>\n",
       "      <td>2</td>\n",
       "    </tr>\n",
       "    <tr>\n",
       "      <th>36</th>\n",
       "      <td>522</td>\n",
       "      <td>38</td>\n",
       "      <td>True</td>\n",
       "      <td>April</td>\n",
       "      <td>1.0</td>\n",
       "      <td>None</td>\n",
       "      <td>None</td>\n",
       "      <td>1</td>\n",
       "    </tr>\n",
       "    <tr>\n",
       "      <th>37</th>\n",
       "      <td>523</td>\n",
       "      <td>38</td>\n",
       "      <td>True</td>\n",
       "      <td>March</td>\n",
       "      <td>30.0</td>\n",
       "      <td>None</td>\n",
       "      <td>None</td>\n",
       "      <td>2</td>\n",
       "    </tr>\n",
       "  </tbody>\n",
       "</table>\n",
       "</div>"
      ],
      "text/plain": [
       "    season_date_ref_id  season_id  date_ref_fixed month_name_desc  \\\n",
       "0                    1          1            True         January   \n",
       "1                    2          1            True        December   \n",
       "2                    3          2            True             May   \n",
       "3                    4          2            True         October   \n",
       "4                    5          3            True           March   \n",
       "5                    6          3            True         October   \n",
       "6                    7          4            True         January   \n",
       "7                    8          4            True        December   \n",
       "8                    9          6            True         January   \n",
       "9                   10          6            True        December   \n",
       "10                  11         10            True             May   \n",
       "11                  12         10            True         October   \n",
       "12                  13          9            True           March   \n",
       "13                  14          9            True         October   \n",
       "14                  15         12            True             May   \n",
       "15                  16         12            True         October   \n",
       "16                  17         11            True           March   \n",
       "17                  18         11            True         October   \n",
       "18                  21         14            True           April   \n",
       "19                  22         14            True        November   \n",
       "20                  23         16           False             May   \n",
       "21                  24         16           False       September   \n",
       "22                  25         17            True           April   \n",
       "23                  26         17           False       September   \n",
       "24                  27         18           False             May   \n",
       "25                  28         18            True        November   \n",
       "26                  29         20            True         January   \n",
       "27                  30         20            True        December   \n",
       "28                  31         21           False             May   \n",
       "29                  32         21            True        November   \n",
       "30                  33         23            True         January   \n",
       "31                  34         23            True        December   \n",
       "32                  35         24           False             May   \n",
       "33                  36         24            True        November   \n",
       "34                 520         37            True           April   \n",
       "35                 521         37            True            June   \n",
       "36                 522         38            True           April   \n",
       "37                 523         38            True           March   \n",
       "\n",
       "    date_ref_day_number day_name_desc day_rank_id  date_type_id  \n",
       "0                   1.0          None        None             1  \n",
       "1                  31.0          None        None             2  \n",
       "2                   1.0          None        None             1  \n",
       "3                   1.0          None        None             2  \n",
       "4                   1.0          None        None             1  \n",
       "5                  31.0          None        None             2  \n",
       "6                   1.0          None        None             1  \n",
       "7                  31.0          None        None             2  \n",
       "8                   1.0          None        None             1  \n",
       "9                  31.0          None        None             2  \n",
       "10                  1.0          None        None             1  \n",
       "11                  1.0          None        None             2  \n",
       "12                  1.0          None        None             1  \n",
       "13                 31.0          None        None             2  \n",
       "14                  1.0          None        None             1  \n",
       "15                  1.0          None        None             2  \n",
       "16                  1.0          None        None             1  \n",
       "17                 31.0          None        None             2  \n",
       "18                 15.0          None        None             1  \n",
       "19                 15.0          None        None             2  \n",
       "20                  NaN        Monday        last             1  \n",
       "21                  NaN        Monday           1             2  \n",
       "22                 15.0          None        None             1  \n",
       "23                  NaN        Monday           1             2  \n",
       "24                  NaN        Monday        last             2  \n",
       "25                 15.0          None        None             1  \n",
       "26                  1.0          None        None             1  \n",
       "27                 31.0          None        None             2  \n",
       "28                  NaN        Monday        last             1  \n",
       "29                 15.0          None        None             2  \n",
       "30                  1.0          None        None             1  \n",
       "31                 31.0          None        None             2  \n",
       "32                  NaN        Monday        last             1  \n",
       "33                 15.0          None        None             2  \n",
       "34                  1.0          None        None             1  \n",
       "35                 30.0          None        None             2  \n",
       "36                  1.0          None        None             1  \n",
       "37                 30.0          None        None             2  "
      ]
     },
     "execution_count": 44,
     "metadata": {},
     "output_type": "execute_result"
    }
   ],
   "source": [
    "before_season_definition"
   ]
  },
  {
   "cell_type": "code",
   "execution_count": 45,
   "metadata": {},
   "outputs": [],
   "source": [
    "descriptions.append(\n",
    "    '''For year-round seasons, test that 'date_ref_fixed'==1,\\\n",
    "    and start/end dates are Jan 1/Dec 31 ''')"
   ]
  },
  {
   "cell_type": "code",
   "execution_count": 46,
   "metadata": {},
   "outputs": [
    {
     "data": {
      "text/html": [
       "<div>\n",
       "<style scoped>\n",
       "    .dataframe tbody tr th:only-of-type {\n",
       "        vertical-align: middle;\n",
       "    }\n",
       "\n",
       "    .dataframe tbody tr th {\n",
       "        vertical-align: top;\n",
       "    }\n",
       "\n",
       "    .dataframe thead th {\n",
       "        text-align: right;\n",
       "    }\n",
       "</style>\n",
       "<table border=\"1\" class=\"dataframe\">\n",
       "  <thead>\n",
       "    <tr style=\"text-align: right;\">\n",
       "      <th></th>\n",
       "      <th>season_id</th>\n",
       "      <th>year_round</th>\n",
       "      <th>date_ref_fixed</th>\n",
       "      <th>month_name_desc</th>\n",
       "      <th>date_ref_day_number</th>\n",
       "      <th>date_type_id</th>\n",
       "    </tr>\n",
       "  </thead>\n",
       "  <tbody>\n",
       "    <tr>\n",
       "      <th>0</th>\n",
       "      <td>1</td>\n",
       "      <td>True</td>\n",
       "      <td>True</td>\n",
       "      <td>January</td>\n",
       "      <td>1.0</td>\n",
       "      <td>1</td>\n",
       "    </tr>\n",
       "    <tr>\n",
       "      <th>1</th>\n",
       "      <td>1</td>\n",
       "      <td>True</td>\n",
       "      <td>True</td>\n",
       "      <td>December</td>\n",
       "      <td>31.0</td>\n",
       "      <td>2</td>\n",
       "    </tr>\n",
       "    <tr>\n",
       "      <th>2</th>\n",
       "      <td>4</td>\n",
       "      <td>True</td>\n",
       "      <td>True</td>\n",
       "      <td>January</td>\n",
       "      <td>1.0</td>\n",
       "      <td>1</td>\n",
       "    </tr>\n",
       "    <tr>\n",
       "      <th>3</th>\n",
       "      <td>4</td>\n",
       "      <td>True</td>\n",
       "      <td>True</td>\n",
       "      <td>December</td>\n",
       "      <td>31.0</td>\n",
       "      <td>2</td>\n",
       "    </tr>\n",
       "    <tr>\n",
       "      <th>4</th>\n",
       "      <td>6</td>\n",
       "      <td>True</td>\n",
       "      <td>True</td>\n",
       "      <td>January</td>\n",
       "      <td>1.0</td>\n",
       "      <td>1</td>\n",
       "    </tr>\n",
       "    <tr>\n",
       "      <th>5</th>\n",
       "      <td>6</td>\n",
       "      <td>True</td>\n",
       "      <td>True</td>\n",
       "      <td>December</td>\n",
       "      <td>31.0</td>\n",
       "      <td>2</td>\n",
       "    </tr>\n",
       "    <tr>\n",
       "      <th>6</th>\n",
       "      <td>20</td>\n",
       "      <td>True</td>\n",
       "      <td>True</td>\n",
       "      <td>January</td>\n",
       "      <td>1.0</td>\n",
       "      <td>1</td>\n",
       "    </tr>\n",
       "    <tr>\n",
       "      <th>7</th>\n",
       "      <td>20</td>\n",
       "      <td>True</td>\n",
       "      <td>True</td>\n",
       "      <td>December</td>\n",
       "      <td>31.0</td>\n",
       "      <td>2</td>\n",
       "    </tr>\n",
       "    <tr>\n",
       "      <th>8</th>\n",
       "      <td>23</td>\n",
       "      <td>True</td>\n",
       "      <td>True</td>\n",
       "      <td>January</td>\n",
       "      <td>1.0</td>\n",
       "      <td>1</td>\n",
       "    </tr>\n",
       "    <tr>\n",
       "      <th>9</th>\n",
       "      <td>23</td>\n",
       "      <td>True</td>\n",
       "      <td>True</td>\n",
       "      <td>December</td>\n",
       "      <td>31.0</td>\n",
       "      <td>2</td>\n",
       "    </tr>\n",
       "  </tbody>\n",
       "</table>\n",
       "</div>"
      ],
      "text/plain": [
       "   season_id  year_round  date_ref_fixed month_name_desc  date_ref_day_number  \\\n",
       "0          1        True            True         January                  1.0   \n",
       "1          1        True            True        December                 31.0   \n",
       "2          4        True            True         January                  1.0   \n",
       "3          4        True            True        December                 31.0   \n",
       "4          6        True            True         January                  1.0   \n",
       "5          6        True            True        December                 31.0   \n",
       "6         20        True            True         January                  1.0   \n",
       "7         20        True            True        December                 31.0   \n",
       "8         23        True            True         January                  1.0   \n",
       "9         23        True            True        December                 31.0   \n",
       "\n",
       "   date_type_id  \n",
       "0             1  \n",
       "1             2  \n",
       "2             1  \n",
       "3             2  \n",
       "4             1  \n",
       "5             2  \n",
       "6             1  \n",
       "7             2  \n",
       "8             1  \n",
       "9             2  "
      ]
     },
     "execution_count": 46,
     "metadata": {},
     "output_type": "execute_result"
    }
   ],
   "source": [
    "temp_df = before_season_definition.merge(\n",
    "    before_sla_season[before_sla_season['year_round'] == True],\n",
    "    on='season_id')[[\n",
    "        'season_id', 'year_round', 'date_ref_fixed', 'month_name_desc',\n",
    "        'date_ref_day_number', 'date_type_id'\n",
    "    ]]\n",
    "temp_df"
   ]
  },
  {
   "cell_type": "code",
   "execution_count": 47,
   "metadata": {},
   "outputs": [
    {
     "data": {
      "text/plain": [
       "True"
      ]
     },
     "execution_count": 47,
     "metadata": {},
     "output_type": "execute_result"
    }
   ],
   "source": [
    "len(temp_df)==len(temp_df[((temp_df['date_type_id'] == 1)\n",
    "         & (temp_df['month_name_desc'] == 'January')\n",
    "         & (temp_df['date_ref_day_number'] == 1)) &\n",
    "        (temp_df['date_ref_fixed'] == 1) |\n",
    "        ((temp_df['date_type_id'] == 2)\n",
    "         & (temp_df['month_name_desc'] == 'December')\n",
    "        & (temp_df['date_ref_day_number'] == 31)) &\n",
    "        (temp_df['date_ref_fixed'] == 1)])"
   ]
  },
  {
   "cell_type": "code",
   "execution_count": 48,
   "metadata": {},
   "outputs": [],
   "source": [
    "results.append(\n",
    "    len(temp_df) == len(temp_df[((temp_df['date_type_id'] == 1)\n",
    "                                 & (temp_df['month_name_desc'] == 'January')\n",
    "                                 & (temp_df['date_ref_day_number'] == 1))\n",
    "                                & (temp_df['date_ref_fixed'] == 1)\n",
    "                                | ((temp_df['date_type_id'] == 2)\n",
    "                                   & (temp_df['month_name_desc'] == 'December')\n",
    "                                   & (temp_df['date_ref_day_number'] == 31))\n",
    "                                & (temp_df['date_ref_fixed'] == 1)]))"
   ]
  },
  {
   "cell_type": "markdown",
   "metadata": {},
   "source": [
    "### Seventh before test"
   ]
  },
  {
   "cell_type": "code",
   "execution_count": 49,
   "metadata": {},
   "outputs": [],
   "source": [
    "timing.append('before')"
   ]
  },
  {
   "cell_type": "code",
   "execution_count": 50,
   "metadata": {},
   "outputs": [],
   "source": [
    "descriptions.append(\n",
    "    '''For year-round seasons, test that 'effective_start' in tbl_sla_season_date\\\n",
    "    is equal to 'effective_start' in tbl_sla_season ''')"
   ]
  },
  {
   "cell_type": "code",
   "execution_count": 51,
   "metadata": {},
   "outputs": [
    {
     "data": {
      "text/html": [
       "<div>\n",
       "<style scoped>\n",
       "    .dataframe tbody tr th:only-of-type {\n",
       "        vertical-align: middle;\n",
       "    }\n",
       "\n",
       "    .dataframe tbody tr th {\n",
       "        vertical-align: top;\n",
       "    }\n",
       "\n",
       "    .dataframe thead th {\n",
       "        text-align: right;\n",
       "    }\n",
       "</style>\n",
       "<table border=\"1\" class=\"dataframe\">\n",
       "  <thead>\n",
       "    <tr style=\"text-align: right;\">\n",
       "      <th></th>\n",
       "      <th>season_id</th>\n",
       "      <th>year_round</th>\n",
       "      <th>effective_start_x</th>\n",
       "      <th>effective_start_y</th>\n",
       "    </tr>\n",
       "  </thead>\n",
       "  <tbody>\n",
       "    <tr>\n",
       "      <th>0</th>\n",
       "      <td>1</td>\n",
       "      <td>True</td>\n",
       "      <td>2014-01-01</td>\n",
       "      <td>2014-01-01</td>\n",
       "    </tr>\n",
       "    <tr>\n",
       "      <th>1</th>\n",
       "      <td>4</td>\n",
       "      <td>True</td>\n",
       "      <td>2020-03-22</td>\n",
       "      <td>2020-03-22</td>\n",
       "    </tr>\n",
       "    <tr>\n",
       "      <th>2</th>\n",
       "      <td>6</td>\n",
       "      <td>True</td>\n",
       "      <td>2020-07-24</td>\n",
       "      <td>2020-07-24</td>\n",
       "    </tr>\n",
       "    <tr>\n",
       "      <th>3</th>\n",
       "      <td>20</td>\n",
       "      <td>True</td>\n",
       "      <td>2020-08-09</td>\n",
       "      <td>2020-08-09</td>\n",
       "    </tr>\n",
       "    <tr>\n",
       "      <th>4</th>\n",
       "      <td>23</td>\n",
       "      <td>True</td>\n",
       "      <td>2020-08-16</td>\n",
       "      <td>2020-08-16</td>\n",
       "    </tr>\n",
       "  </tbody>\n",
       "</table>\n",
       "</div>"
      ],
      "text/plain": [
       "   season_id  year_round effective_start_x effective_start_y\n",
       "0          1        True        2014-01-01        2014-01-01\n",
       "1          4        True        2020-03-22        2020-03-22\n",
       "2          6        True        2020-07-24        2020-07-24\n",
       "3         20        True        2020-08-09        2020-08-09\n",
       "4         23        True        2020-08-16        2020-08-16"
      ]
     },
     "execution_count": 51,
     "metadata": {},
     "output_type": "execute_result"
    }
   ],
   "source": [
    "temp_df = before_season_date.merge(\n",
    "    before_sla_season[before_sla_season['year_round'] == True],\n",
    "    on='season_id')[[\n",
    "        'season_id', 'year_round', 'effective_start_x', 'effective_start_y'\n",
    "    ]]\n",
    "temp_df"
   ]
  },
  {
   "cell_type": "code",
   "execution_count": 52,
   "metadata": {},
   "outputs": [],
   "source": [
    "results.append(\n",
    "    len(temp_df) == len(temp_df[temp_df['effective_start_x'] ==\n",
    "                                temp_df['effective_start_y']]))"
   ]
  },
  {
   "cell_type": "markdown",
   "metadata": {},
   "source": [
    "### Eighth before test"
   ]
  },
  {
   "cell_type": "code",
   "execution_count": 53,
   "metadata": {},
   "outputs": [],
   "source": [
    "timing.append('before')"
   ]
  },
  {
   "cell_type": "code",
   "execution_count": 54,
   "metadata": {},
   "outputs": [],
   "source": [
    "descriptions.append(\n",
    "    '''For periodic seasons, test that the earliest 'effective_start' for each season\\\n",
    "    in tbl_sla_season_date is equal to 'effective_start' in tbl_sla_season ''')"
   ]
  },
  {
   "cell_type": "code",
   "execution_count": 55,
   "metadata": {},
   "outputs": [
    {
     "data": {
      "text/html": [
       "<div>\n",
       "<style scoped>\n",
       "    .dataframe tbody tr th:only-of-type {\n",
       "        vertical-align: middle;\n",
       "    }\n",
       "\n",
       "    .dataframe tbody tr th {\n",
       "        vertical-align: top;\n",
       "    }\n",
       "\n",
       "    .dataframe thead th {\n",
       "        text-align: right;\n",
       "    }\n",
       "</style>\n",
       "<table border=\"1\" class=\"dataframe\">\n",
       "  <thead>\n",
       "    <tr style=\"text-align: right;\">\n",
       "      <th></th>\n",
       "      <th>year_round</th>\n",
       "      <th>effective_start_x</th>\n",
       "      <th>effective_start_y</th>\n",
       "    </tr>\n",
       "    <tr>\n",
       "      <th>season_id</th>\n",
       "      <th></th>\n",
       "      <th></th>\n",
       "      <th></th>\n",
       "    </tr>\n",
       "  </thead>\n",
       "  <tbody>\n",
       "    <tr>\n",
       "      <th>2</th>\n",
       "      <td>False</td>\n",
       "      <td>2019-07-01</td>\n",
       "      <td>2019-07-01</td>\n",
       "    </tr>\n",
       "    <tr>\n",
       "      <th>3</th>\n",
       "      <td>False</td>\n",
       "      <td>2019-07-01</td>\n",
       "      <td>2019-07-01</td>\n",
       "    </tr>\n",
       "    <tr>\n",
       "      <th>9</th>\n",
       "      <td>False</td>\n",
       "      <td>2020-07-26</td>\n",
       "      <td>2020-07-26</td>\n",
       "    </tr>\n",
       "    <tr>\n",
       "      <th>10</th>\n",
       "      <td>False</td>\n",
       "      <td>2020-07-26</td>\n",
       "      <td>2020-07-26</td>\n",
       "    </tr>\n",
       "    <tr>\n",
       "      <th>11</th>\n",
       "      <td>False</td>\n",
       "      <td>2020-08-09</td>\n",
       "      <td>2020-08-09</td>\n",
       "    </tr>\n",
       "    <tr>\n",
       "      <th>12</th>\n",
       "      <td>False</td>\n",
       "      <td>2020-08-07</td>\n",
       "      <td>2020-08-07</td>\n",
       "    </tr>\n",
       "    <tr>\n",
       "      <th>14</th>\n",
       "      <td>False</td>\n",
       "      <td>2020-08-13</td>\n",
       "      <td>2020-08-13</td>\n",
       "    </tr>\n",
       "    <tr>\n",
       "      <th>16</th>\n",
       "      <td>False</td>\n",
       "      <td>2020-08-15</td>\n",
       "      <td>2020-08-15</td>\n",
       "    </tr>\n",
       "    <tr>\n",
       "      <th>17</th>\n",
       "      <td>False</td>\n",
       "      <td>2020-08-16</td>\n",
       "      <td>2020-08-16</td>\n",
       "    </tr>\n",
       "    <tr>\n",
       "      <th>18</th>\n",
       "      <td>False</td>\n",
       "      <td>2020-08-09</td>\n",
       "      <td>2020-08-09</td>\n",
       "    </tr>\n",
       "    <tr>\n",
       "      <th>21</th>\n",
       "      <td>False</td>\n",
       "      <td>2020-08-09</td>\n",
       "      <td>2020-08-09</td>\n",
       "    </tr>\n",
       "    <tr>\n",
       "      <th>24</th>\n",
       "      <td>False</td>\n",
       "      <td>2020-08-16</td>\n",
       "      <td>2020-08-16</td>\n",
       "    </tr>\n",
       "    <tr>\n",
       "      <th>37</th>\n",
       "      <td>False</td>\n",
       "      <td>2020-08-16</td>\n",
       "      <td>2020-08-16</td>\n",
       "    </tr>\n",
       "    <tr>\n",
       "      <th>38</th>\n",
       "      <td>False</td>\n",
       "      <td>2020-09-03</td>\n",
       "      <td>2020-09-03</td>\n",
       "    </tr>\n",
       "  </tbody>\n",
       "</table>\n",
       "</div>"
      ],
      "text/plain": [
       "           year_round effective_start_x effective_start_y\n",
       "season_id                                                \n",
       "2               False        2019-07-01        2019-07-01\n",
       "3               False        2019-07-01        2019-07-01\n",
       "9               False        2020-07-26        2020-07-26\n",
       "10              False        2020-07-26        2020-07-26\n",
       "11              False        2020-08-09        2020-08-09\n",
       "12              False        2020-08-07        2020-08-07\n",
       "14              False        2020-08-13        2020-08-13\n",
       "16              False        2020-08-15        2020-08-15\n",
       "17              False        2020-08-16        2020-08-16\n",
       "18              False        2020-08-09        2020-08-09\n",
       "21              False        2020-08-09        2020-08-09\n",
       "24              False        2020-08-16        2020-08-16\n",
       "37              False        2020-08-16        2020-08-16\n",
       "38              False        2020-09-03        2020-09-03"
      ]
     },
     "execution_count": 55,
     "metadata": {},
     "output_type": "execute_result"
    }
   ],
   "source": [
    "temp_df = before_season_date.merge(\n",
    "    before_sla_season[before_sla_season['year_round'] == False],\n",
    "    on='season_id')[[\n",
    "        'season_id', 'year_round', 'effective_start_x', 'effective_start_y'\n",
    "    ]].sort_values(by='effective_start_x').groupby('season_id').first()\n",
    "temp_df"
   ]
  },
  {
   "cell_type": "code",
   "execution_count": 56,
   "metadata": {},
   "outputs": [],
   "source": [
    "results.append(\n",
    "    len(temp_df) == len(temp_df[temp_df['effective_start_x'] ==\n",
    "                                temp_df['effective_start_y']]))"
   ]
  },
  {
   "cell_type": "markdown",
   "metadata": {},
   "source": [
    "### Ninth before test"
   ]
  },
  {
   "cell_type": "code",
   "execution_count": 57,
   "metadata": {},
   "outputs": [],
   "source": [
    "timing.append('before')"
   ]
  },
  {
   "cell_type": "code",
   "execution_count": 58,
   "metadata": {},
   "outputs": [],
   "source": [
    "descriptions.append(\n",
    "    '''For periodic seasons, test that the latest 'effective_end' for each season\\\n",
    "    in tbl_sla_season_date is equal to 'effective_end' in tbl_sla_season or today +1year(if null) ''')"
   ]
  },
  {
   "cell_type": "code",
   "execution_count": 59,
   "metadata": {},
   "outputs": [
    {
     "data": {
      "text/html": [
       "<div>\n",
       "<style scoped>\n",
       "    .dataframe tbody tr th:only-of-type {\n",
       "        vertical-align: middle;\n",
       "    }\n",
       "\n",
       "    .dataframe tbody tr th {\n",
       "        vertical-align: top;\n",
       "    }\n",
       "\n",
       "    .dataframe thead th {\n",
       "        text-align: right;\n",
       "    }\n",
       "</style>\n",
       "<table border=\"1\" class=\"dataframe\">\n",
       "  <thead>\n",
       "    <tr style=\"text-align: right;\">\n",
       "      <th></th>\n",
       "      <th>year_round</th>\n",
       "      <th>effective_start_x</th>\n",
       "      <th>effective_end_x</th>\n",
       "      <th>effective_end_y</th>\n",
       "    </tr>\n",
       "    <tr>\n",
       "      <th>season_id</th>\n",
       "      <th></th>\n",
       "      <th></th>\n",
       "      <th></th>\n",
       "      <th></th>\n",
       "    </tr>\n",
       "  </thead>\n",
       "  <tbody>\n",
       "    <tr>\n",
       "      <th>2</th>\n",
       "      <td>False</td>\n",
       "      <td>2020-05-01</td>\n",
       "      <td>2020-07-25</td>\n",
       "      <td>2020-07-25</td>\n",
       "    </tr>\n",
       "    <tr>\n",
       "      <th>3</th>\n",
       "      <td>False</td>\n",
       "      <td>2020-03-01</td>\n",
       "      <td>2020-07-25</td>\n",
       "      <td>2020-07-25</td>\n",
       "    </tr>\n",
       "    <tr>\n",
       "      <th>9</th>\n",
       "      <td>False</td>\n",
       "      <td>2020-07-26</td>\n",
       "      <td>2020-08-08</td>\n",
       "      <td>2020-08-08</td>\n",
       "    </tr>\n",
       "    <tr>\n",
       "      <th>10</th>\n",
       "      <td>False</td>\n",
       "      <td>2020-07-26</td>\n",
       "      <td>2020-08-08</td>\n",
       "      <td>2020-08-08</td>\n",
       "    </tr>\n",
       "    <tr>\n",
       "      <th>11</th>\n",
       "      <td>False</td>\n",
       "      <td>2021-03-01</td>\n",
       "      <td>2021-09-03</td>\n",
       "      <td>NaT</td>\n",
       "    </tr>\n",
       "    <tr>\n",
       "      <th>12</th>\n",
       "      <td>False</td>\n",
       "      <td>2020-08-07</td>\n",
       "      <td>2020-08-15</td>\n",
       "      <td>2020-08-15</td>\n",
       "    </tr>\n",
       "    <tr>\n",
       "      <th>14</th>\n",
       "      <td>False</td>\n",
       "      <td>2021-04-15</td>\n",
       "      <td>2021-09-03</td>\n",
       "      <td>NaT</td>\n",
       "    </tr>\n",
       "    <tr>\n",
       "      <th>16</th>\n",
       "      <td>False</td>\n",
       "      <td>2021-05-31</td>\n",
       "      <td>2021-09-03</td>\n",
       "      <td>NaT</td>\n",
       "    </tr>\n",
       "    <tr>\n",
       "      <th>17</th>\n",
       "      <td>False</td>\n",
       "      <td>2021-04-15</td>\n",
       "      <td>2021-09-03</td>\n",
       "      <td>NaT</td>\n",
       "    </tr>\n",
       "    <tr>\n",
       "      <th>18</th>\n",
       "      <td>False</td>\n",
       "      <td>2021-06-01</td>\n",
       "      <td>2021-09-03</td>\n",
       "      <td>NaT</td>\n",
       "    </tr>\n",
       "    <tr>\n",
       "      <th>21</th>\n",
       "      <td>False</td>\n",
       "      <td>2020-08-09</td>\n",
       "      <td>2020-08-15</td>\n",
       "      <td>2020-08-15</td>\n",
       "    </tr>\n",
       "    <tr>\n",
       "      <th>24</th>\n",
       "      <td>False</td>\n",
       "      <td>2021-05-31</td>\n",
       "      <td>2021-09-03</td>\n",
       "      <td>NaT</td>\n",
       "    </tr>\n",
       "    <tr>\n",
       "      <th>37</th>\n",
       "      <td>False</td>\n",
       "      <td>2021-07-01</td>\n",
       "      <td>2021-09-03</td>\n",
       "      <td>NaT</td>\n",
       "    </tr>\n",
       "    <tr>\n",
       "      <th>38</th>\n",
       "      <td>False</td>\n",
       "      <td>2020-09-03</td>\n",
       "      <td>2021-09-03</td>\n",
       "      <td>NaT</td>\n",
       "    </tr>\n",
       "  </tbody>\n",
       "</table>\n",
       "</div>"
      ],
      "text/plain": [
       "           year_round effective_start_x effective_end_x effective_end_y\n",
       "season_id                                                              \n",
       "2               False        2020-05-01      2020-07-25      2020-07-25\n",
       "3               False        2020-03-01      2020-07-25      2020-07-25\n",
       "9               False        2020-07-26      2020-08-08      2020-08-08\n",
       "10              False        2020-07-26      2020-08-08      2020-08-08\n",
       "11              False        2021-03-01      2021-09-03             NaT\n",
       "12              False        2020-08-07      2020-08-15      2020-08-15\n",
       "14              False        2021-04-15      2021-09-03             NaT\n",
       "16              False        2021-05-31      2021-09-03             NaT\n",
       "17              False        2021-04-15      2021-09-03             NaT\n",
       "18              False        2021-06-01      2021-09-03             NaT\n",
       "21              False        2020-08-09      2020-08-15      2020-08-15\n",
       "24              False        2021-05-31      2021-09-03             NaT\n",
       "37              False        2021-07-01      2021-09-03             NaT\n",
       "38              False        2020-09-03      2021-09-03             NaT"
      ]
     },
     "execution_count": 59,
     "metadata": {},
     "output_type": "execute_result"
    }
   ],
   "source": [
    "temp_df = before_season_date.merge(\n",
    "    before_sla_season[before_sla_season['year_round'] == False],\n",
    "    on='season_id')[[\n",
    "        'season_id', 'year_round', 'effective_start_x', 'effective_end_x', 'effective_end_y'\n",
    "    ]].sort_values(by='effective_start_x').groupby('season_id').last()\n",
    "temp_df"
   ]
  },
  {
   "cell_type": "code",
   "execution_count": 60,
   "metadata": {},
   "outputs": [],
   "source": [
    "two_conditions = []"
   ]
  },
  {
   "cell_type": "code",
   "execution_count": 61,
   "metadata": {},
   "outputs": [],
   "source": [
    "two_conditions.append(len(temp_df[~pd.isnull(temp_df['effective_end_y'])]) == len(\n",
    "    temp_df[(~pd.isnull(temp_df['effective_end_y']))\n",
    "            & (temp_df['effective_end_x'] == temp_df['effective_end_y'])]))"
   ]
  },
  {
   "cell_type": "code",
   "execution_count": 62,
   "metadata": {},
   "outputs": [],
   "source": [
    "two_conditions.append(\n",
    "    len(temp_df[pd.isnull(temp_df['effective_end_y'])]) == len(temp_df[\n",
    "        (pd.isnull(temp_df['effective_end_y']))\n",
    "        & (temp_df['effective_end_x'] == datetime.datetime(\n",
    "            today.year + 1, today.month, today.day))]))"
   ]
  },
  {
   "cell_type": "code",
   "execution_count": 63,
   "metadata": {},
   "outputs": [],
   "source": [
    "results.append(False not in two_conditions)"
   ]
  },
  {
   "cell_type": "markdown",
   "metadata": {},
   "source": [
    "## Make Updates"
   ]
  },
  {
   "cell_type": "code",
   "execution_count": 604,
   "metadata": {},
   "outputs": [],
   "source": [
    "ninserts = 2"
   ]
  },
  {
   "cell_type": "code",
   "execution_count": 605,
   "metadata": {},
   "outputs": [],
   "source": [
    "sla_id = [x for x in string.ascii_uppercase if x not in(before_distinct_sla_id.values)]"
   ]
  },
  {
   "cell_type": "code",
   "execution_count": 606,
   "metadata": {},
   "outputs": [],
   "source": [
    "sla_inserts = [[x, 'Testing new SLA: '+ x, 1, 2] for x in sla_id]"
   ]
  },
  {
   "cell_type": "code",
   "execution_count": 607,
   "metadata": {},
   "outputs": [],
   "source": [
    "sla_inserts_df = pd.DataFrame(sla_inserts[0:ninserts], \n",
    "                              columns = ['sla_id', 'sla_desc', 'sla_min_days', 'sla_max_days'])"
   ]
  },
  {
   "cell_type": "code",
   "execution_count": 608,
   "metadata": {},
   "outputs": [
    {
     "data": {
      "text/html": [
       "<div>\n",
       "<style scoped>\n",
       "    .dataframe tbody tr th:only-of-type {\n",
       "        vertical-align: middle;\n",
       "    }\n",
       "\n",
       "    .dataframe tbody tr th {\n",
       "        vertical-align: top;\n",
       "    }\n",
       "\n",
       "    .dataframe thead th {\n",
       "        text-align: right;\n",
       "    }\n",
       "</style>\n",
       "<table border=\"1\" class=\"dataframe\">\n",
       "  <thead>\n",
       "    <tr style=\"text-align: right;\">\n",
       "      <th></th>\n",
       "      <th>sla_id</th>\n",
       "      <th>sla_desc</th>\n",
       "      <th>sla_min_days</th>\n",
       "      <th>sla_max_days</th>\n",
       "    </tr>\n",
       "  </thead>\n",
       "  <tbody>\n",
       "    <tr>\n",
       "      <th>0</th>\n",
       "      <td>G</td>\n",
       "      <td>Testing new SLA: G</td>\n",
       "      <td>1</td>\n",
       "      <td>2</td>\n",
       "    </tr>\n",
       "    <tr>\n",
       "      <th>1</th>\n",
       "      <td>H</td>\n",
       "      <td>Testing new SLA: H</td>\n",
       "      <td>1</td>\n",
       "      <td>2</td>\n",
       "    </tr>\n",
       "  </tbody>\n",
       "</table>\n",
       "</div>"
      ],
      "text/plain": [
       "  sla_id            sla_desc  sla_min_days  sla_max_days\n",
       "0      G  Testing new SLA: G             1             2\n",
       "1      H  Testing new SLA: H             1             2"
      ]
     },
     "execution_count": 608,
     "metadata": {},
     "output_type": "execute_result"
    }
   ],
   "source": [
    "sla_inserts_df"
   ]
  },
  {
   "cell_type": "code",
   "execution_count": 609,
   "metadata": {},
   "outputs": [],
   "source": [
    "# sla_inserts_df.to_sql('tbl_ref_sla', con = engine, index = False, if_exists = 'append')"
   ]
  },
  {
   "cell_type": "markdown",
   "metadata": {},
   "source": [
    "## Execute all of the sql queries AFTER UPDATES and store the results"
   ]
  },
  {
   "cell_type": "code",
   "execution_count": 8,
   "metadata": {},
   "outputs": [],
   "source": [
    "after_sla_season = pd.read_sql(con = engine, sql = sql_sla_season)"
   ]
  },
  {
   "cell_type": "code",
   "execution_count": 9,
   "metadata": {},
   "outputs": [],
   "source": [
    "date_cols_season = [\n",
    "    'effective_start', 'effective_end', 'created_date_utc', 'updated_date_utc',\n",
    "    'effective_start_adj', 'effective_end_adj'\n",
    "]"
   ]
  },
  {
   "cell_type": "code",
   "execution_count": 11,
   "metadata": {},
   "outputs": [],
   "source": [
    "for i in date_cols_season:\n",
    "    after_sla_season[i] = pd.to_datetime(after_sla_season[i])"
   ]
  },
  {
   "cell_type": "code",
   "execution_count": 59,
   "metadata": {
    "scrolled": true
   },
   "outputs": [],
   "source": [
    "# before_sla_season.head()"
   ]
  },
  {
   "cell_type": "code",
   "execution_count": 13,
   "metadata": {},
   "outputs": [],
   "source": [
    "after_season_definition = pd.read_sql(con = engine, sql = sql_season_definition)"
   ]
  },
  {
   "cell_type": "code",
   "execution_count": 60,
   "metadata": {
    "scrolled": true
   },
   "outputs": [],
   "source": [
    "# before_season_definition.head()"
   ]
  },
  {
   "cell_type": "code",
   "execution_count": 15,
   "metadata": {},
   "outputs": [],
   "source": [
    "after_season_date = pd.read_sql(con = engine, sql = sql_season_date)"
   ]
  },
  {
   "cell_type": "code",
   "execution_count": 16,
   "metadata": {},
   "outputs": [],
   "source": [
    "date_cols_season_date = [\n",
    "    'effective_start', 'effective_end', 'effective_start_adj',\n",
    "    'effective_end_adj'\n",
    "]"
   ]
  },
  {
   "cell_type": "code",
   "execution_count": 17,
   "metadata": {},
   "outputs": [],
   "source": [
    "for i in date_cols_season_date:\n",
    "    after_season_date[i] = pd.to_datetime(after_season_date[i])"
   ]
  },
  {
   "cell_type": "code",
   "execution_count": 61,
   "metadata": {
    "scrolled": false
   },
   "outputs": [],
   "source": [
    "# after_season_date.head()"
   ]
  },
  {
   "cell_type": "markdown",
   "metadata": {},
   "source": [
    "## List of tuples with final test results"
   ]
  },
  {
   "cell_type": "code",
   "execution_count": 85,
   "metadata": {},
   "outputs": [
    {
     "data": {
      "text/plain": [
       "[('before',\n",
       "  \"Ensure that 'effective'==1 for every season that has 'effective_end_date'==null\",\n",
       "  True),\n",
       " ('before',\n",
       "  \"Test that 'effective_end_adj' is after today if 'effective'==1 AND 'effective_end' != null in tbl_sla_season\",\n",
       "  True),\n",
       " ('before',\n",
       "  'Test that every season in tbl_sla_season has exactly twoentries in tbl_ref_sla_season_definition',\n",
       "  False),\n",
       " ('before',\n",
       "  \"Test that in tbl_ref_sla_season_definition if 'date_ref_fixed'==True,then columns 'month_name_desc' and 'date_ref_day_number' are not null \",\n",
       "  True),\n",
       " ('before',\n",
       "  \"Test that in tbl_ref_sla_season_definition if 'date_ref_fixed'==False,then columns 'month_name_desc' and 'day_name_desc' and 'day_rank_id' are not null \",\n",
       "  True),\n",
       " ('before',\n",
       "  \"For year-round seasons, test that 'effective_start' in tbl_sla_season_date    is equal to 'effective_start' in tbl_sla_season' \",\n",
       "  True),\n",
       " ('before',\n",
       "  \"For periodic seasons, test that the earliest 'effective_start' for each season    in tbl_sla_season_date is equal to 'effective_start' in tbl_sla_season \",\n",
       "  True)]"
      ]
     },
     "execution_count": 85,
     "metadata": {},
     "output_type": "execute_result"
    }
   ],
   "source": [
    "list(zip(timing, descriptions, results))"
   ]
  },
  {
   "cell_type": "code",
   "execution_count": 64,
   "metadata": {
    "scrolled": false
   },
   "outputs": [
    {
     "data": {
      "text/html": [
       "<div>\n",
       "<style scoped>\n",
       "    .dataframe tbody tr th:only-of-type {\n",
       "        vertical-align: middle;\n",
       "    }\n",
       "\n",
       "    .dataframe tbody tr th {\n",
       "        vertical-align: top;\n",
       "    }\n",
       "\n",
       "    .dataframe thead th {\n",
       "        text-align: right;\n",
       "    }\n",
       "</style>\n",
       "<table border=\"1\" class=\"dataframe\">\n",
       "  <thead>\n",
       "    <tr style=\"text-align: right;\">\n",
       "      <th></th>\n",
       "      <th>test_desc</th>\n",
       "      <th>before/after</th>\n",
       "      <th>result</th>\n",
       "    </tr>\n",
       "  </thead>\n",
       "  <tbody>\n",
       "    <tr>\n",
       "      <th>0</th>\n",
       "      <td>before</td>\n",
       "      <td>Ensure that 'effective'==1 for every season th...</td>\n",
       "      <td>False</td>\n",
       "    </tr>\n",
       "    <tr>\n",
       "      <th>1</th>\n",
       "      <td>before</td>\n",
       "      <td>Test that 'effective_end_adj' is after today i...</td>\n",
       "      <td>True</td>\n",
       "    </tr>\n",
       "    <tr>\n",
       "      <th>2</th>\n",
       "      <td>before</td>\n",
       "      <td>Test that every season in tbl_sla_season has e...</td>\n",
       "      <td>True</td>\n",
       "    </tr>\n",
       "    <tr>\n",
       "      <th>3</th>\n",
       "      <td>before</td>\n",
       "      <td>Test that in tbl_ref_sla_season_definition if ...</td>\n",
       "      <td>True</td>\n",
       "    </tr>\n",
       "    <tr>\n",
       "      <th>4</th>\n",
       "      <td>before</td>\n",
       "      <td>Test that in tbl_ref_sla_season_definition if ...</td>\n",
       "      <td>True</td>\n",
       "    </tr>\n",
       "    <tr>\n",
       "      <th>5</th>\n",
       "      <td>before</td>\n",
       "      <td>For year-round seasons, test that 'date_ref_fi...</td>\n",
       "      <td>True</td>\n",
       "    </tr>\n",
       "    <tr>\n",
       "      <th>6</th>\n",
       "      <td>before</td>\n",
       "      <td>For year-round seasons, test that 'effective_s...</td>\n",
       "      <td>True</td>\n",
       "    </tr>\n",
       "    <tr>\n",
       "      <th>7</th>\n",
       "      <td>before</td>\n",
       "      <td>For periodic seasons, test that the earliest '...</td>\n",
       "      <td>True</td>\n",
       "    </tr>\n",
       "    <tr>\n",
       "      <th>8</th>\n",
       "      <td>before</td>\n",
       "      <td>For periodic seasons, test that the latest 'ef...</td>\n",
       "      <td>True</td>\n",
       "    </tr>\n",
       "  </tbody>\n",
       "</table>\n",
       "</div>"
      ],
      "text/plain": [
       "  test_desc                                       before/after  result\n",
       "0    before  Ensure that 'effective'==1 for every season th...   False\n",
       "1    before  Test that 'effective_end_adj' is after today i...    True\n",
       "2    before  Test that every season in tbl_sla_season has e...    True\n",
       "3    before  Test that in tbl_ref_sla_season_definition if ...    True\n",
       "4    before  Test that in tbl_ref_sla_season_definition if ...    True\n",
       "5    before  For year-round seasons, test that 'date_ref_fi...    True\n",
       "6    before  For year-round seasons, test that 'effective_s...    True\n",
       "7    before  For periodic seasons, test that the earliest '...    True\n",
       "8    before  For periodic seasons, test that the latest 'ef...    True"
      ]
     },
     "execution_count": 64,
     "metadata": {},
     "output_type": "execute_result"
    }
   ],
   "source": [
    "pd.DataFrame(list(zip(timing, descriptions, results)), columns = {'before/after', 'test_desc', 'result'})             "
   ]
  },
  {
   "cell_type": "code",
   "execution_count": null,
   "metadata": {},
   "outputs": [],
   "source": []
  }
 ],
 "metadata": {
  "kernelspec": {
   "display_name": "Python 3",
   "language": "python",
   "name": "python3"
  },
  "language_info": {
   "codemirror_mode": {
    "name": "ipython",
    "version": 3
   },
   "file_extension": ".py",
   "mimetype": "text/x-python",
   "name": "python",
   "nbconvert_exporter": "python",
   "pygments_lexer": "ipython3",
   "version": "3.7.3"
  },
  "toc": {
   "base_numbering": 1,
   "nav_menu": {},
   "number_sections": true,
   "sideBar": true,
   "skip_h1_title": false,
   "title_cell": "Table of Contents",
   "title_sidebar": "Contents",
   "toc_cell": false,
   "toc_position": {
    "height": "calc(100% - 180px)",
    "left": "10px",
    "top": "150px",
    "width": "238.594px"
   },
   "toc_section_display": true,
   "toc_window_display": true
  }
 },
 "nbformat": 4,
 "nbformat_minor": 2
}
