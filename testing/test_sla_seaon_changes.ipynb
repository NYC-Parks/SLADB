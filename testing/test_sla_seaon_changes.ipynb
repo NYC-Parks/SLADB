{
 "cells": [
  {
   "cell_type": "code",
   "execution_count": 35,
   "metadata": {},
   "outputs": [],
   "source": [
    "import sys\n",
    "import pandas as pd\n",
    "import numpy as np\n",
    "import urllib\n",
    "import sqlalchemy\n",
    "import string\n",
    "import datetime"
   ]
  },
  {
   "cell_type": "code",
   "execution_count": 2,
   "metadata": {},
   "outputs": [],
   "source": [
    "#Import shared functions\n",
    "sys.path.append('..\\..')\n",
    "from IPM_Shared_Code_public.Python.utils import get_config"
   ]
  },
  {
   "cell_type": "code",
   "execution_count": 3,
   "metadata": {},
   "outputs": [],
   "source": [
    "config = get_config('c:\\Projects\\config.ini')\n",
    "\n",
    "driver = config['srv']['driver']\n",
    "server = config['srv']['dev_server']\n",
    "sladb = config['db']['sladb']"
   ]
  },
  {
   "cell_type": "code",
   "execution_count": 4,
   "metadata": {},
   "outputs": [],
   "source": [
    "con_string = 'Driver={' + driver + '};Server=' + server +';Database=' + sladb + ';Trusted_Connection=Yes;'\n",
    "params = urllib.parse.quote_plus(con_string)\n",
    "engine = sqlalchemy.create_engine(\"mssql+pyodbc:///?odbc_connect=%s\" % params)"
   ]
  },
  {
   "cell_type": "markdown",
   "metadata": {},
   "source": [
    "## Write all of the sql queries required for the tests"
   ]
  },
  {
   "cell_type": "code",
   "execution_count": 10,
   "metadata": {},
   "outputs": [],
   "source": [
    "sql_sla_season = 'select * from sladb.dbo.tbl_sla_season'"
   ]
  },
  {
   "cell_type": "code",
   "execution_count": 16,
   "metadata": {},
   "outputs": [],
   "source": [
    "sql_season_definition = 'select * from sladb.dbo.tbl_ref_sla_season_definition'"
   ]
  },
  {
   "cell_type": "code",
   "execution_count": 20,
   "metadata": {},
   "outputs": [],
   "source": [
    "sql_season_date = 'select * from sladb.dbo.tbl_sla_season_date'"
   ]
  },
  {
   "cell_type": "markdown",
   "metadata": {},
   "source": [
    "## Execute all of the sql queries and store the results"
   ]
  },
  {
   "cell_type": "code",
   "execution_count": 13,
   "metadata": {},
   "outputs": [],
   "source": [
    "before_sla_season = pd.read_sql(con = engine, sql = sql_sla_season)"
   ]
  },
  {
   "cell_type": "code",
   "execution_count": 36,
   "metadata": {
    "scrolled": true
   },
   "outputs": [
    {
     "data": {
      "text/html": [
       "<div>\n",
       "<style scoped>\n",
       "    .dataframe tbody tr th:only-of-type {\n",
       "        vertical-align: middle;\n",
       "    }\n",
       "\n",
       "    .dataframe tbody tr th {\n",
       "        vertical-align: top;\n",
       "    }\n",
       "\n",
       "    .dataframe thead th {\n",
       "        text-align: right;\n",
       "    }\n",
       "</style>\n",
       "<table border=\"1\" class=\"dataframe\">\n",
       "  <thead>\n",
       "    <tr style=\"text-align: right;\">\n",
       "      <th></th>\n",
       "      <th>season_id</th>\n",
       "      <th>season_desc</th>\n",
       "      <th>year_round</th>\n",
       "      <th>effective</th>\n",
       "      <th>effective_end</th>\n",
       "      <th>effective_start</th>\n",
       "      <th>created_date_utc</th>\n",
       "      <th>updated_date_utc</th>\n",
       "      <th>effective_start_adj</th>\n",
       "      <th>effective_end_adj</th>\n",
       "    </tr>\n",
       "  </thead>\n",
       "  <tbody>\n",
       "    <tr>\n",
       "      <th>0</th>\n",
       "      <td>1</td>\n",
       "      <td>Year-round, not seasonal</td>\n",
       "      <td>True</td>\n",
       "      <td>False</td>\n",
       "      <td>2020-07-24</td>\n",
       "      <td>2014-01-01</td>\n",
       "      <td>2020-03-03 19:12:12.710</td>\n",
       "      <td>2020-07-28 20:16:56.850</td>\n",
       "      <td>2014-01-05</td>\n",
       "      <td>2020-07-25</td>\n",
       "    </tr>\n",
       "    <tr>\n",
       "      <th>1</th>\n",
       "      <td>2</td>\n",
       "      <td>Beaches, etc.</td>\n",
       "      <td>False</td>\n",
       "      <td>False</td>\n",
       "      <td>2020-07-25</td>\n",
       "      <td>2019-07-01</td>\n",
       "      <td>2020-03-03 19:12:12.723</td>\n",
       "      <td>2020-07-29 12:39:31.760</td>\n",
       "      <td>2019-07-07</td>\n",
       "      <td>2020-07-25</td>\n",
       "    </tr>\n",
       "    <tr>\n",
       "      <th>2</th>\n",
       "      <td>3</td>\n",
       "      <td>Ballfields, etc.</td>\n",
       "      <td>False</td>\n",
       "      <td>False</td>\n",
       "      <td>2020-07-25</td>\n",
       "      <td>2019-07-01</td>\n",
       "      <td>2020-03-03 19:12:12.723</td>\n",
       "      <td>2020-07-29 12:39:31.760</td>\n",
       "      <td>2019-07-07</td>\n",
       "      <td>2020-07-25</td>\n",
       "    </tr>\n",
       "    <tr>\n",
       "      <th>3</th>\n",
       "      <td>4</td>\n",
       "      <td>NY Pause, COVID-19 Pandemic</td>\n",
       "      <td>True</td>\n",
       "      <td>False</td>\n",
       "      <td>2020-07-04</td>\n",
       "      <td>2020-03-22</td>\n",
       "      <td>2020-04-20 21:52:46.403</td>\n",
       "      <td>2020-07-01 15:20:36.193</td>\n",
       "      <td>2020-03-22</td>\n",
       "      <td>2020-07-04</td>\n",
       "    </tr>\n",
       "    <tr>\n",
       "      <th>4</th>\n",
       "      <td>6</td>\n",
       "      <td>New year round test season.</td>\n",
       "      <td>True</td>\n",
       "      <td>True</td>\n",
       "      <td>None</td>\n",
       "      <td>2020-07-24</td>\n",
       "      <td>2020-07-24 23:41:46.543</td>\n",
       "      <td>2020-07-28 18:31:55.867</td>\n",
       "      <td>2020-07-26</td>\n",
       "      <td>None</td>\n",
       "    </tr>\n",
       "  </tbody>\n",
       "</table>\n",
       "</div>"
      ],
      "text/plain": [
       "   season_id                  season_desc  year_round  effective  \\\n",
       "0          1     Year-round, not seasonal        True      False   \n",
       "1          2                Beaches, etc.       False      False   \n",
       "2          3             Ballfields, etc.       False      False   \n",
       "3          4  NY Pause, COVID-19 Pandemic        True      False   \n",
       "4          6  New year round test season.        True       True   \n",
       "\n",
       "  effective_end effective_start        created_date_utc  \\\n",
       "0    2020-07-24      2014-01-01 2020-03-03 19:12:12.710   \n",
       "1    2020-07-25      2019-07-01 2020-03-03 19:12:12.723   \n",
       "2    2020-07-25      2019-07-01 2020-03-03 19:12:12.723   \n",
       "3    2020-07-04      2020-03-22 2020-04-20 21:52:46.403   \n",
       "4          None      2020-07-24 2020-07-24 23:41:46.543   \n",
       "\n",
       "         updated_date_utc effective_start_adj effective_end_adj  \n",
       "0 2020-07-28 20:16:56.850          2014-01-05        2020-07-25  \n",
       "1 2020-07-29 12:39:31.760          2019-07-07        2020-07-25  \n",
       "2 2020-07-29 12:39:31.760          2019-07-07        2020-07-25  \n",
       "3 2020-07-01 15:20:36.193          2020-03-22        2020-07-04  \n",
       "4 2020-07-28 18:31:55.867          2020-07-26              None  "
      ]
     },
     "execution_count": 36,
     "metadata": {},
     "output_type": "execute_result"
    }
   ],
   "source": [
    "before_sla_season.head()"
   ]
  },
  {
   "cell_type": "code",
   "execution_count": 17,
   "metadata": {},
   "outputs": [],
   "source": [
    "before_season_definition = pd.read_sql(con = engine, sql = sql_season_definition)"
   ]
  },
  {
   "cell_type": "code",
   "execution_count": 37,
   "metadata": {
    "scrolled": true
   },
   "outputs": [
    {
     "data": {
      "text/html": [
       "<div>\n",
       "<style scoped>\n",
       "    .dataframe tbody tr th:only-of-type {\n",
       "        vertical-align: middle;\n",
       "    }\n",
       "\n",
       "    .dataframe tbody tr th {\n",
       "        vertical-align: top;\n",
       "    }\n",
       "\n",
       "    .dataframe thead th {\n",
       "        text-align: right;\n",
       "    }\n",
       "</style>\n",
       "<table border=\"1\" class=\"dataframe\">\n",
       "  <thead>\n",
       "    <tr style=\"text-align: right;\">\n",
       "      <th></th>\n",
       "      <th>season_date_ref_id</th>\n",
       "      <th>season_id</th>\n",
       "      <th>date_ref_fixed</th>\n",
       "      <th>month_name_desc</th>\n",
       "      <th>date_ref_day_number</th>\n",
       "      <th>day_name_desc</th>\n",
       "      <th>day_rank_id</th>\n",
       "      <th>date_type_id</th>\n",
       "    </tr>\n",
       "  </thead>\n",
       "  <tbody>\n",
       "    <tr>\n",
       "      <th>0</th>\n",
       "      <td>1</td>\n",
       "      <td>1</td>\n",
       "      <td>True</td>\n",
       "      <td>January</td>\n",
       "      <td>1.0</td>\n",
       "      <td>None</td>\n",
       "      <td>None</td>\n",
       "      <td>1</td>\n",
       "    </tr>\n",
       "    <tr>\n",
       "      <th>1</th>\n",
       "      <td>2</td>\n",
       "      <td>1</td>\n",
       "      <td>True</td>\n",
       "      <td>December</td>\n",
       "      <td>31.0</td>\n",
       "      <td>None</td>\n",
       "      <td>None</td>\n",
       "      <td>2</td>\n",
       "    </tr>\n",
       "    <tr>\n",
       "      <th>2</th>\n",
       "      <td>3</td>\n",
       "      <td>2</td>\n",
       "      <td>True</td>\n",
       "      <td>May</td>\n",
       "      <td>1.0</td>\n",
       "      <td>None</td>\n",
       "      <td>None</td>\n",
       "      <td>1</td>\n",
       "    </tr>\n",
       "    <tr>\n",
       "      <th>3</th>\n",
       "      <td>4</td>\n",
       "      <td>2</td>\n",
       "      <td>True</td>\n",
       "      <td>October</td>\n",
       "      <td>1.0</td>\n",
       "      <td>None</td>\n",
       "      <td>None</td>\n",
       "      <td>2</td>\n",
       "    </tr>\n",
       "    <tr>\n",
       "      <th>4</th>\n",
       "      <td>5</td>\n",
       "      <td>3</td>\n",
       "      <td>True</td>\n",
       "      <td>March</td>\n",
       "      <td>1.0</td>\n",
       "      <td>None</td>\n",
       "      <td>None</td>\n",
       "      <td>1</td>\n",
       "    </tr>\n",
       "  </tbody>\n",
       "</table>\n",
       "</div>"
      ],
      "text/plain": [
       "   season_date_ref_id  season_id  date_ref_fixed month_name_desc  \\\n",
       "0                   1          1            True         January   \n",
       "1                   2          1            True        December   \n",
       "2                   3          2            True             May   \n",
       "3                   4          2            True         October   \n",
       "4                   5          3            True           March   \n",
       "\n",
       "   date_ref_day_number day_name_desc day_rank_id  date_type_id  \n",
       "0                  1.0          None        None             1  \n",
       "1                 31.0          None        None             2  \n",
       "2                  1.0          None        None             1  \n",
       "3                  1.0          None        None             2  \n",
       "4                  1.0          None        None             1  "
      ]
     },
     "execution_count": 37,
     "metadata": {},
     "output_type": "execute_result"
    }
   ],
   "source": [
    "before_season_definition.head()"
   ]
  },
  {
   "cell_type": "code",
   "execution_count": 21,
   "metadata": {},
   "outputs": [],
   "source": [
    "before_season_date = pd.read_sql(con = engine, sql = sql_season_date)"
   ]
  },
  {
   "cell_type": "code",
   "execution_count": 38,
   "metadata": {
    "scrolled": true
   },
   "outputs": [
    {
     "data": {
      "text/html": [
       "<div>\n",
       "<style scoped>\n",
       "    .dataframe tbody tr th:only-of-type {\n",
       "        vertical-align: middle;\n",
       "    }\n",
       "\n",
       "    .dataframe tbody tr th {\n",
       "        vertical-align: top;\n",
       "    }\n",
       "\n",
       "    .dataframe thead th {\n",
       "        text-align: right;\n",
       "    }\n",
       "</style>\n",
       "<table border=\"1\" class=\"dataframe\">\n",
       "  <thead>\n",
       "    <tr style=\"text-align: right;\">\n",
       "      <th></th>\n",
       "      <th>season_date_id</th>\n",
       "      <th>season_id</th>\n",
       "      <th>effective_start</th>\n",
       "      <th>effective_end</th>\n",
       "      <th>date_category_id</th>\n",
       "      <th>effective_start_adj</th>\n",
       "      <th>effective_end_adj</th>\n",
       "    </tr>\n",
       "  </thead>\n",
       "  <tbody>\n",
       "    <tr>\n",
       "      <th>0</th>\n",
       "      <td>1</td>\n",
       "      <td>1</td>\n",
       "      <td>2014-01-01</td>\n",
       "      <td>2020-07-24</td>\n",
       "      <td>1</td>\n",
       "      <td>2014-01-05</td>\n",
       "      <td>2020-07-25</td>\n",
       "    </tr>\n",
       "    <tr>\n",
       "      <th>1</th>\n",
       "      <td>2</td>\n",
       "      <td>2</td>\n",
       "      <td>2019-07-01</td>\n",
       "      <td>2019-10-01</td>\n",
       "      <td>1</td>\n",
       "      <td>2019-07-07</td>\n",
       "      <td>2019-10-05</td>\n",
       "    </tr>\n",
       "    <tr>\n",
       "      <th>2</th>\n",
       "      <td>4</td>\n",
       "      <td>2</td>\n",
       "      <td>2020-05-01</td>\n",
       "      <td>2020-07-25</td>\n",
       "      <td>1</td>\n",
       "      <td>2020-05-03</td>\n",
       "      <td>2020-07-25</td>\n",
       "    </tr>\n",
       "    <tr>\n",
       "      <th>3</th>\n",
       "      <td>6</td>\n",
       "      <td>3</td>\n",
       "      <td>2019-07-01</td>\n",
       "      <td>2019-10-31</td>\n",
       "      <td>1</td>\n",
       "      <td>2019-07-07</td>\n",
       "      <td>2019-11-02</td>\n",
       "    </tr>\n",
       "    <tr>\n",
       "      <th>4</th>\n",
       "      <td>8</td>\n",
       "      <td>3</td>\n",
       "      <td>2020-03-01</td>\n",
       "      <td>2020-07-25</td>\n",
       "      <td>1</td>\n",
       "      <td>2020-03-01</td>\n",
       "      <td>2020-07-25</td>\n",
       "    </tr>\n",
       "  </tbody>\n",
       "</table>\n",
       "</div>"
      ],
      "text/plain": [
       "   season_date_id  season_id effective_start effective_end  date_category_id  \\\n",
       "0               1          1      2014-01-01    2020-07-24                 1   \n",
       "1               2          2      2019-07-01    2019-10-01                 1   \n",
       "2               4          2      2020-05-01    2020-07-25                 1   \n",
       "3               6          3      2019-07-01    2019-10-31                 1   \n",
       "4               8          3      2020-03-01    2020-07-25                 1   \n",
       "\n",
       "  effective_start_adj effective_end_adj  \n",
       "0          2014-01-05        2020-07-25  \n",
       "1          2019-07-07        2019-10-05  \n",
       "2          2020-05-03        2020-07-25  \n",
       "3          2019-07-07        2019-11-02  \n",
       "4          2020-03-01        2020-07-25  "
      ]
     },
     "execution_count": 38,
     "metadata": {},
     "output_type": "execute_result"
    }
   ],
   "source": [
    "before_season_date.head()"
   ]
  },
  {
   "cell_type": "code",
   "execution_count": null,
   "metadata": {},
   "outputs": [],
   "source": []
  },
  {
   "cell_type": "code",
   "execution_count": 29,
   "metadata": {},
   "outputs": [],
   "source": [
    "timing = []"
   ]
  },
  {
   "cell_type": "code",
   "execution_count": 30,
   "metadata": {},
   "outputs": [],
   "source": [
    "descriptions = []"
   ]
  },
  {
   "cell_type": "code",
   "execution_count": 31,
   "metadata": {},
   "outputs": [],
   "source": [
    "results = []"
   ]
  },
  {
   "cell_type": "markdown",
   "metadata": {},
   "source": [
    "## Before Tests"
   ]
  },
  {
   "cell_type": "markdown",
   "metadata": {},
   "source": [
    "### First before test"
   ]
  },
  {
   "cell_type": "code",
   "execution_count": 32,
   "metadata": {},
   "outputs": [],
   "source": [
    "timing.append('before')"
   ]
  },
  {
   "cell_type": "code",
   "execution_count": 33,
   "metadata": {},
   "outputs": [],
   "source": [
    "descriptions.append('''Ensure that 'effective'==1 for every season that has 'effective_end_date'==null''')"
   ]
  },
  {
   "cell_type": "code",
   "execution_count": 34,
   "metadata": {},
   "outputs": [],
   "source": [
    "results.append(\n",
    "    len(before_sla_season[(pd.isnull(before_sla_season['effective_end']))\n",
    "                          & (before_sla_season['effective'] == False)]) == 0)"
   ]
  },
  {
   "cell_type": "markdown",
   "metadata": {},
   "source": [
    "### Second before test"
   ]
  },
  {
   "cell_type": "code",
   "execution_count": 95,
   "metadata": {},
   "outputs": [],
   "source": [
    "timing.append('before')"
   ]
  },
  {
   "cell_type": "code",
   "execution_count": 96,
   "metadata": {},
   "outputs": [],
   "source": [
    "descriptions.append('''Test that 'effective_end_adj' is after today if \\\n",
    "'effective'==1 AND 'effective_end' != null in tbl_sla_season''')"
   ]
  },
  {
   "cell_type": "code",
   "execution_count": 52,
   "metadata": {},
   "outputs": [],
   "source": [
    "before_sla_season['effective_end_adj'] = pd.to_datetime(\n",
    "    before_sla_season['effective_end_adj'])"
   ]
  },
  {
   "cell_type": "code",
   "execution_count": 59,
   "metadata": {},
   "outputs": [],
   "source": [
    "today = datetime.datetime.today()"
   ]
  },
  {
   "cell_type": "code",
   "execution_count": 92,
   "metadata": {},
   "outputs": [],
   "source": [
    "temp_df = before_sla_season[(before_sla_season['effective'] == True)\n",
    "                  & (~pd.isnull(before_sla_season['effective_end']))].copy()"
   ]
  },
  {
   "cell_type": "code",
   "execution_count": 93,
   "metadata": {},
   "outputs": [],
   "source": [
    "results.append(len(temp_df[temp_df['effective_end_adj'] > today])==len(temp_df))"
   ]
  },
  {
   "cell_type": "markdown",
   "metadata": {},
   "source": [
    "### Third before test"
   ]
  },
  {
   "cell_type": "code",
   "execution_count": 105,
   "metadata": {},
   "outputs": [],
   "source": [
    "timing.append('before')"
   ]
  },
  {
   "cell_type": "code",
   "execution_count": 106,
   "metadata": {},
   "outputs": [],
   "source": [
    "descriptions.append('''Test that every season in tbl_sla_season has exactly two \\\n",
    "entries in tbl_ref_sla_season_definition''')"
   ]
  },
  {
   "cell_type": "code",
   "execution_count": 107,
   "metadata": {},
   "outputs": [],
   "source": [
    "entry_count = []\n",
    "for i in before_sla_season.season_id.values:\n",
    "    entry_count.append(len(before_season_definition[before_season_definition['season_id']==i])==2)"
   ]
  },
  {
   "cell_type": "code",
   "execution_count": 108,
   "metadata": {},
   "outputs": [],
   "source": [
    "results.append(False not in entry_count)"
   ]
  },
  {
   "cell_type": "markdown",
   "metadata": {},
   "source": [
    "### Fourth before test"
   ]
  },
  {
   "cell_type": "code",
   "execution_count": 593,
   "metadata": {},
   "outputs": [],
   "source": [
    "timing.append('before')"
   ]
  },
  {
   "cell_type": "code",
   "execution_count": 594,
   "metadata": {},
   "outputs": [],
   "source": [
    "descriptions.append('''Test that the count of records in tbl_ref_sla_translation \\\n",
    "is equal to the count of sla_codes in tbl_ref_sla_code multiplied by the number \\\n",
    "of date_category_ids in tbl_ref_sla_season_category''')"
   ]
  },
  {
   "cell_type": "code",
   "execution_count": 595,
   "metadata": {},
   "outputs": [],
   "source": [
    "results.append(\n",
    "    len(before_sla_translation) == (before_sla_code['n_sla_codes'].values[0] *\n",
    "                                    len(before_date_category)))"
   ]
  },
  {
   "cell_type": "markdown",
   "metadata": {},
   "source": [
    "### Fifth before test"
   ]
  },
  {
   "cell_type": "code",
   "execution_count": 596,
   "metadata": {},
   "outputs": [],
   "source": [
    "timing.append('before')"
   ]
  },
  {
   "cell_type": "code",
   "execution_count": 597,
   "metadata": {},
   "outputs": [],
   "source": [
    "descriptions.append('''Test the uniqueness of the rows in tbl_ref_sla_translation''')"
   ]
  },
  {
   "cell_type": "code",
   "execution_count": 598,
   "metadata": {},
   "outputs": [],
   "source": [
    "before_sla_translation_nodup = before_sla_translation.drop_duplicates()"
   ]
  },
  {
   "cell_type": "code",
   "execution_count": 599,
   "metadata": {},
   "outputs": [],
   "source": [
    "results.append(len(before_sla_translation) == len(before_sla_translation_nodup))"
   ]
  },
  {
   "cell_type": "markdown",
   "metadata": {
    "heading_collapsed": true
   },
   "source": [
    "### Sixth before test"
   ]
  },
  {
   "cell_type": "code",
   "execution_count": 600,
   "metadata": {
    "hidden": true
   },
   "outputs": [],
   "source": [
    "timing.append('before')"
   ]
  },
  {
   "cell_type": "code",
   "execution_count": 601,
   "metadata": {
    "hidden": true
   },
   "outputs": [],
   "source": [
    "descriptions.append(\n",
    "    '''Test that all sla_ids, sla_codes and date_category_ids have been \\\n",
    "    accounted for in tbl_ref_sla_translation''')"
   ]
  },
  {
   "cell_type": "code",
   "execution_count": 602,
   "metadata": {
    "hidden": true
   },
   "outputs": [],
   "source": [
    "before_unique_sla_translation = before_sla_translation.nunique()"
   ]
  },
  {
   "cell_type": "code",
   "execution_count": 603,
   "metadata": {
    "hidden": true
   },
   "outputs": [],
   "source": [
    "results.append(\n",
    "    ((before_unique_sla_translation['sla_id'] == before_count_sla_id)\n",
    "     and (before_unique_sla_translation['date_category_id'] == len(\n",
    "         before_date_category))\n",
    "     and (before_unique_sla_translation['sla_code'] ==\n",
    "          before_sla_code['n_sla_codes'].values[0])))"
   ]
  },
  {
   "cell_type": "markdown",
   "metadata": {},
   "source": [
    "## Insert the sla_id values into tbl_ref_sla so that the after tests can be conducted"
   ]
  },
  {
   "cell_type": "code",
   "execution_count": 604,
   "metadata": {},
   "outputs": [],
   "source": [
    "ninserts = 2"
   ]
  },
  {
   "cell_type": "code",
   "execution_count": 605,
   "metadata": {},
   "outputs": [],
   "source": [
    "sla_id = [x for x in string.ascii_uppercase if x not in(before_distinct_sla_id.values)]"
   ]
  },
  {
   "cell_type": "code",
   "execution_count": 606,
   "metadata": {},
   "outputs": [],
   "source": [
    "sla_inserts = [[x, 'Testing new SLA: '+ x, 1, 2] for x in sla_id]"
   ]
  },
  {
   "cell_type": "code",
   "execution_count": 607,
   "metadata": {},
   "outputs": [],
   "source": [
    "sla_inserts_df = pd.DataFrame(sla_inserts[0:ninserts], \n",
    "                              columns = ['sla_id', 'sla_desc', 'sla_min_days', 'sla_max_days'])"
   ]
  },
  {
   "cell_type": "code",
   "execution_count": 608,
   "metadata": {},
   "outputs": [
    {
     "data": {
      "text/html": [
       "<div>\n",
       "<style scoped>\n",
       "    .dataframe tbody tr th:only-of-type {\n",
       "        vertical-align: middle;\n",
       "    }\n",
       "\n",
       "    .dataframe tbody tr th {\n",
       "        vertical-align: top;\n",
       "    }\n",
       "\n",
       "    .dataframe thead th {\n",
       "        text-align: right;\n",
       "    }\n",
       "</style>\n",
       "<table border=\"1\" class=\"dataframe\">\n",
       "  <thead>\n",
       "    <tr style=\"text-align: right;\">\n",
       "      <th></th>\n",
       "      <th>sla_id</th>\n",
       "      <th>sla_desc</th>\n",
       "      <th>sla_min_days</th>\n",
       "      <th>sla_max_days</th>\n",
       "    </tr>\n",
       "  </thead>\n",
       "  <tbody>\n",
       "    <tr>\n",
       "      <th>0</th>\n",
       "      <td>G</td>\n",
       "      <td>Testing new SLA: G</td>\n",
       "      <td>1</td>\n",
       "      <td>2</td>\n",
       "    </tr>\n",
       "    <tr>\n",
       "      <th>1</th>\n",
       "      <td>H</td>\n",
       "      <td>Testing new SLA: H</td>\n",
       "      <td>1</td>\n",
       "      <td>2</td>\n",
       "    </tr>\n",
       "  </tbody>\n",
       "</table>\n",
       "</div>"
      ],
      "text/plain": [
       "  sla_id            sla_desc  sla_min_days  sla_max_days\n",
       "0      G  Testing new SLA: G             1             2\n",
       "1      H  Testing new SLA: H             1             2"
      ]
     },
     "execution_count": 608,
     "metadata": {},
     "output_type": "execute_result"
    }
   ],
   "source": [
    "sla_inserts_df"
   ]
  },
  {
   "cell_type": "code",
   "execution_count": 609,
   "metadata": {},
   "outputs": [],
   "source": [
    "# sla_inserts_df.to_sql('tbl_ref_sla', con = engine, index = False, if_exists = 'append')"
   ]
  },
  {
   "cell_type": "markdown",
   "metadata": {},
   "source": [
    "## Execute all of the sql queries AFTER INSERT and store the results"
   ]
  },
  {
   "cell_type": "code",
   "execution_count": 610,
   "metadata": {},
   "outputs": [],
   "source": [
    "after_count_sla_id = pd.read_sql(con = engine, sql = sql_count_sla_id).values[0][0]"
   ]
  },
  {
   "cell_type": "code",
   "execution_count": 611,
   "metadata": {},
   "outputs": [
    {
     "data": {
      "text/plain": [
       "10"
      ]
     },
     "execution_count": 611,
     "metadata": {},
     "output_type": "execute_result"
    }
   ],
   "source": [
    "after_count_sla_id"
   ]
  },
  {
   "cell_type": "code",
   "execution_count": 612,
   "metadata": {},
   "outputs": [],
   "source": [
    "after_squared_count_sla_id = (after_count_sla_id)**2 "
   ]
  },
  {
   "cell_type": "code",
   "execution_count": 613,
   "metadata": {},
   "outputs": [
    {
     "data": {
      "text/plain": [
       "100"
      ]
     },
     "execution_count": 613,
     "metadata": {},
     "output_type": "execute_result"
    }
   ],
   "source": [
    "after_squared_count_sla_id"
   ]
  },
  {
   "cell_type": "code",
   "execution_count": 614,
   "metadata": {},
   "outputs": [],
   "source": [
    "after_distinct_sla_id = pd.read_sql(con = engine, sql = sql_distinct_sla_id)"
   ]
  },
  {
   "cell_type": "code",
   "execution_count": 615,
   "metadata": {},
   "outputs": [
    {
     "data": {
      "text/html": [
       "<div>\n",
       "<style scoped>\n",
       "    .dataframe tbody tr th:only-of-type {\n",
       "        vertical-align: middle;\n",
       "    }\n",
       "\n",
       "    .dataframe tbody tr th {\n",
       "        vertical-align: top;\n",
       "    }\n",
       "\n",
       "    .dataframe thead th {\n",
       "        text-align: right;\n",
       "    }\n",
       "</style>\n",
       "<table border=\"1\" class=\"dataframe\">\n",
       "  <thead>\n",
       "    <tr style=\"text-align: right;\">\n",
       "      <th></th>\n",
       "      <th>sla_id</th>\n",
       "    </tr>\n",
       "  </thead>\n",
       "  <tbody>\n",
       "    <tr>\n",
       "      <th>0</th>\n",
       "      <td>A</td>\n",
       "    </tr>\n",
       "    <tr>\n",
       "      <th>1</th>\n",
       "      <td>B</td>\n",
       "    </tr>\n",
       "    <tr>\n",
       "      <th>2</th>\n",
       "      <td>C</td>\n",
       "    </tr>\n",
       "    <tr>\n",
       "      <th>3</th>\n",
       "      <td>D</td>\n",
       "    </tr>\n",
       "    <tr>\n",
       "      <th>4</th>\n",
       "      <td>E</td>\n",
       "    </tr>\n",
       "    <tr>\n",
       "      <th>5</th>\n",
       "      <td>F</td>\n",
       "    </tr>\n",
       "    <tr>\n",
       "      <th>6</th>\n",
       "      <td>G</td>\n",
       "    </tr>\n",
       "    <tr>\n",
       "      <th>7</th>\n",
       "      <td>H</td>\n",
       "    </tr>\n",
       "    <tr>\n",
       "      <th>8</th>\n",
       "      <td>N</td>\n",
       "    </tr>\n",
       "    <tr>\n",
       "      <th>9</th>\n",
       "      <td>T</td>\n",
       "    </tr>\n",
       "  </tbody>\n",
       "</table>\n",
       "</div>"
      ],
      "text/plain": [
       "  sla_id\n",
       "0      A\n",
       "1      B\n",
       "2      C\n",
       "3      D\n",
       "4      E\n",
       "5      F\n",
       "6      G\n",
       "7      H\n",
       "8      N\n",
       "9      T"
      ]
     },
     "execution_count": 615,
     "metadata": {},
     "output_type": "execute_result"
    }
   ],
   "source": [
    "after_distinct_sla_id"
   ]
  },
  {
   "cell_type": "code",
   "execution_count": 616,
   "metadata": {},
   "outputs": [],
   "source": [
    "after_sla_code = pd.read_sql(con = engine, sql = sql_sla_code)"
   ]
  },
  {
   "cell_type": "code",
   "execution_count": 617,
   "metadata": {},
   "outputs": [
    {
     "data": {
      "text/html": [
       "<div>\n",
       "<style scoped>\n",
       "    .dataframe tbody tr th:only-of-type {\n",
       "        vertical-align: middle;\n",
       "    }\n",
       "\n",
       "    .dataframe tbody tr th {\n",
       "        vertical-align: top;\n",
       "    }\n",
       "\n",
       "    .dataframe thead th {\n",
       "        text-align: right;\n",
       "    }\n",
       "</style>\n",
       "<table border=\"1\" class=\"dataframe\">\n",
       "  <thead>\n",
       "    <tr style=\"text-align: right;\">\n",
       "      <th></th>\n",
       "      <th>min_sla_code</th>\n",
       "      <th>max_sla_code</th>\n",
       "      <th>n_sla_codes</th>\n",
       "    </tr>\n",
       "  </thead>\n",
       "  <tbody>\n",
       "    <tr>\n",
       "      <th>0</th>\n",
       "      <td>1</td>\n",
       "      <td>100</td>\n",
       "      <td>100</td>\n",
       "    </tr>\n",
       "  </tbody>\n",
       "</table>\n",
       "</div>"
      ],
      "text/plain": [
       "   min_sla_code  max_sla_code  n_sla_codes\n",
       "0             1           100          100"
      ]
     },
     "execution_count": 617,
     "metadata": {},
     "output_type": "execute_result"
    }
   ],
   "source": [
    "after_sla_code"
   ]
  },
  {
   "cell_type": "code",
   "execution_count": 618,
   "metadata": {},
   "outputs": [],
   "source": [
    "after_date_category = pd.read_sql(con = engine, sql = sql_date_category)"
   ]
  },
  {
   "cell_type": "code",
   "execution_count": 619,
   "metadata": {},
   "outputs": [],
   "source": [
    "# after_date_category"
   ]
  },
  {
   "cell_type": "code",
   "execution_count": 620,
   "metadata": {},
   "outputs": [],
   "source": [
    "after_sla_translation = pd.read_sql(con = engine, sql = sql_sla_translation)"
   ]
  },
  {
   "cell_type": "code",
   "execution_count": 621,
   "metadata": {},
   "outputs": [],
   "source": [
    "# after_sla_translation"
   ]
  },
  {
   "cell_type": "markdown",
   "metadata": {},
   "source": [
    "## After Tests"
   ]
  },
  {
   "cell_type": "markdown",
   "metadata": {},
   "source": [
    "### First after test"
   ]
  },
  {
   "cell_type": "code",
   "execution_count": 622,
   "metadata": {},
   "outputs": [],
   "source": [
    "timing.append('after')"
   ]
  },
  {
   "cell_type": "code",
   "execution_count": 623,
   "metadata": {},
   "outputs": [],
   "source": [
    "descriptions.append('''Check that the count of sla_ids (from tbl_ref_sla) squared \\\n",
    "is equal to the number of sla_codes in tbl_ref_sla_code''')"
   ]
  },
  {
   "cell_type": "code",
   "execution_count": 624,
   "metadata": {},
   "outputs": [],
   "source": [
    "results.append(after_squared_count_sla_id == after_sla_code['n_sla_codes'].values[0])"
   ]
  },
  {
   "cell_type": "code",
   "execution_count": 625,
   "metadata": {},
   "outputs": [
    {
     "data": {
      "text/plain": [
       "[True, True, True, True, True, True, True]"
      ]
     },
     "execution_count": 625,
     "metadata": {},
     "output_type": "execute_result"
    }
   ],
   "source": [
    "results"
   ]
  },
  {
   "cell_type": "markdown",
   "metadata": {},
   "source": [
    "### Second after test"
   ]
  },
  {
   "cell_type": "code",
   "execution_count": 626,
   "metadata": {},
   "outputs": [],
   "source": [
    "timing.append('after')"
   ]
  },
  {
   "cell_type": "code",
   "execution_count": 627,
   "metadata": {},
   "outputs": [],
   "source": [
    "descriptions.append('''Test that the number of sla_codes in tbl_ref_sla_code \\\n",
    "is equal to the maximum sla_code in tbl_ref_sla_code''')"
   ]
  },
  {
   "cell_type": "code",
   "execution_count": 628,
   "metadata": {},
   "outputs": [],
   "source": [
    "results.append(after_sla_code['n_sla_codes'].values[0] == after_sla_code['max_sla_code'].values[0])"
   ]
  },
  {
   "cell_type": "markdown",
   "metadata": {},
   "source": [
    "### Third after test"
   ]
  },
  {
   "cell_type": "code",
   "execution_count": 629,
   "metadata": {},
   "outputs": [],
   "source": [
    "timing.append('after')"
   ]
  },
  {
   "cell_type": "code",
   "execution_count": 630,
   "metadata": {},
   "outputs": [],
   "source": [
    "descriptions.append('''Test that the minimum sla_code in tbl_ref_sla_code is equal to 1''')"
   ]
  },
  {
   "cell_type": "code",
   "execution_count": 631,
   "metadata": {},
   "outputs": [],
   "source": [
    "results.append(1 == after_sla_code['min_sla_code'].values[0])"
   ]
  },
  {
   "cell_type": "markdown",
   "metadata": {},
   "source": [
    "### Fourth after test"
   ]
  },
  {
   "cell_type": "code",
   "execution_count": 632,
   "metadata": {},
   "outputs": [],
   "source": [
    "timing.append('after')"
   ]
  },
  {
   "cell_type": "code",
   "execution_count": 633,
   "metadata": {},
   "outputs": [],
   "source": [
    "descriptions.append(\n",
    "    '''Test that the count of records in tbl_ref_sla_translation is \\\n",
    "    equal to the count of sla_codes in tbl_ref_sla_code multiplied by \\\n",
    "    the number of date_category_ids in tbl_ref_sla_season_category''')"
   ]
  },
  {
   "cell_type": "code",
   "execution_count": 634,
   "metadata": {},
   "outputs": [],
   "source": [
    "results.append(len(after_sla_translation) == (after_sla_code['n_sla_codes'].values[0] * len(after_date_category)))"
   ]
  },
  {
   "cell_type": "markdown",
   "metadata": {},
   "source": [
    "### Fifth before test"
   ]
  },
  {
   "cell_type": "code",
   "execution_count": 635,
   "metadata": {},
   "outputs": [],
   "source": [
    "timing.append('after')"
   ]
  },
  {
   "cell_type": "code",
   "execution_count": 636,
   "metadata": {},
   "outputs": [],
   "source": [
    "descriptions.append('''Test the uniqueness of the rows in tbl_ref_sla_translation''')"
   ]
  },
  {
   "cell_type": "code",
   "execution_count": 637,
   "metadata": {},
   "outputs": [],
   "source": [
    "after_sla_translation_nodup = after_sla_translation.drop_duplicates()"
   ]
  },
  {
   "cell_type": "code",
   "execution_count": 638,
   "metadata": {},
   "outputs": [],
   "source": [
    "results.append(len(after_sla_translation) == len(after_sla_translation_nodup))"
   ]
  },
  {
   "cell_type": "markdown",
   "metadata": {},
   "source": [
    "### Sixth after test"
   ]
  },
  {
   "cell_type": "code",
   "execution_count": 639,
   "metadata": {},
   "outputs": [],
   "source": [
    "timing.append('after')"
   ]
  },
  {
   "cell_type": "code",
   "execution_count": 640,
   "metadata": {},
   "outputs": [],
   "source": [
    "descriptions.append(\n",
    "    '''Test that all sla_ids, sla_codes and date_category_ids have been \\\n",
    "    accounted for in tbl_ref_sla_translation''')"
   ]
  },
  {
   "cell_type": "code",
   "execution_count": 641,
   "metadata": {},
   "outputs": [],
   "source": [
    "after_unique_sla_translation = after_sla_translation.nunique()"
   ]
  },
  {
   "cell_type": "code",
   "execution_count": 642,
   "metadata": {},
   "outputs": [],
   "source": [
    "results.append(\n",
    "    ((after_unique_sla_translation['sla_id'] == after_count_sla_id)\n",
    "     and (after_unique_sla_translation['date_category_id'] == len(\n",
    "         after_date_category)) and (after_unique_sla_translation['sla_code'] ==\n",
    "                                    after_sla_code['n_sla_codes'].values[0])))"
   ]
  },
  {
   "cell_type": "markdown",
   "metadata": {},
   "source": [
    "### Seventh after test"
   ]
  },
  {
   "cell_type": "code",
   "execution_count": 643,
   "metadata": {},
   "outputs": [],
   "source": [
    "timing.append('after')"
   ]
  },
  {
   "cell_type": "code",
   "execution_count": 644,
   "metadata": {},
   "outputs": [],
   "source": [
    "m = ninserts\n",
    "n = before_count_sla_id"
   ]
  },
  {
   "cell_type": "code",
   "execution_count": 645,
   "metadata": {},
   "outputs": [],
   "source": [
    "descriptions.append(\n",
    "    '''Test that the number of rows insrted into tbl_ref_sla_code is equal to (m+n)**2-n**2 '''\n",
    ")"
   ]
  },
  {
   "cell_type": "code",
   "execution_count": 646,
   "metadata": {},
   "outputs": [],
   "source": [
    "results.append(after_sla_code.n_sla_codes.values[0] -\n",
    "               before_sla_code.n_sla_codes.values[0] == (m + n)**2 - n**2)"
   ]
  },
  {
   "cell_type": "markdown",
   "metadata": {},
   "source": [
    "### Eighth after test"
   ]
  },
  {
   "cell_type": "code",
   "execution_count": 647,
   "metadata": {},
   "outputs": [],
   "source": [
    "timing.append('after')"
   ]
  },
  {
   "cell_type": "code",
   "execution_count": 648,
   "metadata": {},
   "outputs": [],
   "source": [
    "descriptions.append(\n",
    "    '''Test that the nmuber of rows in tbl_ref_sla_translation is equal to 2*(m+n)**2 '''\n",
    ")"
   ]
  },
  {
   "cell_type": "code",
   "execution_count": 649,
   "metadata": {},
   "outputs": [],
   "source": [
    "num_date_category_ids = len(after_date_category)"
   ]
  },
  {
   "cell_type": "code",
   "execution_count": 650,
   "metadata": {},
   "outputs": [],
   "source": [
    "results.append(len(after_sla_translation) == num_date_category_ids * (m + n)**2)"
   ]
  },
  {
   "cell_type": "markdown",
   "metadata": {},
   "source": [
    "### Ninth after test"
   ]
  },
  {
   "cell_type": "code",
   "execution_count": 651,
   "metadata": {},
   "outputs": [],
   "source": [
    "timing.append('after')"
   ]
  },
  {
   "cell_type": "code",
   "execution_count": 652,
   "metadata": {},
   "outputs": [],
   "source": [
    "descriptions.append('''After removing the original rows, \\\n",
    "test the uniqueness of the rows in tbl_ref_sla_translation''')"
   ]
  },
  {
   "cell_type": "code",
   "execution_count": 653,
   "metadata": {},
   "outputs": [],
   "source": [
    "after_sla_translation_nodup = after_sla_translation.drop_duplicates()"
   ]
  },
  {
   "cell_type": "code",
   "execution_count": 654,
   "metadata": {},
   "outputs": [],
   "source": [
    "results.append(len(after_sla_translation) == len(after_sla_translation_nodup))"
   ]
  },
  {
   "cell_type": "markdown",
   "metadata": {},
   "source": [
    "### Tenth after test"
   ]
  },
  {
   "cell_type": "code",
   "execution_count": 655,
   "metadata": {},
   "outputs": [],
   "source": [
    "timing.append('after')"
   ]
  },
  {
   "cell_type": "code",
   "execution_count": 656,
   "metadata": {},
   "outputs": [],
   "source": [
    "descriptions.append(\n",
    "    '''Ensuring the correct number of rows was inserted into tbl_ref_sla_trnalsation'''\n",
    ")"
   ]
  },
  {
   "cell_type": "code",
   "execution_count": 657,
   "metadata": {},
   "outputs": [],
   "source": [
    "added_rows_df = pd.merge(after_sla_translation,\n",
    "         before_sla_translation,\n",
    "         on=['sla_id', 'sla_code', 'date_category_id'],\n",
    "         indicator=True,\n",
    "         how='outer').query('_merge==\"left_only\"').drop('_merge', axis=1)"
   ]
  },
  {
   "cell_type": "code",
   "execution_count": 658,
   "metadata": {},
   "outputs": [],
   "source": [
    "results.append(len(added_rows_df)==(len(after_sla_translation) - len(before_sla_translation)))"
   ]
  },
  {
   "cell_type": "markdown",
   "metadata": {},
   "source": [
    "## List of tuples with final test results"
   ]
  },
  {
   "cell_type": "code",
   "execution_count": 659,
   "metadata": {},
   "outputs": [
    {
     "data": {
      "text/plain": [
       "[('before',\n",
       "  'Check that the count of sla_ids (from tbl_ref_sla) squared is equal to the number of sla_codes in tbl_ref_sla_code',\n",
       "  True),\n",
       " ('before',\n",
       "  'Test that the number of sla_codes in tbl_ref_sla_code is equal to the maximum sla_code in tbl_ref_sla_code',\n",
       "  True),\n",
       " ('before',\n",
       "  'Test that the minimum sla_code in tbl_ref_sla_code is equal to 1',\n",
       "  True),\n",
       " ('before',\n",
       "  'Test that the count of records in tbl_ref_sla_translation is equal to the count of sla_codes in tbl_ref_sla_code multiplied by the number of date_category_ids in tbl_ref_sla_season_category',\n",
       "  True),\n",
       " ('before',\n",
       "  'Test the uniqueness of the rows in tbl_ref_sla_translation',\n",
       "  True),\n",
       " ('before',\n",
       "  'Test that all sla_ids, sla_codes and date_category_ids have been     accounted for in tbl_ref_sla_translation',\n",
       "  True),\n",
       " ('after',\n",
       "  'Check that the count of sla_ids (from tbl_ref_sla) squared is equal to the number of sla_codes in tbl_ref_sla_code',\n",
       "  True),\n",
       " ('after',\n",
       "  'Test that the number of sla_codes in tbl_ref_sla_code is equal to the maximum sla_code in tbl_ref_sla_code',\n",
       "  True),\n",
       " ('after',\n",
       "  'Test that the minimum sla_code in tbl_ref_sla_code is equal to 1',\n",
       "  True),\n",
       " ('after',\n",
       "  'Test that the count of records in tbl_ref_sla_translation is     equal to the count of sla_codes in tbl_ref_sla_code multiplied by     the number of date_category_ids in tbl_ref_sla_season_category',\n",
       "  True),\n",
       " ('after', 'Test the uniqueness of the rows in tbl_ref_sla_translation', True),\n",
       " ('after',\n",
       "  'Test that all sla_ids, sla_codes and date_category_ids have been     accounted for in tbl_ref_sla_translation',\n",
       "  True),\n",
       " ('after',\n",
       "  'Test that the number of rows insrted into tbl_ref_sla_code is equal to (m+n)**2-n**2 ',\n",
       "  True),\n",
       " ('after',\n",
       "  'Test that the nmuber of rows in tbl_ref_sla_translation is equal to 2*(m+n)**2 ',\n",
       "  True),\n",
       " ('after',\n",
       "  'After removing the original rows, test the uniqueness of the rows in tbl_ref_sla_translation',\n",
       "  True),\n",
       " ('after',\n",
       "  'Ensuring the correct number of rows was inserted into tbl_ref_sla_trnalsation',\n",
       "  True)]"
      ]
     },
     "execution_count": 659,
     "metadata": {},
     "output_type": "execute_result"
    }
   ],
   "source": [
    "list(zip(timing, descriptions, results))"
   ]
  },
  {
   "cell_type": "code",
   "execution_count": 109,
   "metadata": {
    "scrolled": false
   },
   "outputs": [
    {
     "data": {
      "text/html": [
       "<div>\n",
       "<style scoped>\n",
       "    .dataframe tbody tr th:only-of-type {\n",
       "        vertical-align: middle;\n",
       "    }\n",
       "\n",
       "    .dataframe tbody tr th {\n",
       "        vertical-align: top;\n",
       "    }\n",
       "\n",
       "    .dataframe thead th {\n",
       "        text-align: right;\n",
       "    }\n",
       "</style>\n",
       "<table border=\"1\" class=\"dataframe\">\n",
       "  <thead>\n",
       "    <tr style=\"text-align: right;\">\n",
       "      <th></th>\n",
       "      <th>test_desc</th>\n",
       "      <th>before/after</th>\n",
       "      <th>result</th>\n",
       "    </tr>\n",
       "  </thead>\n",
       "  <tbody>\n",
       "    <tr>\n",
       "      <th>0</th>\n",
       "      <td>before</td>\n",
       "      <td>Ensure that 'effective'==1 for every season th...</td>\n",
       "      <td>True</td>\n",
       "    </tr>\n",
       "    <tr>\n",
       "      <th>1</th>\n",
       "      <td>before</td>\n",
       "      <td>Test that 'effective_end_adj' is after today i...</td>\n",
       "      <td>True</td>\n",
       "    </tr>\n",
       "    <tr>\n",
       "      <th>2</th>\n",
       "      <td>before</td>\n",
       "      <td>Test that every season in tbl_sla_season has e...</td>\n",
       "      <td>True</td>\n",
       "    </tr>\n",
       "  </tbody>\n",
       "</table>\n",
       "</div>"
      ],
      "text/plain": [
       "  test_desc                                       before/after  result\n",
       "0    before  Ensure that 'effective'==1 for every season th...    True\n",
       "1    before  Test that 'effective_end_adj' is after today i...    True\n",
       "2    before  Test that every season in tbl_sla_season has e...    True"
      ]
     },
     "execution_count": 109,
     "metadata": {},
     "output_type": "execute_result"
    }
   ],
   "source": [
    "pd.DataFrame(list(zip(timing, descriptions, results)), columns = {'before/after', 'test_desc', 'result'})             "
   ]
  },
  {
   "cell_type": "code",
   "execution_count": null,
   "metadata": {},
   "outputs": [],
   "source": []
  }
 ],
 "metadata": {
  "kernelspec": {
   "display_name": "Python 3",
   "language": "python",
   "name": "python3"
  },
  "language_info": {
   "codemirror_mode": {
    "name": "ipython",
    "version": 3
   },
   "file_extension": ".py",
   "mimetype": "text/x-python",
   "name": "python",
   "nbconvert_exporter": "python",
   "pygments_lexer": "ipython3",
   "version": "3.7.3"
  },
  "toc": {
   "base_numbering": 1,
   "nav_menu": {},
   "number_sections": true,
   "sideBar": true,
   "skip_h1_title": false,
   "title_cell": "Table of Contents",
   "title_sidebar": "Contents",
   "toc_cell": false,
   "toc_position": {},
   "toc_section_display": true,
   "toc_window_display": true
  }
 },
 "nbformat": 4,
 "nbformat_minor": 2
}
