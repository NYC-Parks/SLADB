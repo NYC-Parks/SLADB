{
 "cells": [
  {
   "cell_type": "code",
   "execution_count": 1,
   "metadata": {},
   "outputs": [],
   "source": [
    "import sys\n",
    "import pandas as pd\n",
    "import numpy as np\n",
    "import urllib\n",
    "import sqlalchemy\n",
    "import string\n",
    "import datetime"
   ]
  },
  {
   "cell_type": "code",
   "execution_count": 2,
   "metadata": {},
   "outputs": [],
   "source": [
    "#Import shared functions\n",
    "sys.path.append('..\\..')\n",
    "from IPM_Shared_Code_public.Python.utils import get_config"
   ]
  },
  {
   "cell_type": "code",
   "execution_count": 3,
   "metadata": {},
   "outputs": [],
   "source": [
    "config = get_config('c:\\Projects\\config.ini')\n",
    "\n",
    "driver = config['srv']['driver']\n",
    "server = config['srv']['dev_server']\n",
    "sladb = config['db']['sladb']"
   ]
  },
  {
   "cell_type": "code",
   "execution_count": 4,
   "metadata": {},
   "outputs": [],
   "source": [
    "con_string = 'Driver={' + driver + '};Server=' + server +';Database=' + sladb + ';Trusted_Connection=Yes;'\n",
    "params = urllib.parse.quote_plus(con_string)\n",
    "engine = sqlalchemy.create_engine(\"mssql+pyodbc:///?odbc_connect=%s\" % params)"
   ]
  },
  {
   "cell_type": "markdown",
   "metadata": {},
   "source": [
    "## Write all of the sql queries required for the tests"
   ]
  },
  {
   "cell_type": "code",
   "execution_count": 5,
   "metadata": {},
   "outputs": [],
   "source": [
    "sql_sla_season = 'select * from sladb.dbo.tbl_sla_season'"
   ]
  },
  {
   "cell_type": "code",
   "execution_count": 6,
   "metadata": {},
   "outputs": [],
   "source": [
    "sql_season_definition = 'select * from sladb.dbo.tbl_ref_sla_season_definition'"
   ]
  },
  {
   "cell_type": "code",
   "execution_count": 7,
   "metadata": {},
   "outputs": [],
   "source": [
    "sql_season_date = 'select * from sladb.dbo.tbl_sla_season_date'"
   ]
  },
  {
   "cell_type": "code",
   "execution_count": 8,
   "metadata": {},
   "outputs": [],
   "source": [
    "sql_month_tbl = 'select * from tbl_ref_sla_season_month_name'"
   ]
  },
  {
   "cell_type": "code",
   "execution_count": 9,
   "metadata": {},
   "outputs": [],
   "source": [
    "sql_unit_sla_season = 'select * from sladb.dbo.tbl_unit_sla_season'"
   ]
  },
  {
   "cell_type": "markdown",
   "metadata": {},
   "source": [
    "## Execute all of the sql queries and store the results"
   ]
  },
  {
   "cell_type": "code",
   "execution_count": 10,
   "metadata": {},
   "outputs": [],
   "source": [
    "month_tbl  = pd.read_sql(con = engine, sql = sql_month_tbl)"
   ]
  },
  {
   "cell_type": "code",
   "execution_count": 11,
   "metadata": {},
   "outputs": [],
   "source": [
    "before_sla_season = pd.read_sql(con = engine, sql = sql_sla_season)"
   ]
  },
  {
   "cell_type": "code",
   "execution_count": 12,
   "metadata": {},
   "outputs": [],
   "source": [
    "date_cols_season = [\n",
    "    'effective_start', 'effective_end', 'created_date_utc', 'updated_date_utc',\n",
    "    'effective_start_adj', 'effective_end_adj'\n",
    "]"
   ]
  },
  {
   "cell_type": "code",
   "execution_count": 13,
   "metadata": {},
   "outputs": [],
   "source": [
    "# pd.to_datetime(before_sla_season['effective_start'])"
   ]
  },
  {
   "cell_type": "code",
   "execution_count": 14,
   "metadata": {},
   "outputs": [],
   "source": [
    "for i in date_cols_season:\n",
    "    before_sla_season[i] = pd.to_datetime(before_sla_season[i])"
   ]
  },
  {
   "cell_type": "code",
   "execution_count": 15,
   "metadata": {
    "scrolled": true
   },
   "outputs": [
    {
     "data": {
      "text/html": [
       "<div>\n",
       "<style scoped>\n",
       "    .dataframe tbody tr th:only-of-type {\n",
       "        vertical-align: middle;\n",
       "    }\n",
       "\n",
       "    .dataframe tbody tr th {\n",
       "        vertical-align: top;\n",
       "    }\n",
       "\n",
       "    .dataframe thead th {\n",
       "        text-align: right;\n",
       "    }\n",
       "</style>\n",
       "<table border=\"1\" class=\"dataframe\">\n",
       "  <thead>\n",
       "    <tr style=\"text-align: right;\">\n",
       "      <th></th>\n",
       "      <th>season_id</th>\n",
       "      <th>season_desc</th>\n",
       "      <th>year_round</th>\n",
       "      <th>effective</th>\n",
       "      <th>effective_end</th>\n",
       "      <th>effective_end_adj</th>\n",
       "      <th>effective_start</th>\n",
       "      <th>effective_start_adj</th>\n",
       "      <th>created_date_utc</th>\n",
       "      <th>updated_date_utc</th>\n",
       "    </tr>\n",
       "  </thead>\n",
       "  <tbody>\n",
       "    <tr>\n",
       "      <th>0</th>\n",
       "      <td>1</td>\n",
       "      <td>Year-round, not seasonal</td>\n",
       "      <td>True</td>\n",
       "      <td>True</td>\n",
       "      <td>NaT</td>\n",
       "      <td>NaT</td>\n",
       "      <td>2014-01-01</td>\n",
       "      <td>2014-01-05</td>\n",
       "      <td>2020-09-10 21:01:16.263</td>\n",
       "      <td>2020-09-10 21:01:16.327</td>\n",
       "    </tr>\n",
       "    <tr>\n",
       "      <th>1</th>\n",
       "      <td>2</td>\n",
       "      <td>Beaches, etc.</td>\n",
       "      <td>False</td>\n",
       "      <td>True</td>\n",
       "      <td>NaT</td>\n",
       "      <td>NaT</td>\n",
       "      <td>2019-07-01</td>\n",
       "      <td>2019-07-07</td>\n",
       "      <td>2020-09-10 21:01:16.467</td>\n",
       "      <td>2020-09-10 21:01:16.467</td>\n",
       "    </tr>\n",
       "    <tr>\n",
       "      <th>2</th>\n",
       "      <td>3</td>\n",
       "      <td>Ballfields, etc.</td>\n",
       "      <td>False</td>\n",
       "      <td>True</td>\n",
       "      <td>NaT</td>\n",
       "      <td>NaT</td>\n",
       "      <td>2019-07-01</td>\n",
       "      <td>2019-07-07</td>\n",
       "      <td>2020-09-10 21:01:16.593</td>\n",
       "      <td>2020-09-10 21:01:16.593</td>\n",
       "    </tr>\n",
       "  </tbody>\n",
       "</table>\n",
       "</div>"
      ],
      "text/plain": [
       "   season_id               season_desc  year_round  effective effective_end  \\\n",
       "0          1  Year-round, not seasonal        True       True           NaT   \n",
       "1          2             Beaches, etc.       False       True           NaT   \n",
       "2          3          Ballfields, etc.       False       True           NaT   \n",
       "\n",
       "  effective_end_adj effective_start effective_start_adj  \\\n",
       "0               NaT      2014-01-01          2014-01-05   \n",
       "1               NaT      2019-07-01          2019-07-07   \n",
       "2               NaT      2019-07-01          2019-07-07   \n",
       "\n",
       "         created_date_utc        updated_date_utc  \n",
       "0 2020-09-10 21:01:16.263 2020-09-10 21:01:16.327  \n",
       "1 2020-09-10 21:01:16.467 2020-09-10 21:01:16.467  \n",
       "2 2020-09-10 21:01:16.593 2020-09-10 21:01:16.593  "
      ]
     },
     "execution_count": 15,
     "metadata": {},
     "output_type": "execute_result"
    }
   ],
   "source": [
    "before_sla_season.head()"
   ]
  },
  {
   "cell_type": "code",
   "execution_count": 16,
   "metadata": {},
   "outputs": [],
   "source": [
    "before_season_definition = pd.read_sql(con = engine, sql = sql_season_definition)"
   ]
  },
  {
   "cell_type": "code",
   "execution_count": 17,
   "metadata": {
    "scrolled": true
   },
   "outputs": [
    {
     "data": {
      "text/html": [
       "<div>\n",
       "<style scoped>\n",
       "    .dataframe tbody tr th:only-of-type {\n",
       "        vertical-align: middle;\n",
       "    }\n",
       "\n",
       "    .dataframe tbody tr th {\n",
       "        vertical-align: top;\n",
       "    }\n",
       "\n",
       "    .dataframe thead th {\n",
       "        text-align: right;\n",
       "    }\n",
       "</style>\n",
       "<table border=\"1\" class=\"dataframe\">\n",
       "  <thead>\n",
       "    <tr style=\"text-align: right;\">\n",
       "      <th></th>\n",
       "      <th>season_date_ref_id</th>\n",
       "      <th>season_id</th>\n",
       "      <th>date_ref_fixed</th>\n",
       "      <th>month_name_desc</th>\n",
       "      <th>date_ref_day_number</th>\n",
       "      <th>day_name_desc</th>\n",
       "      <th>day_rank_id</th>\n",
       "      <th>date_type_id</th>\n",
       "    </tr>\n",
       "  </thead>\n",
       "  <tbody>\n",
       "    <tr>\n",
       "      <th>0</th>\n",
       "      <td>1</td>\n",
       "      <td>1</td>\n",
       "      <td>True</td>\n",
       "      <td>January</td>\n",
       "      <td>1</td>\n",
       "      <td>None</td>\n",
       "      <td>None</td>\n",
       "      <td>1</td>\n",
       "    </tr>\n",
       "    <tr>\n",
       "      <th>1</th>\n",
       "      <td>2</td>\n",
       "      <td>1</td>\n",
       "      <td>True</td>\n",
       "      <td>December</td>\n",
       "      <td>31</td>\n",
       "      <td>None</td>\n",
       "      <td>None</td>\n",
       "      <td>2</td>\n",
       "    </tr>\n",
       "    <tr>\n",
       "      <th>2</th>\n",
       "      <td>3</td>\n",
       "      <td>2</td>\n",
       "      <td>True</td>\n",
       "      <td>May</td>\n",
       "      <td>1</td>\n",
       "      <td>None</td>\n",
       "      <td>None</td>\n",
       "      <td>1</td>\n",
       "    </tr>\n",
       "    <tr>\n",
       "      <th>3</th>\n",
       "      <td>4</td>\n",
       "      <td>2</td>\n",
       "      <td>True</td>\n",
       "      <td>October</td>\n",
       "      <td>1</td>\n",
       "      <td>None</td>\n",
       "      <td>None</td>\n",
       "      <td>2</td>\n",
       "    </tr>\n",
       "    <tr>\n",
       "      <th>4</th>\n",
       "      <td>5</td>\n",
       "      <td>3</td>\n",
       "      <td>True</td>\n",
       "      <td>March</td>\n",
       "      <td>1</td>\n",
       "      <td>None</td>\n",
       "      <td>None</td>\n",
       "      <td>1</td>\n",
       "    </tr>\n",
       "  </tbody>\n",
       "</table>\n",
       "</div>"
      ],
      "text/plain": [
       "   season_date_ref_id  season_id  date_ref_fixed month_name_desc  \\\n",
       "0                   1          1            True         January   \n",
       "1                   2          1            True        December   \n",
       "2                   3          2            True             May   \n",
       "3                   4          2            True         October   \n",
       "4                   5          3            True           March   \n",
       "\n",
       "   date_ref_day_number day_name_desc day_rank_id  date_type_id  \n",
       "0                    1          None        None             1  \n",
       "1                   31          None        None             2  \n",
       "2                    1          None        None             1  \n",
       "3                    1          None        None             2  \n",
       "4                    1          None        None             1  "
      ]
     },
     "execution_count": 17,
     "metadata": {},
     "output_type": "execute_result"
    }
   ],
   "source": [
    "before_season_definition.head()"
   ]
  },
  {
   "cell_type": "code",
   "execution_count": 18,
   "metadata": {},
   "outputs": [],
   "source": [
    "before_season_date = pd.read_sql(con = engine, sql = sql_season_date)"
   ]
  },
  {
   "cell_type": "code",
   "execution_count": 19,
   "metadata": {},
   "outputs": [],
   "source": [
    "date_cols_season_date = [\n",
    "    'effective_start', 'effective_end', 'effective_start_adj',\n",
    "    'effective_end_adj'\n",
    "]"
   ]
  },
  {
   "cell_type": "code",
   "execution_count": 20,
   "metadata": {},
   "outputs": [],
   "source": [
    "for i in date_cols_season_date:\n",
    "    before_season_date[i] = pd.to_datetime(before_season_date[i])"
   ]
  },
  {
   "cell_type": "code",
   "execution_count": 21,
   "metadata": {
    "scrolled": false
   },
   "outputs": [
    {
     "data": {
      "text/html": [
       "<div>\n",
       "<style scoped>\n",
       "    .dataframe tbody tr th:only-of-type {\n",
       "        vertical-align: middle;\n",
       "    }\n",
       "\n",
       "    .dataframe tbody tr th {\n",
       "        vertical-align: top;\n",
       "    }\n",
       "\n",
       "    .dataframe thead th {\n",
       "        text-align: right;\n",
       "    }\n",
       "</style>\n",
       "<table border=\"1\" class=\"dataframe\">\n",
       "  <thead>\n",
       "    <tr style=\"text-align: right;\">\n",
       "      <th></th>\n",
       "      <th>season_date_id</th>\n",
       "      <th>season_id</th>\n",
       "      <th>effective_start</th>\n",
       "      <th>effective_start_adj</th>\n",
       "      <th>effective_end</th>\n",
       "      <th>effective_end_adj</th>\n",
       "      <th>date_category_id</th>\n",
       "    </tr>\n",
       "  </thead>\n",
       "  <tbody>\n",
       "    <tr>\n",
       "      <th>0</th>\n",
       "      <td>1</td>\n",
       "      <td>1</td>\n",
       "      <td>2014-01-01</td>\n",
       "      <td>2014-01-05</td>\n",
       "      <td>2021-09-10</td>\n",
       "      <td>2021-09-11</td>\n",
       "      <td>1</td>\n",
       "    </tr>\n",
       "    <tr>\n",
       "      <th>1</th>\n",
       "      <td>2</td>\n",
       "      <td>2</td>\n",
       "      <td>2019-07-01</td>\n",
       "      <td>2019-07-07</td>\n",
       "      <td>2019-10-01</td>\n",
       "      <td>2019-10-05</td>\n",
       "      <td>1</td>\n",
       "    </tr>\n",
       "    <tr>\n",
       "      <th>2</th>\n",
       "      <td>3</td>\n",
       "      <td>2</td>\n",
       "      <td>2019-10-02</td>\n",
       "      <td>2019-10-06</td>\n",
       "      <td>2020-04-30</td>\n",
       "      <td>2020-05-02</td>\n",
       "      <td>2</td>\n",
       "    </tr>\n",
       "    <tr>\n",
       "      <th>3</th>\n",
       "      <td>4</td>\n",
       "      <td>2</td>\n",
       "      <td>2020-05-01</td>\n",
       "      <td>2020-05-03</td>\n",
       "      <td>2020-10-01</td>\n",
       "      <td>2020-10-03</td>\n",
       "      <td>1</td>\n",
       "    </tr>\n",
       "    <tr>\n",
       "      <th>4</th>\n",
       "      <td>5</td>\n",
       "      <td>2</td>\n",
       "      <td>2020-10-02</td>\n",
       "      <td>2020-10-04</td>\n",
       "      <td>2021-04-30</td>\n",
       "      <td>2021-05-01</td>\n",
       "      <td>2</td>\n",
       "    </tr>\n",
       "  </tbody>\n",
       "</table>\n",
       "</div>"
      ],
      "text/plain": [
       "   season_date_id  season_id effective_start effective_start_adj  \\\n",
       "0               1          1      2014-01-01          2014-01-05   \n",
       "1               2          2      2019-07-01          2019-07-07   \n",
       "2               3          2      2019-10-02          2019-10-06   \n",
       "3               4          2      2020-05-01          2020-05-03   \n",
       "4               5          2      2020-10-02          2020-10-04   \n",
       "\n",
       "  effective_end effective_end_adj  date_category_id  \n",
       "0    2021-09-10        2021-09-11                 1  \n",
       "1    2019-10-01        2019-10-05                 1  \n",
       "2    2020-04-30        2020-05-02                 2  \n",
       "3    2020-10-01        2020-10-03                 1  \n",
       "4    2021-04-30        2021-05-01                 2  "
      ]
     },
     "execution_count": 21,
     "metadata": {},
     "output_type": "execute_result"
    }
   ],
   "source": [
    "before_season_date.head()"
   ]
  },
  {
   "cell_type": "code",
   "execution_count": 22,
   "metadata": {
    "scrolled": false
   },
   "outputs": [
    {
     "data": {
      "text/html": [
       "<div>\n",
       "<style scoped>\n",
       "    .dataframe tbody tr th:only-of-type {\n",
       "        vertical-align: middle;\n",
       "    }\n",
       "\n",
       "    .dataframe tbody tr th {\n",
       "        vertical-align: top;\n",
       "    }\n",
       "\n",
       "    .dataframe thead th {\n",
       "        text-align: right;\n",
       "    }\n",
       "</style>\n",
       "<table border=\"1\" class=\"dataframe\">\n",
       "  <thead>\n",
       "    <tr style=\"text-align: right;\">\n",
       "      <th></th>\n",
       "      <th>sla_season_id</th>\n",
       "      <th>unit_id</th>\n",
       "      <th>sla_code</th>\n",
       "      <th>season_id</th>\n",
       "      <th>effective</th>\n",
       "      <th>effective_start</th>\n",
       "      <th>effective_start_adj</th>\n",
       "      <th>effective_end</th>\n",
       "      <th>effective_end_adj</th>\n",
       "      <th>change_request_id</th>\n",
       "      <th>created_date_utc</th>\n",
       "      <th>updated_date_utc</th>\n",
       "    </tr>\n",
       "  </thead>\n",
       "  <tbody>\n",
       "    <tr>\n",
       "      <th>0</th>\n",
       "      <td>1</td>\n",
       "      <td>RZ245</td>\n",
       "      <td>11</td>\n",
       "      <td>1</td>\n",
       "      <td>False</td>\n",
       "      <td>2014-01-01</td>\n",
       "      <td>2014-01-05</td>\n",
       "      <td>2020-03-21</td>\n",
       "      <td>2020-03-21</td>\n",
       "      <td>1</td>\n",
       "      <td>2020-09-10 21:01:19.123</td>\n",
       "      <td>2020-09-10 21:01:22.547</td>\n",
       "    </tr>\n",
       "    <tr>\n",
       "      <th>1</th>\n",
       "      <td>2</td>\n",
       "      <td>RZ25</td>\n",
       "      <td>11</td>\n",
       "      <td>1</td>\n",
       "      <td>False</td>\n",
       "      <td>2014-01-01</td>\n",
       "      <td>2014-01-05</td>\n",
       "      <td>2020-03-21</td>\n",
       "      <td>2020-03-21</td>\n",
       "      <td>2</td>\n",
       "      <td>2020-09-10 21:01:19.123</td>\n",
       "      <td>2020-09-10 21:01:22.547</td>\n",
       "    </tr>\n",
       "    <tr>\n",
       "      <th>2</th>\n",
       "      <td>3</td>\n",
       "      <td>RZ255</td>\n",
       "      <td>11</td>\n",
       "      <td>1</td>\n",
       "      <td>False</td>\n",
       "      <td>2014-01-01</td>\n",
       "      <td>2014-01-05</td>\n",
       "      <td>2020-03-21</td>\n",
       "      <td>2020-03-21</td>\n",
       "      <td>3</td>\n",
       "      <td>2020-09-10 21:01:19.123</td>\n",
       "      <td>2020-09-10 21:01:22.547</td>\n",
       "    </tr>\n",
       "    <tr>\n",
       "      <th>3</th>\n",
       "      <td>4</td>\n",
       "      <td>RZ258</td>\n",
       "      <td>11</td>\n",
       "      <td>1</td>\n",
       "      <td>False</td>\n",
       "      <td>2014-01-01</td>\n",
       "      <td>2014-01-05</td>\n",
       "      <td>2020-03-21</td>\n",
       "      <td>2020-03-21</td>\n",
       "      <td>4</td>\n",
       "      <td>2020-09-10 21:01:19.123</td>\n",
       "      <td>2020-09-10 21:01:22.547</td>\n",
       "    </tr>\n",
       "    <tr>\n",
       "      <th>4</th>\n",
       "      <td>5</td>\n",
       "      <td>RZ26</td>\n",
       "      <td>11</td>\n",
       "      <td>1</td>\n",
       "      <td>False</td>\n",
       "      <td>2014-01-01</td>\n",
       "      <td>2014-01-05</td>\n",
       "      <td>2020-03-21</td>\n",
       "      <td>2020-03-21</td>\n",
       "      <td>5</td>\n",
       "      <td>2020-09-10 21:01:19.123</td>\n",
       "      <td>2020-09-10 21:01:22.547</td>\n",
       "    </tr>\n",
       "  </tbody>\n",
       "</table>\n",
       "</div>"
      ],
      "text/plain": [
       "   sla_season_id unit_id  sla_code  season_id  effective effective_start  \\\n",
       "0              1   RZ245        11          1      False      2014-01-01   \n",
       "1              2    RZ25        11          1      False      2014-01-01   \n",
       "2              3   RZ255        11          1      False      2014-01-01   \n",
       "3              4   RZ258        11          1      False      2014-01-01   \n",
       "4              5    RZ26        11          1      False      2014-01-01   \n",
       "\n",
       "  effective_start_adj effective_end effective_end_adj  change_request_id  \\\n",
       "0          2014-01-05    2020-03-21        2020-03-21                  1   \n",
       "1          2014-01-05    2020-03-21        2020-03-21                  2   \n",
       "2          2014-01-05    2020-03-21        2020-03-21                  3   \n",
       "3          2014-01-05    2020-03-21        2020-03-21                  4   \n",
       "4          2014-01-05    2020-03-21        2020-03-21                  5   \n",
       "\n",
       "         created_date_utc        updated_date_utc  \n",
       "0 2020-09-10 21:01:19.123 2020-09-10 21:01:22.547  \n",
       "1 2020-09-10 21:01:19.123 2020-09-10 21:01:22.547  \n",
       "2 2020-09-10 21:01:19.123 2020-09-10 21:01:22.547  \n",
       "3 2020-09-10 21:01:19.123 2020-09-10 21:01:22.547  \n",
       "4 2020-09-10 21:01:19.123 2020-09-10 21:01:22.547  "
      ]
     },
     "execution_count": 22,
     "metadata": {},
     "output_type": "execute_result"
    }
   ],
   "source": [
    "before_unit_season = pd.read_sql(con = engine, sql = sql_unit_sla_season)\n",
    "before_unit_season.head()"
   ]
  },
  {
   "cell_type": "code",
   "execution_count": 23,
   "metadata": {},
   "outputs": [],
   "source": [
    "date_cols_unit_season = [\n",
    "    'effective_start', 'effective_end', 'created_date_utc', 'updated_date_utc',\n",
    "    'effective_start_adj', 'effective_end_adj'\n",
    "]"
   ]
  },
  {
   "cell_type": "code",
   "execution_count": 24,
   "metadata": {},
   "outputs": [],
   "source": [
    "for i in date_cols_unit_season:\n",
    "    before_unit_season[i] = pd.to_datetime(before_unit_season[i])"
   ]
  },
  {
   "cell_type": "code",
   "execution_count": null,
   "metadata": {},
   "outputs": [],
   "source": []
  },
  {
   "cell_type": "code",
   "execution_count": 25,
   "metadata": {},
   "outputs": [],
   "source": [
    "timing = []"
   ]
  },
  {
   "cell_type": "code",
   "execution_count": 26,
   "metadata": {},
   "outputs": [],
   "source": [
    "descriptions = []"
   ]
  },
  {
   "cell_type": "code",
   "execution_count": 27,
   "metadata": {},
   "outputs": [],
   "source": [
    "results = []"
   ]
  },
  {
   "cell_type": "markdown",
   "metadata": {},
   "source": [
    "## Before Tests"
   ]
  },
  {
   "cell_type": "markdown",
   "metadata": {},
   "source": [
    "### First before test"
   ]
  },
  {
   "cell_type": "code",
   "execution_count": 28,
   "metadata": {},
   "outputs": [],
   "source": [
    "timing.append('before')"
   ]
  },
  {
   "cell_type": "code",
   "execution_count": 29,
   "metadata": {},
   "outputs": [],
   "source": [
    "descriptions.append(\n",
    "    '''Ensure that 'effective'==1 for every season that has 'effective_end_date' == null'''\n",
    ")"
   ]
  },
  {
   "cell_type": "code",
   "execution_count": 30,
   "metadata": {},
   "outputs": [],
   "source": [
    "results.append(\n",
    "    len(before_sla_season[(pd.isnull(before_sla_season['effective_end']))\n",
    "                          & (before_sla_season['effective'] == False)]) == 0)"
   ]
  },
  {
   "cell_type": "markdown",
   "metadata": {},
   "source": [
    "### Second before test"
   ]
  },
  {
   "cell_type": "code",
   "execution_count": 31,
   "metadata": {},
   "outputs": [],
   "source": [
    "timing.append('before')"
   ]
  },
  {
   "cell_type": "code",
   "execution_count": 32,
   "metadata": {},
   "outputs": [],
   "source": [
    "descriptions.append(\n",
    "    '''Test that 'effective_end_adj' is after today if 'effective'==1 AND \\\n",
    "'effective_end' != null in tbl_sla_season''')"
   ]
  },
  {
   "cell_type": "code",
   "execution_count": 33,
   "metadata": {},
   "outputs": [],
   "source": [
    "before_sla_season['effective_end_adj'] = pd.to_datetime(\n",
    "    before_sla_season['effective_end_adj'])"
   ]
  },
  {
   "cell_type": "code",
   "execution_count": 34,
   "metadata": {},
   "outputs": [],
   "source": [
    "today = datetime.datetime.today()"
   ]
  },
  {
   "cell_type": "code",
   "execution_count": 35,
   "metadata": {},
   "outputs": [],
   "source": [
    "temp_df = before_sla_season[(before_sla_season['effective'] == True)\n",
    "                  & (~pd.isnull(before_sla_season['effective_end']))].copy()"
   ]
  },
  {
   "cell_type": "code",
   "execution_count": 36,
   "metadata": {},
   "outputs": [],
   "source": [
    "results.append(len(temp_df[temp_df['effective_end_adj'] > today])==len(temp_df))"
   ]
  },
  {
   "cell_type": "markdown",
   "metadata": {},
   "source": [
    "### Third before test"
   ]
  },
  {
   "cell_type": "code",
   "execution_count": 37,
   "metadata": {},
   "outputs": [],
   "source": [
    "timing.append('before')"
   ]
  },
  {
   "cell_type": "code",
   "execution_count": 38,
   "metadata": {},
   "outputs": [],
   "source": [
    "descriptions.append('''Test that every season in tbl_sla_season has \\\n",
    "exactly two entries in tbl_ref_sla_season_definition''')"
   ]
  },
  {
   "cell_type": "code",
   "execution_count": 39,
   "metadata": {},
   "outputs": [],
   "source": [
    "entry_count = []\n",
    "for i in before_sla_season.season_id.values:\n",
    "    entry_count.append(\n",
    "        len(before_season_definition[before_season_definition['season_id'] ==\n",
    "                                     i]) == 2)"
   ]
  },
  {
   "cell_type": "code",
   "execution_count": 40,
   "metadata": {},
   "outputs": [],
   "source": [
    "results.append(False not in entry_count)"
   ]
  },
  {
   "cell_type": "markdown",
   "metadata": {},
   "source": [
    "### Fourth before test"
   ]
  },
  {
   "cell_type": "code",
   "execution_count": 41,
   "metadata": {},
   "outputs": [],
   "source": [
    "timing.append('before')"
   ]
  },
  {
   "cell_type": "code",
   "execution_count": 42,
   "metadata": {},
   "outputs": [],
   "source": [
    "descriptions.append('''Test that in tbl_ref_sla_season_definition if \\\n",
    "'date_ref_fixed'==True then columns 'month_name_desc' and 'date_ref_day_number' \\\n",
    "are not null''')"
   ]
  },
  {
   "cell_type": "code",
   "execution_count": 43,
   "metadata": {},
   "outputs": [],
   "source": [
    "temp_df = before_season_definition[before_season_definition['date_ref_fixed']\n",
    "                                   == True]"
   ]
  },
  {
   "cell_type": "code",
   "execution_count": 44,
   "metadata": {},
   "outputs": [],
   "source": [
    "results.append(\n",
    "    len(temp_df) == len(temp_df[~(pd.isnull(temp_df['month_name_desc']))\n",
    "                                &\n",
    "                                (~pd.isnull(temp_df['date_ref_day_number']))]))"
   ]
  },
  {
   "cell_type": "markdown",
   "metadata": {},
   "source": [
    "### Fifth before test"
   ]
  },
  {
   "cell_type": "code",
   "execution_count": 45,
   "metadata": {},
   "outputs": [],
   "source": [
    "timing.append('before')"
   ]
  },
  {
   "cell_type": "code",
   "execution_count": 46,
   "metadata": {},
   "outputs": [],
   "source": [
    "descriptions.append('''Test that in tbl_ref_sla_season_definition if \\\n",
    "'date_ref_fixed'==False then columns 'month_name_desc' and 'day_name_desc' \\\n",
    "and 'day_rank_id' are not null''')"
   ]
  },
  {
   "cell_type": "code",
   "execution_count": 47,
   "metadata": {},
   "outputs": [],
   "source": [
    "temp_df = before_season_definition[before_season_definition['date_ref_fixed']==False]"
   ]
  },
  {
   "cell_type": "code",
   "execution_count": 48,
   "metadata": {},
   "outputs": [],
   "source": [
    "results.append(\n",
    "    len(temp_df) == len(temp_df[~(pd.isnull(temp_df['month_name_desc']))\n",
    "                                & (~pd.isnull(temp_df['day_name_desc']))\n",
    "                                & (~pd.isnull(temp_df['day_rank_id']))]))"
   ]
  },
  {
   "cell_type": "markdown",
   "metadata": {},
   "source": [
    "### Sixth before test"
   ]
  },
  {
   "cell_type": "code",
   "execution_count": 49,
   "metadata": {},
   "outputs": [],
   "source": [
    "timing.append('before')"
   ]
  },
  {
   "cell_type": "code",
   "execution_count": 50,
   "metadata": {},
   "outputs": [],
   "source": [
    "descriptions.append('''For year-round seasons, test that 'date_ref_fixed'==1, \\\n",
    "and start/end dates are Jan 1/Dec 31''')"
   ]
  },
  {
   "cell_type": "code",
   "execution_count": 51,
   "metadata": {},
   "outputs": [
    {
     "data": {
      "text/html": [
       "<div>\n",
       "<style scoped>\n",
       "    .dataframe tbody tr th:only-of-type {\n",
       "        vertical-align: middle;\n",
       "    }\n",
       "\n",
       "    .dataframe tbody tr th {\n",
       "        vertical-align: top;\n",
       "    }\n",
       "\n",
       "    .dataframe thead th {\n",
       "        text-align: right;\n",
       "    }\n",
       "</style>\n",
       "<table border=\"1\" class=\"dataframe\">\n",
       "  <thead>\n",
       "    <tr style=\"text-align: right;\">\n",
       "      <th></th>\n",
       "      <th>season_id</th>\n",
       "      <th>year_round</th>\n",
       "      <th>date_ref_fixed</th>\n",
       "      <th>month_name_desc</th>\n",
       "      <th>date_ref_day_number</th>\n",
       "      <th>date_type_id</th>\n",
       "    </tr>\n",
       "  </thead>\n",
       "  <tbody>\n",
       "    <tr>\n",
       "      <th>0</th>\n",
       "      <td>1</td>\n",
       "      <td>True</td>\n",
       "      <td>True</td>\n",
       "      <td>January</td>\n",
       "      <td>1</td>\n",
       "      <td>1</td>\n",
       "    </tr>\n",
       "    <tr>\n",
       "      <th>1</th>\n",
       "      <td>1</td>\n",
       "      <td>True</td>\n",
       "      <td>True</td>\n",
       "      <td>December</td>\n",
       "      <td>31</td>\n",
       "      <td>2</td>\n",
       "    </tr>\n",
       "  </tbody>\n",
       "</table>\n",
       "</div>"
      ],
      "text/plain": [
       "   season_id  year_round  date_ref_fixed month_name_desc  date_ref_day_number  \\\n",
       "0          1        True            True         January                    1   \n",
       "1          1        True            True        December                   31   \n",
       "\n",
       "   date_type_id  \n",
       "0             1  \n",
       "1             2  "
      ]
     },
     "execution_count": 51,
     "metadata": {},
     "output_type": "execute_result"
    }
   ],
   "source": [
    "temp_df = before_season_definition.merge(\n",
    "    before_sla_season[before_sla_season['year_round'] == True],\n",
    "    on='season_id')[[\n",
    "        'season_id', 'year_round', 'date_ref_fixed', 'month_name_desc',\n",
    "        'date_ref_day_number', 'date_type_id'\n",
    "    ]]\n",
    "temp_df"
   ]
  },
  {
   "cell_type": "code",
   "execution_count": 52,
   "metadata": {},
   "outputs": [
    {
     "data": {
      "text/plain": [
       "True"
      ]
     },
     "execution_count": 52,
     "metadata": {},
     "output_type": "execute_result"
    }
   ],
   "source": [
    "len(temp_df)==len(temp_df[((temp_df['date_type_id'] == 1)\n",
    "         & (temp_df['month_name_desc'] == 'January')\n",
    "         & (temp_df['date_ref_day_number'] == 1)) &\n",
    "        (temp_df['date_ref_fixed'] == 1) |\n",
    "        ((temp_df['date_type_id'] == 2)\n",
    "         & (temp_df['month_name_desc'] == 'December')\n",
    "        & (temp_df['date_ref_day_number'] == 31)) &\n",
    "        (temp_df['date_ref_fixed'] == 1)])"
   ]
  },
  {
   "cell_type": "code",
   "execution_count": 53,
   "metadata": {},
   "outputs": [],
   "source": [
    "results.append(\n",
    "    len(temp_df) == len(temp_df[((temp_df['date_type_id'] == 1)\n",
    "                                 & (temp_df['month_name_desc'] == 'January')\n",
    "                                 & (temp_df['date_ref_day_number'] == 1))\n",
    "                                & (temp_df['date_ref_fixed'] == 1)\n",
    "                                | ((temp_df['date_type_id'] == 2)\n",
    "                                   & (temp_df['month_name_desc'] == 'December')\n",
    "                                   & (temp_df['date_ref_day_number'] == 31))\n",
    "                                & (temp_df['date_ref_fixed'] == 1)]))"
   ]
  },
  {
   "cell_type": "markdown",
   "metadata": {},
   "source": [
    "### Seventh before test"
   ]
  },
  {
   "cell_type": "code",
   "execution_count": 54,
   "metadata": {},
   "outputs": [],
   "source": [
    "timing.append('before')"
   ]
  },
  {
   "cell_type": "code",
   "execution_count": 55,
   "metadata": {},
   "outputs": [],
   "source": [
    "# before_season_definition"
   ]
  },
  {
   "cell_type": "code",
   "execution_count": 56,
   "metadata": {},
   "outputs": [],
   "source": [
    "descriptions.append('''For periodic seasons, test that the difference between \\\n",
    "start/end months is between 2 and 10 inclusive''')"
   ]
  },
  {
   "cell_type": "code",
   "execution_count": 57,
   "metadata": {},
   "outputs": [
    {
     "data": {
      "text/html": [
       "<div>\n",
       "<style scoped>\n",
       "    .dataframe tbody tr th:only-of-type {\n",
       "        vertical-align: middle;\n",
       "    }\n",
       "\n",
       "    .dataframe tbody tr th {\n",
       "        vertical-align: top;\n",
       "    }\n",
       "\n",
       "    .dataframe thead th {\n",
       "        text-align: right;\n",
       "    }\n",
       "</style>\n",
       "<table border=\"1\" class=\"dataframe\">\n",
       "  <thead>\n",
       "    <tr style=\"text-align: right;\">\n",
       "      <th></th>\n",
       "      <th>season_id</th>\n",
       "      <th>year_round</th>\n",
       "      <th>date_ref_fixed</th>\n",
       "      <th>month_name_desc</th>\n",
       "      <th>date_ref_day_number</th>\n",
       "      <th>date_type_id</th>\n",
       "    </tr>\n",
       "  </thead>\n",
       "  <tbody>\n",
       "    <tr>\n",
       "      <th>0</th>\n",
       "      <td>2</td>\n",
       "      <td>False</td>\n",
       "      <td>True</td>\n",
       "      <td>May</td>\n",
       "      <td>1</td>\n",
       "      <td>1</td>\n",
       "    </tr>\n",
       "    <tr>\n",
       "      <th>1</th>\n",
       "      <td>2</td>\n",
       "      <td>False</td>\n",
       "      <td>True</td>\n",
       "      <td>October</td>\n",
       "      <td>1</td>\n",
       "      <td>2</td>\n",
       "    </tr>\n",
       "    <tr>\n",
       "      <th>2</th>\n",
       "      <td>3</td>\n",
       "      <td>False</td>\n",
       "      <td>True</td>\n",
       "      <td>March</td>\n",
       "      <td>1</td>\n",
       "      <td>1</td>\n",
       "    </tr>\n",
       "    <tr>\n",
       "      <th>3</th>\n",
       "      <td>3</td>\n",
       "      <td>False</td>\n",
       "      <td>True</td>\n",
       "      <td>October</td>\n",
       "      <td>31</td>\n",
       "      <td>2</td>\n",
       "    </tr>\n",
       "  </tbody>\n",
       "</table>\n",
       "</div>"
      ],
      "text/plain": [
       "   season_id  year_round  date_ref_fixed month_name_desc  date_ref_day_number  \\\n",
       "0          2       False            True             May                    1   \n",
       "1          2       False            True         October                    1   \n",
       "2          3       False            True           March                    1   \n",
       "3          3       False            True         October                   31   \n",
       "\n",
       "   date_type_id  \n",
       "0             1  \n",
       "1             2  \n",
       "2             1  \n",
       "3             2  "
      ]
     },
     "execution_count": 57,
     "metadata": {},
     "output_type": "execute_result"
    }
   ],
   "source": [
    "temp_df = before_season_definition.merge(\n",
    "    before_sla_season[before_sla_season['year_round'] == False],\n",
    "    on='season_id')[[\n",
    "        'season_id', 'year_round', 'date_ref_fixed', 'month_name_desc',\n",
    "        'date_ref_day_number', 'date_type_id'\n",
    "    ]]\n",
    "temp_df"
   ]
  },
  {
   "cell_type": "code",
   "execution_count": 58,
   "metadata": {
    "scrolled": true
   },
   "outputs": [
    {
     "data": {
      "text/html": [
       "<div>\n",
       "<style scoped>\n",
       "    .dataframe tbody tr th:only-of-type {\n",
       "        vertical-align: middle;\n",
       "    }\n",
       "\n",
       "    .dataframe tbody tr th {\n",
       "        vertical-align: top;\n",
       "    }\n",
       "\n",
       "    .dataframe thead th {\n",
       "        text-align: right;\n",
       "    }\n",
       "</style>\n",
       "<table border=\"1\" class=\"dataframe\">\n",
       "  <thead>\n",
       "    <tr style=\"text-align: right;\">\n",
       "      <th></th>\n",
       "      <th>season_id</th>\n",
       "      <th>month_name_desc</th>\n",
       "      <th>date_type_id</th>\n",
       "      <th>month_name_num</th>\n",
       "    </tr>\n",
       "  </thead>\n",
       "  <tbody>\n",
       "    <tr>\n",
       "      <th>0</th>\n",
       "      <td>2</td>\n",
       "      <td>May</td>\n",
       "      <td>1</td>\n",
       "      <td>5</td>\n",
       "    </tr>\n",
       "    <tr>\n",
       "      <th>1</th>\n",
       "      <td>2</td>\n",
       "      <td>October</td>\n",
       "      <td>2</td>\n",
       "      <td>10</td>\n",
       "    </tr>\n",
       "    <tr>\n",
       "      <th>2</th>\n",
       "      <td>3</td>\n",
       "      <td>October</td>\n",
       "      <td>2</td>\n",
       "      <td>10</td>\n",
       "    </tr>\n",
       "    <tr>\n",
       "      <th>3</th>\n",
       "      <td>3</td>\n",
       "      <td>March</td>\n",
       "      <td>1</td>\n",
       "      <td>3</td>\n",
       "    </tr>\n",
       "  </tbody>\n",
       "</table>\n",
       "</div>"
      ],
      "text/plain": [
       "   season_id month_name_desc  date_type_id  month_name_num\n",
       "0          2             May             1               5\n",
       "1          2         October             2              10\n",
       "2          3         October             2              10\n",
       "3          3           March             1               3"
      ]
     },
     "execution_count": 58,
     "metadata": {},
     "output_type": "execute_result"
    }
   ],
   "source": [
    "temp_df = before_season_definition.merge(\n",
    "    before_sla_season[before_sla_season['year_round'] == False],\n",
    "    on='season_id')[[\n",
    "        'season_id',  'month_name_desc',\n",
    "        'date_type_id'\n",
    "    ]].merge(month_tbl[['month_name_desc','month_name_num']], on='month_name_desc')\n",
    "temp_df"
   ]
  },
  {
   "cell_type": "code",
   "execution_count": 59,
   "metadata": {},
   "outputs": [
    {
     "data": {
      "text/html": [
       "<div>\n",
       "<style scoped>\n",
       "    .dataframe tbody tr th:only-of-type {\n",
       "        vertical-align: middle;\n",
       "    }\n",
       "\n",
       "    .dataframe tbody tr th {\n",
       "        vertical-align: top;\n",
       "    }\n",
       "\n",
       "    .dataframe thead th {\n",
       "        text-align: right;\n",
       "    }\n",
       "</style>\n",
       "<table border=\"1\" class=\"dataframe\">\n",
       "  <thead>\n",
       "    <tr style=\"text-align: right;\">\n",
       "      <th></th>\n",
       "      <th>start</th>\n",
       "      <th>end</th>\n",
       "    </tr>\n",
       "    <tr>\n",
       "      <th>season_id</th>\n",
       "      <th></th>\n",
       "      <th></th>\n",
       "    </tr>\n",
       "  </thead>\n",
       "  <tbody>\n",
       "    <tr>\n",
       "      <th>2</th>\n",
       "      <td>5</td>\n",
       "      <td>10</td>\n",
       "    </tr>\n",
       "    <tr>\n",
       "      <th>3</th>\n",
       "      <td>3</td>\n",
       "      <td>10</td>\n",
       "    </tr>\n",
       "  </tbody>\n",
       "</table>\n",
       "</div>"
      ],
      "text/plain": [
       "           start  end\n",
       "season_id            \n",
       "2              5   10\n",
       "3              3   10"
      ]
     },
     "execution_count": 59,
     "metadata": {},
     "output_type": "execute_result"
    }
   ],
   "source": [
    "temp_df2 = temp_df.sort_values(by='date_type_id').groupby('season_id').first().merge(\n",
    "    temp_df.sort_values(by='date_type_id').groupby('season_id').last(),\n",
    "    left_index=True,\n",
    "    right_index=True)[['month_name_num_x',\n",
    "                       'month_name_num_y']].rename(columns={\n",
    "                           'month_name_num_x': 'start',\n",
    "                           'month_name_num_y': 'end'\n",
    "                       })\n",
    "temp_df2"
   ]
  },
  {
   "cell_type": "code",
   "execution_count": 60,
   "metadata": {},
   "outputs": [],
   "source": [
    "temp_df2 = temp_df.sort_values(by='date_type_id').groupby('season_id').first().merge(\n",
    "    temp_df.sort_values(by='date_type_id').groupby('season_id').last(),\n",
    "    left_index=True,\n",
    "    right_index=True)[['month_name_num_x',\n",
    "                       'month_name_num_y']].rename(columns={\n",
    "                           'month_name_num_x': 'start',\n",
    "                           'month_name_num_y': 'end'\n",
    "                       })"
   ]
  },
  {
   "cell_type": "code",
   "execution_count": 61,
   "metadata": {},
   "outputs": [],
   "source": [
    "def get_diff(row, col_strt, col_end):\n",
    "    if row[col_end]-row[col_strt]>0:\n",
    "        return row[col_end]-row[col_strt]\n",
    "    elif row[col_end]-row[col_strt]<0:\n",
    "        return 12 + row[col_end]-row[col_strt]"
   ]
  },
  {
   "cell_type": "code",
   "execution_count": 62,
   "metadata": {},
   "outputs": [],
   "source": [
    "temp_df2['diff'] = temp_df2.apply(lambda row: get_diff(row, 'start', 'end'), axis = 1)"
   ]
  },
  {
   "cell_type": "code",
   "execution_count": 63,
   "metadata": {},
   "outputs": [],
   "source": [
    "range_vals = []\n",
    "for i in temp_df2['diff'].values:\n",
    "    if (i < 2) | (i > 10):\n",
    "        range_vals.append(False)\n",
    "    else:\n",
    "        range_vals.append(True)           "
   ]
  },
  {
   "cell_type": "code",
   "execution_count": 64,
   "metadata": {},
   "outputs": [],
   "source": [
    "# range_vals"
   ]
  },
  {
   "cell_type": "code",
   "execution_count": 65,
   "metadata": {},
   "outputs": [],
   "source": [
    "results.append(False not in range_vals)"
   ]
  },
  {
   "cell_type": "markdown",
   "metadata": {},
   "source": [
    "### Eighth before test"
   ]
  },
  {
   "cell_type": "code",
   "execution_count": 66,
   "metadata": {},
   "outputs": [],
   "source": [
    "timing.append('before')"
   ]
  },
  {
   "cell_type": "code",
   "execution_count": 67,
   "metadata": {},
   "outputs": [],
   "source": [
    "descriptions.append('''For year-round seasons, test that 'effective_start' \\\n",
    "in tbl_sla_season_date is equal to 'effective_start' in tbl_sla_season''')"
   ]
  },
  {
   "cell_type": "code",
   "execution_count": 68,
   "metadata": {},
   "outputs": [
    {
     "data": {
      "text/html": [
       "<div>\n",
       "<style scoped>\n",
       "    .dataframe tbody tr th:only-of-type {\n",
       "        vertical-align: middle;\n",
       "    }\n",
       "\n",
       "    .dataframe tbody tr th {\n",
       "        vertical-align: top;\n",
       "    }\n",
       "\n",
       "    .dataframe thead th {\n",
       "        text-align: right;\n",
       "    }\n",
       "</style>\n",
       "<table border=\"1\" class=\"dataframe\">\n",
       "  <thead>\n",
       "    <tr style=\"text-align: right;\">\n",
       "      <th></th>\n",
       "      <th>season_id</th>\n",
       "      <th>year_round</th>\n",
       "      <th>effective_start_x</th>\n",
       "      <th>effective_start_y</th>\n",
       "    </tr>\n",
       "  </thead>\n",
       "  <tbody>\n",
       "    <tr>\n",
       "      <th>0</th>\n",
       "      <td>1</td>\n",
       "      <td>True</td>\n",
       "      <td>2014-01-01</td>\n",
       "      <td>2014-01-01</td>\n",
       "    </tr>\n",
       "  </tbody>\n",
       "</table>\n",
       "</div>"
      ],
      "text/plain": [
       "   season_id  year_round effective_start_x effective_start_y\n",
       "0          1        True        2014-01-01        2014-01-01"
      ]
     },
     "execution_count": 68,
     "metadata": {},
     "output_type": "execute_result"
    }
   ],
   "source": [
    "temp_df = before_season_date.merge(\n",
    "    before_sla_season[before_sla_season['year_round'] == True],\n",
    "    on='season_id')[[\n",
    "        'season_id', 'year_round', 'effective_start_x', 'effective_start_y'\n",
    "    ]]\n",
    "temp_df"
   ]
  },
  {
   "cell_type": "code",
   "execution_count": 69,
   "metadata": {},
   "outputs": [],
   "source": [
    "results.append(\n",
    "    len(temp_df) == len(temp_df[temp_df['effective_start_x'] ==\n",
    "                                temp_df['effective_start_y']]))"
   ]
  },
  {
   "cell_type": "markdown",
   "metadata": {},
   "source": [
    "### Ninth before test"
   ]
  },
  {
   "cell_type": "code",
   "execution_count": 70,
   "metadata": {},
   "outputs": [],
   "source": [
    "timing.append('before')"
   ]
  },
  {
   "cell_type": "code",
   "execution_count": 71,
   "metadata": {},
   "outputs": [],
   "source": [
    "descriptions.append('''For periodic seasons, test that the earliest \\\n",
    "'effective_start' for each season in tbl_sla_season_date is equal to \\\n",
    "'effective_start' in tbl_sla_season''')"
   ]
  },
  {
   "cell_type": "code",
   "execution_count": 72,
   "metadata": {},
   "outputs": [
    {
     "data": {
      "text/html": [
       "<div>\n",
       "<style scoped>\n",
       "    .dataframe tbody tr th:only-of-type {\n",
       "        vertical-align: middle;\n",
       "    }\n",
       "\n",
       "    .dataframe tbody tr th {\n",
       "        vertical-align: top;\n",
       "    }\n",
       "\n",
       "    .dataframe thead th {\n",
       "        text-align: right;\n",
       "    }\n",
       "</style>\n",
       "<table border=\"1\" class=\"dataframe\">\n",
       "  <thead>\n",
       "    <tr style=\"text-align: right;\">\n",
       "      <th></th>\n",
       "      <th>year_round</th>\n",
       "      <th>effective_start_x</th>\n",
       "      <th>effective_start_y</th>\n",
       "    </tr>\n",
       "    <tr>\n",
       "      <th>season_id</th>\n",
       "      <th></th>\n",
       "      <th></th>\n",
       "      <th></th>\n",
       "    </tr>\n",
       "  </thead>\n",
       "  <tbody>\n",
       "    <tr>\n",
       "      <th>2</th>\n",
       "      <td>False</td>\n",
       "      <td>2019-07-01</td>\n",
       "      <td>2019-07-01</td>\n",
       "    </tr>\n",
       "    <tr>\n",
       "      <th>3</th>\n",
       "      <td>False</td>\n",
       "      <td>2019-07-01</td>\n",
       "      <td>2019-07-01</td>\n",
       "    </tr>\n",
       "  </tbody>\n",
       "</table>\n",
       "</div>"
      ],
      "text/plain": [
       "           year_round effective_start_x effective_start_y\n",
       "season_id                                                \n",
       "2               False        2019-07-01        2019-07-01\n",
       "3               False        2019-07-01        2019-07-01"
      ]
     },
     "execution_count": 72,
     "metadata": {},
     "output_type": "execute_result"
    }
   ],
   "source": [
    "temp_df = before_season_date.merge(\n",
    "    before_sla_season[before_sla_season['year_round'] == False],\n",
    "    on='season_id')[[\n",
    "        'season_id', 'year_round', 'effective_start_x', 'effective_start_y'\n",
    "    ]].sort_values(by='effective_start_x').groupby('season_id').first()\n",
    "temp_df"
   ]
  },
  {
   "cell_type": "code",
   "execution_count": 73,
   "metadata": {},
   "outputs": [],
   "source": [
    "results.append(\n",
    "    len(temp_df) == len(temp_df[temp_df['effective_start_x'] ==\n",
    "                                temp_df['effective_start_y']]))"
   ]
  },
  {
   "cell_type": "markdown",
   "metadata": {},
   "source": [
    "### Tenth before test"
   ]
  },
  {
   "cell_type": "code",
   "execution_count": 74,
   "metadata": {},
   "outputs": [],
   "source": [
    "timing.append('before')"
   ]
  },
  {
   "cell_type": "code",
   "execution_count": 75,
   "metadata": {},
   "outputs": [],
   "source": [
    "descriptions.append('''For periodic seasons, test that the latest \\\n",
    "'effective_end' for each season in tbl_sla_season_date is equal to \\\n",
    "'effective_end' in tbl_sla_season OR today+1year (if null)''')"
   ]
  },
  {
   "cell_type": "code",
   "execution_count": 76,
   "metadata": {},
   "outputs": [
    {
     "data": {
      "text/html": [
       "<div>\n",
       "<style scoped>\n",
       "    .dataframe tbody tr th:only-of-type {\n",
       "        vertical-align: middle;\n",
       "    }\n",
       "\n",
       "    .dataframe tbody tr th {\n",
       "        vertical-align: top;\n",
       "    }\n",
       "\n",
       "    .dataframe thead th {\n",
       "        text-align: right;\n",
       "    }\n",
       "</style>\n",
       "<table border=\"1\" class=\"dataframe\">\n",
       "  <thead>\n",
       "    <tr style=\"text-align: right;\">\n",
       "      <th></th>\n",
       "      <th>year_round</th>\n",
       "      <th>effective_start_x</th>\n",
       "      <th>effective_end_x</th>\n",
       "      <th>effective_end_y</th>\n",
       "    </tr>\n",
       "    <tr>\n",
       "      <th>season_id</th>\n",
       "      <th></th>\n",
       "      <th></th>\n",
       "      <th></th>\n",
       "      <th></th>\n",
       "    </tr>\n",
       "  </thead>\n",
       "  <tbody>\n",
       "    <tr>\n",
       "      <th>2</th>\n",
       "      <td>False</td>\n",
       "      <td>2021-05-01</td>\n",
       "      <td>2021-09-10</td>\n",
       "      <td>NaT</td>\n",
       "    </tr>\n",
       "    <tr>\n",
       "      <th>3</th>\n",
       "      <td>False</td>\n",
       "      <td>2021-03-01</td>\n",
       "      <td>2021-09-10</td>\n",
       "      <td>NaT</td>\n",
       "    </tr>\n",
       "  </tbody>\n",
       "</table>\n",
       "</div>"
      ],
      "text/plain": [
       "           year_round effective_start_x effective_end_x effective_end_y\n",
       "season_id                                                              \n",
       "2               False        2021-05-01      2021-09-10             NaT\n",
       "3               False        2021-03-01      2021-09-10             NaT"
      ]
     },
     "execution_count": 76,
     "metadata": {},
     "output_type": "execute_result"
    }
   ],
   "source": [
    "temp_df = before_season_date.merge(\n",
    "    before_sla_season[before_sla_season['year_round'] == False],\n",
    "    on='season_id')[[\n",
    "        'season_id', 'year_round', 'effective_start_x', 'effective_end_x', 'effective_end_y'\n",
    "    ]].sort_values(by='effective_start_x').groupby('season_id').last()\n",
    "temp_df"
   ]
  },
  {
   "cell_type": "code",
   "execution_count": 77,
   "metadata": {},
   "outputs": [],
   "source": [
    "two_conditions = []"
   ]
  },
  {
   "cell_type": "code",
   "execution_count": 78,
   "metadata": {},
   "outputs": [],
   "source": [
    "two_conditions.append(len(temp_df[~pd.isnull(temp_df['effective_end_y'])]) == len(\n",
    "    temp_df[(~pd.isnull(temp_df['effective_end_y']))\n",
    "            & (temp_df['effective_end_x'] == temp_df['effective_end_y'])]))"
   ]
  },
  {
   "cell_type": "code",
   "execution_count": 79,
   "metadata": {},
   "outputs": [],
   "source": [
    "two_conditions.append(\n",
    "    len(temp_df[pd.isnull(temp_df['effective_end_y'])]) == len(temp_df[\n",
    "        (pd.isnull(temp_df['effective_end_y']))\n",
    "        & (temp_df['effective_end_x'] == datetime.datetime(\n",
    "            today.year + 1, today.month, today.day))]))"
   ]
  },
  {
   "cell_type": "code",
   "execution_count": 80,
   "metadata": {},
   "outputs": [],
   "source": [
    "results.append(False not in two_conditions)"
   ]
  },
  {
   "cell_type": "markdown",
   "metadata": {},
   "source": [
    "### Eleventh before test"
   ]
  },
  {
   "cell_type": "code",
   "execution_count": 81,
   "metadata": {},
   "outputs": [],
   "source": [
    "timing.append('before')"
   ]
  },
  {
   "cell_type": "code",
   "execution_count": 82,
   "metadata": {},
   "outputs": [],
   "source": [
    "descriptions.append('''Test to make sure there are no gaps in dates \\\n",
    "in tbl_sla_season_date''')"
   ]
  },
  {
   "cell_type": "code",
   "execution_count": 83,
   "metadata": {},
   "outputs": [],
   "source": [
    "sql_gaps_1 = '''\n",
    "select season_id,\n",
    "       datediff(day, min(effective_start), max(effective_end)) as daydiff\n",
    "from sladb.dbo.tbl_sla_season_date\n",
    "group by season_id\n",
    "'''\n",
    "\n",
    "sql_gaps_2 = '''select season_id,\n",
    "       case when count(*) > 1 then sum(daydiff) + (count(*) - 1)\n",
    "            else sum(daydiff)\n",
    "       end as daydiff\n",
    "from (select season_id,\n",
    "             datediff(day, effective_start, effective_end) as daydiff\n",
    "      from sladb.dbo.tbl_sla_season_date) as t\n",
    "group by season_id\n",
    "'''"
   ]
  },
  {
   "cell_type": "code",
   "execution_count": 84,
   "metadata": {},
   "outputs": [],
   "source": [
    "gaps_df1 = pd.read_sql(con = engine, sql = sql_gaps_1)\n",
    "gaps_df2 = pd.read_sql(con = engine, sql = sql_gaps_2)"
   ]
  },
  {
   "cell_type": "code",
   "execution_count": 85,
   "metadata": {},
   "outputs": [],
   "source": [
    "temp_df = gaps_df1.merge(gaps_df2, on='season_id')"
   ]
  },
  {
   "cell_type": "code",
   "execution_count": 86,
   "metadata": {},
   "outputs": [],
   "source": [
    "results.append(len(temp_df)==len(temp_df[temp_df['daydiff_x']==temp_df['daydiff_y']]))"
   ]
  },
  {
   "cell_type": "markdown",
   "metadata": {},
   "source": [
    "### Twelfth before test"
   ]
  },
  {
   "cell_type": "code",
   "execution_count": 87,
   "metadata": {},
   "outputs": [],
   "source": [
    "timing.append('before')"
   ]
  },
  {
   "cell_type": "code",
   "execution_count": 88,
   "metadata": {},
   "outputs": [],
   "source": [
    "descriptions.append('''Test to make sure there are no gaps in dates \\\n",
    "('effective_start_adj' and 'effective_end_adj')in tbl_sla_season_date''')"
   ]
  },
  {
   "cell_type": "code",
   "execution_count": 89,
   "metadata": {},
   "outputs": [],
   "source": [
    "sql_gaps_1 = '''\n",
    "select season_id,\n",
    "       datediff(day, min(effective_start_adj), max(effective_end_adj)) as daydiff\n",
    "from sladb.dbo.tbl_sla_season_date\n",
    "group by season_id\n",
    "'''\n",
    "\n",
    "sql_gaps_2 = '''select season_id,\n",
    "       case when count(*) > 1 then sum(daydiff) + (count(*) - 1)\n",
    "            else sum(daydiff)\n",
    "       end as daydiff\n",
    "from (select season_id,\n",
    "             datediff(day, effective_start_adj, effective_end_adj) as daydiff\n",
    "      from sladb.dbo.tbl_sla_season_date) as t\n",
    "group by season_id\n",
    "'''"
   ]
  },
  {
   "cell_type": "code",
   "execution_count": 90,
   "metadata": {},
   "outputs": [],
   "source": [
    "gaps_df1 = pd.read_sql(con = engine, sql = sql_gaps_1)\n",
    "gaps_df2 = pd.read_sql(con = engine, sql = sql_gaps_2)"
   ]
  },
  {
   "cell_type": "code",
   "execution_count": 91,
   "metadata": {},
   "outputs": [],
   "source": [
    "temp_df = gaps_df1.merge(gaps_df2, on='season_id')"
   ]
  },
  {
   "cell_type": "code",
   "execution_count": 92,
   "metadata": {},
   "outputs": [
    {
     "data": {
      "text/html": [
       "<div>\n",
       "<style scoped>\n",
       "    .dataframe tbody tr th:only-of-type {\n",
       "        vertical-align: middle;\n",
       "    }\n",
       "\n",
       "    .dataframe tbody tr th {\n",
       "        vertical-align: top;\n",
       "    }\n",
       "\n",
       "    .dataframe thead th {\n",
       "        text-align: right;\n",
       "    }\n",
       "</style>\n",
       "<table border=\"1\" class=\"dataframe\">\n",
       "  <thead>\n",
       "    <tr style=\"text-align: right;\">\n",
       "      <th></th>\n",
       "      <th>season_id</th>\n",
       "      <th>daydiff_x</th>\n",
       "      <th>daydiff_y</th>\n",
       "    </tr>\n",
       "  </thead>\n",
       "  <tbody>\n",
       "  </tbody>\n",
       "</table>\n",
       "</div>"
      ],
      "text/plain": [
       "Empty DataFrame\n",
       "Columns: [season_id, daydiff_x, daydiff_y]\n",
       "Index: []"
      ]
     },
     "execution_count": 92,
     "metadata": {},
     "output_type": "execute_result"
    }
   ],
   "source": [
    "temp_df[temp_df['daydiff_x']!=temp_df['daydiff_y']]"
   ]
  },
  {
   "cell_type": "code",
   "execution_count": 93,
   "metadata": {},
   "outputs": [
    {
     "data": {
      "text/plain": [
       "True"
      ]
     },
     "execution_count": 93,
     "metadata": {},
     "output_type": "execute_result"
    }
   ],
   "source": [
    "len(temp_df)==len(temp_df[temp_df['daydiff_x']==temp_df['daydiff_y']])"
   ]
  },
  {
   "cell_type": "code",
   "execution_count": 94,
   "metadata": {},
   "outputs": [],
   "source": [
    "results.append(len(temp_df)==len(temp_df[temp_df['daydiff_x']==temp_df['daydiff_y']]))"
   ]
  },
  {
   "cell_type": "markdown",
   "metadata": {},
   "source": [
    "### Twelfth before test"
   ]
  },
  {
   "cell_type": "code",
   "execution_count": 95,
   "metadata": {},
   "outputs": [],
   "source": [
    "timing.append('before')"
   ]
  },
  {
   "cell_type": "code",
   "execution_count": 96,
   "metadata": {},
   "outputs": [],
   "source": [
    "descriptions.append('''In tbl_unit_sla_season, test to make sure \\\n",
    "the 'effective_start_adj' is between 'effective_start_adj' and \\\n",
    "'effective_end_adj' from tbl_sla_season if not null. If 'effective_end_adj' \\\n",
    "is null, replace with today's date+1year''')"
   ]
  },
  {
   "cell_type": "code",
   "execution_count": 97,
   "metadata": {},
   "outputs": [
    {
     "data": {
      "text/html": [
       "<div>\n",
       "<style scoped>\n",
       "    .dataframe tbody tr th:only-of-type {\n",
       "        vertical-align: middle;\n",
       "    }\n",
       "\n",
       "    .dataframe tbody tr th {\n",
       "        vertical-align: top;\n",
       "    }\n",
       "\n",
       "    .dataframe thead th {\n",
       "        text-align: right;\n",
       "    }\n",
       "</style>\n",
       "<table border=\"1\" class=\"dataframe\">\n",
       "  <thead>\n",
       "    <tr style=\"text-align: right;\">\n",
       "      <th></th>\n",
       "      <th>unit_id</th>\n",
       "      <th>season_id</th>\n",
       "      <th>effective_start_adj_x</th>\n",
       "      <th>effective_start_adj_y</th>\n",
       "      <th>effective_end_adj_y</th>\n",
       "    </tr>\n",
       "  </thead>\n",
       "  <tbody>\n",
       "    <tr>\n",
       "      <th>0</th>\n",
       "      <td>RZ245</td>\n",
       "      <td>1</td>\n",
       "      <td>2014-01-05</td>\n",
       "      <td>2014-01-05</td>\n",
       "      <td>NaT</td>\n",
       "    </tr>\n",
       "    <tr>\n",
       "      <th>1</th>\n",
       "      <td>RZ25</td>\n",
       "      <td>1</td>\n",
       "      <td>2014-01-05</td>\n",
       "      <td>2014-01-05</td>\n",
       "      <td>NaT</td>\n",
       "    </tr>\n",
       "    <tr>\n",
       "      <th>2</th>\n",
       "      <td>RZ255</td>\n",
       "      <td>1</td>\n",
       "      <td>2014-01-05</td>\n",
       "      <td>2014-01-05</td>\n",
       "      <td>NaT</td>\n",
       "    </tr>\n",
       "    <tr>\n",
       "      <th>3</th>\n",
       "      <td>RZ258</td>\n",
       "      <td>1</td>\n",
       "      <td>2014-01-05</td>\n",
       "      <td>2014-01-05</td>\n",
       "      <td>NaT</td>\n",
       "    </tr>\n",
       "    <tr>\n",
       "      <th>4</th>\n",
       "      <td>RZ26</td>\n",
       "      <td>1</td>\n",
       "      <td>2014-01-05</td>\n",
       "      <td>2014-01-05</td>\n",
       "      <td>NaT</td>\n",
       "    </tr>\n",
       "  </tbody>\n",
       "</table>\n",
       "</div>"
      ],
      "text/plain": [
       "  unit_id  season_id effective_start_adj_x effective_start_adj_y  \\\n",
       "0   RZ245          1            2014-01-05            2014-01-05   \n",
       "1    RZ25          1            2014-01-05            2014-01-05   \n",
       "2   RZ255          1            2014-01-05            2014-01-05   \n",
       "3   RZ258          1            2014-01-05            2014-01-05   \n",
       "4    RZ26          1            2014-01-05            2014-01-05   \n",
       "\n",
       "  effective_end_adj_y  \n",
       "0                 NaT  \n",
       "1                 NaT  \n",
       "2                 NaT  \n",
       "3                 NaT  \n",
       "4                 NaT  "
      ]
     },
     "execution_count": 97,
     "metadata": {},
     "output_type": "execute_result"
    }
   ],
   "source": [
    "temp_df = before_unit_season.merge(before_sla_season[[\n",
    "    'season_id', 'effective_start_adj', 'effective_end_adj'\n",
    "]],\n",
    "                                   on='season_id')[[\n",
    "                                       'unit_id', 'season_id',\n",
    "                                       'effective_start_adj_x',\n",
    "                                       'effective_start_adj_y',\n",
    "                                       'effective_end_adj_y'\n",
    "                                   ]].copy()\n",
    "temp_df.head()"
   ]
  },
  {
   "cell_type": "code",
   "execution_count": 98,
   "metadata": {},
   "outputs": [],
   "source": [
    "temp_df['effective_end_adj_y'].fillna(datetime.datetime(\n",
    "            today.year + 1, today.month, today.day), inplace=True)"
   ]
  },
  {
   "cell_type": "code",
   "execution_count": 99,
   "metadata": {},
   "outputs": [],
   "source": [
    "results.append(\n",
    "    len(temp_df[\n",
    "        (temp_df['effective_start_adj_x'] < temp_df['effective_start_adj_y'])\n",
    "        | (temp_df['effective_start_adj_x'] > temp_df['effective_end_adj_y'])])\n",
    "    == 0)"
   ]
  },
  {
   "cell_type": "markdown",
   "metadata": {},
   "source": [
    "### Thirteenth before test"
   ]
  },
  {
   "cell_type": "code",
   "execution_count": 100,
   "metadata": {},
   "outputs": [],
   "source": [
    "timing.append('before')"
   ]
  },
  {
   "cell_type": "code",
   "execution_count": 101,
   "metadata": {},
   "outputs": [],
   "source": [
    "descriptions.append('''In tbl_unit_sla_season, test to make sure the \\\n",
    "'effective_end_adj' is between 'effective_start_adj' and 'effective_end_adj' \\\n",
    "from tbl_sla_season if not null. If 'effective_end_adj' is null, replace with \\\n",
    "today's date+1year''')"
   ]
  },
  {
   "cell_type": "code",
   "execution_count": 102,
   "metadata": {},
   "outputs": [
    {
     "data": {
      "text/html": [
       "<div>\n",
       "<style scoped>\n",
       "    .dataframe tbody tr th:only-of-type {\n",
       "        vertical-align: middle;\n",
       "    }\n",
       "\n",
       "    .dataframe tbody tr th {\n",
       "        vertical-align: top;\n",
       "    }\n",
       "\n",
       "    .dataframe thead th {\n",
       "        text-align: right;\n",
       "    }\n",
       "</style>\n",
       "<table border=\"1\" class=\"dataframe\">\n",
       "  <thead>\n",
       "    <tr style=\"text-align: right;\">\n",
       "      <th></th>\n",
       "      <th>unit_id</th>\n",
       "      <th>season_id</th>\n",
       "      <th>effective_end_adj_x</th>\n",
       "      <th>effective_start_adj_y</th>\n",
       "      <th>effective_end_adj_y</th>\n",
       "    </tr>\n",
       "  </thead>\n",
       "  <tbody>\n",
       "    <tr>\n",
       "      <th>0</th>\n",
       "      <td>RZ245</td>\n",
       "      <td>1</td>\n",
       "      <td>2020-03-21</td>\n",
       "      <td>2014-01-05</td>\n",
       "      <td>NaT</td>\n",
       "    </tr>\n",
       "    <tr>\n",
       "      <th>1</th>\n",
       "      <td>RZ25</td>\n",
       "      <td>1</td>\n",
       "      <td>2020-03-21</td>\n",
       "      <td>2014-01-05</td>\n",
       "      <td>NaT</td>\n",
       "    </tr>\n",
       "    <tr>\n",
       "      <th>2</th>\n",
       "      <td>RZ255</td>\n",
       "      <td>1</td>\n",
       "      <td>2020-03-21</td>\n",
       "      <td>2014-01-05</td>\n",
       "      <td>NaT</td>\n",
       "    </tr>\n",
       "    <tr>\n",
       "      <th>3</th>\n",
       "      <td>RZ258</td>\n",
       "      <td>1</td>\n",
       "      <td>2020-03-21</td>\n",
       "      <td>2014-01-05</td>\n",
       "      <td>NaT</td>\n",
       "    </tr>\n",
       "    <tr>\n",
       "      <th>4</th>\n",
       "      <td>RZ26</td>\n",
       "      <td>1</td>\n",
       "      <td>2020-03-21</td>\n",
       "      <td>2014-01-05</td>\n",
       "      <td>NaT</td>\n",
       "    </tr>\n",
       "  </tbody>\n",
       "</table>\n",
       "</div>"
      ],
      "text/plain": [
       "  unit_id  season_id effective_end_adj_x effective_start_adj_y  \\\n",
       "0   RZ245          1          2020-03-21            2014-01-05   \n",
       "1    RZ25          1          2020-03-21            2014-01-05   \n",
       "2   RZ255          1          2020-03-21            2014-01-05   \n",
       "3   RZ258          1          2020-03-21            2014-01-05   \n",
       "4    RZ26          1          2020-03-21            2014-01-05   \n",
       "\n",
       "  effective_end_adj_y  \n",
       "0                 NaT  \n",
       "1                 NaT  \n",
       "2                 NaT  \n",
       "3                 NaT  \n",
       "4                 NaT  "
      ]
     },
     "execution_count": 102,
     "metadata": {},
     "output_type": "execute_result"
    }
   ],
   "source": [
    "temp_df = before_unit_season.merge(before_sla_season[[\n",
    "    'season_id', 'effective_start_adj', 'effective_end_adj'\n",
    "]],\n",
    "                                   on='season_id')[[\n",
    "                                       'unit_id', 'season_id',\n",
    "                                       'effective_end_adj_x',\n",
    "                                       'effective_start_adj_y',\n",
    "                                       'effective_end_adj_y'\n",
    "                                   ]].copy()\n",
    "temp_df.head()"
   ]
  },
  {
   "cell_type": "code",
   "execution_count": 103,
   "metadata": {},
   "outputs": [],
   "source": [
    "temp_df['effective_end_adj_y'].fillna(datetime.datetime(\n",
    "            today.year + 1, today.month, today.day), inplace=True)"
   ]
  },
  {
   "cell_type": "code",
   "execution_count": 104,
   "metadata": {},
   "outputs": [
    {
     "data": {
      "text/html": [
       "<div>\n",
       "<style scoped>\n",
       "    .dataframe tbody tr th:only-of-type {\n",
       "        vertical-align: middle;\n",
       "    }\n",
       "\n",
       "    .dataframe tbody tr th {\n",
       "        vertical-align: top;\n",
       "    }\n",
       "\n",
       "    .dataframe thead th {\n",
       "        text-align: right;\n",
       "    }\n",
       "</style>\n",
       "<table border=\"1\" class=\"dataframe\">\n",
       "  <thead>\n",
       "    <tr style=\"text-align: right;\">\n",
       "      <th></th>\n",
       "      <th>unit_id</th>\n",
       "      <th>season_id</th>\n",
       "      <th>effective_end_adj_x</th>\n",
       "      <th>effective_start_adj_y</th>\n",
       "      <th>effective_end_adj_y</th>\n",
       "    </tr>\n",
       "  </thead>\n",
       "  <tbody>\n",
       "  </tbody>\n",
       "</table>\n",
       "</div>"
      ],
      "text/plain": [
       "Empty DataFrame\n",
       "Columns: [unit_id, season_id, effective_end_adj_x, effective_start_adj_y, effective_end_adj_y]\n",
       "Index: []"
      ]
     },
     "execution_count": 104,
     "metadata": {},
     "output_type": "execute_result"
    }
   ],
   "source": [
    "temp_df[\n",
    "        (temp_df['effective_end_adj_x'] < temp_df['effective_start_adj_y'])\n",
    "        | (temp_df['effective_end_adj_x'] > temp_df['effective_end_adj_y'])]"
   ]
  },
  {
   "cell_type": "code",
   "execution_count": 105,
   "metadata": {},
   "outputs": [
    {
     "data": {
      "text/plain": [
       "array([], dtype=int64)"
      ]
     },
     "execution_count": 105,
     "metadata": {},
     "output_type": "execute_result"
    }
   ],
   "source": [
    "temp_df[\n",
    "        (temp_df['effective_end_adj_x'] < temp_df['effective_start_adj_y'])\n",
    "        | (temp_df['effective_end_adj_x'] > temp_df['effective_end_adj_y'])]['season_id'].unique()"
   ]
  },
  {
   "cell_type": "code",
   "execution_count": 106,
   "metadata": {},
   "outputs": [],
   "source": [
    "results.append(\n",
    "    len(temp_df[\n",
    "        (temp_df['effective_end_adj_x'] < temp_df['effective_start_adj_y'])\n",
    "        | (temp_df['effective_end_adj_x'] > temp_df['effective_end_adj_y'])])\n",
    "    == 0)"
   ]
  },
  {
   "cell_type": "markdown",
   "metadata": {},
   "source": [
    "## Make Updates"
   ]
  },
  {
   "cell_type": "markdown",
   "metadata": {},
   "source": [
    "## Execute all of the sql queries AFTER UPDATES and store the results"
   ]
  },
  {
   "cell_type": "markdown",
   "metadata": {},
   "source": [
    "## List of tuples with final test results"
   ]
  },
  {
   "cell_type": "code",
   "execution_count": 107,
   "metadata": {},
   "outputs": [
    {
     "data": {
      "text/plain": [
       "[('before',\n",
       "  \"Ensure that 'effective'==1 for every season that has 'effective_end_date' == null\",\n",
       "  True),\n",
       " ('before',\n",
       "  \"Test that 'effective_end_adj' is after today if 'effective'==1 AND 'effective_end' != null in tbl_sla_season\",\n",
       "  True),\n",
       " ('before',\n",
       "  'Test that every season in tbl_sla_season has exactly two entries in tbl_ref_sla_season_definition',\n",
       "  True),\n",
       " ('before',\n",
       "  \"Test that in tbl_ref_sla_season_definition if 'date_ref_fixed'==True then columns 'month_name_desc' and 'date_ref_day_number' are not null\",\n",
       "  True),\n",
       " ('before',\n",
       "  \"Test that in tbl_ref_sla_season_definition if 'date_ref_fixed'==False then columns 'month_name_desc' and 'day_name_desc' and 'day_rank_id' are not null\",\n",
       "  True),\n",
       " ('before',\n",
       "  \"For year-round seasons, test that 'date_ref_fixed'==1, and start/end dates are Jan 1/Dec 31\",\n",
       "  True),\n",
       " ('before',\n",
       "  'For periodic seasons, test that the difference between start/end months is between 2 and 10 inclusive',\n",
       "  True),\n",
       " ('before',\n",
       "  \"For year-round seasons, test that 'effective_start' in tbl_sla_season_date is equal to 'effective_start' in tbl_sla_season\",\n",
       "  True),\n",
       " ('before',\n",
       "  \"For periodic seasons, test that the earliest 'effective_start' for each season in tbl_sla_season_date is equal to 'effective_start' in tbl_sla_season\",\n",
       "  True),\n",
       " ('before',\n",
       "  \"For periodic seasons, test that the latest 'effective_end' for each season in tbl_sla_season_date is equal to 'effective_end' in tbl_sla_season OR today+1year (if null)\",\n",
       "  True),\n",
       " ('before',\n",
       "  'Test to make sure there are no gaps in dates in tbl_sla_season_date',\n",
       "  True),\n",
       " ('before',\n",
       "  \"Test to make sure there are no gaps in dates ('effective_start_adj' and 'effective_end_adj')in tbl_sla_season_date\",\n",
       "  True),\n",
       " ('before',\n",
       "  \"In tbl_unit_sla_season, test to make sure the 'effective_start_adj' is between 'effective_start_adj' and 'effective_end_adj' from tbl_sla_season if not null. If 'effective_end_adj' is null, replace with today's date+1year\",\n",
       "  True),\n",
       " ('before',\n",
       "  \"In tbl_unit_sla_season, test to make sure the 'effective_end_adj' is between 'effective_start_adj' and 'effective_end_adj' from tbl_sla_season if not null. If 'effective_end_adj' is null, replace with today's date+1year\",\n",
       "  True)]"
      ]
     },
     "execution_count": 107,
     "metadata": {},
     "output_type": "execute_result"
    }
   ],
   "source": [
    "list(zip(timing, descriptions, results))"
   ]
  },
  {
   "cell_type": "code",
   "execution_count": 108,
   "metadata": {
    "scrolled": false
   },
   "outputs": [
    {
     "data": {
      "text/html": [
       "<div>\n",
       "<style scoped>\n",
       "    .dataframe tbody tr th:only-of-type {\n",
       "        vertical-align: middle;\n",
       "    }\n",
       "\n",
       "    .dataframe tbody tr th {\n",
       "        vertical-align: top;\n",
       "    }\n",
       "\n",
       "    .dataframe thead th {\n",
       "        text-align: right;\n",
       "    }\n",
       "</style>\n",
       "<table border=\"1\" class=\"dataframe\">\n",
       "  <thead>\n",
       "    <tr style=\"text-align: right;\">\n",
       "      <th></th>\n",
       "      <th>before/after</th>\n",
       "      <th>result</th>\n",
       "      <th>test_desc</th>\n",
       "    </tr>\n",
       "  </thead>\n",
       "  <tbody>\n",
       "    <tr>\n",
       "      <th>0</th>\n",
       "      <td>before</td>\n",
       "      <td>Ensure that 'effective'==1 for every season th...</td>\n",
       "      <td>True</td>\n",
       "    </tr>\n",
       "    <tr>\n",
       "      <th>1</th>\n",
       "      <td>before</td>\n",
       "      <td>Test that 'effective_end_adj' is after today i...</td>\n",
       "      <td>True</td>\n",
       "    </tr>\n",
       "    <tr>\n",
       "      <th>2</th>\n",
       "      <td>before</td>\n",
       "      <td>Test that every season in tbl_sla_season has e...</td>\n",
       "      <td>True</td>\n",
       "    </tr>\n",
       "    <tr>\n",
       "      <th>3</th>\n",
       "      <td>before</td>\n",
       "      <td>Test that in tbl_ref_sla_season_definition if ...</td>\n",
       "      <td>True</td>\n",
       "    </tr>\n",
       "    <tr>\n",
       "      <th>4</th>\n",
       "      <td>before</td>\n",
       "      <td>Test that in tbl_ref_sla_season_definition if ...</td>\n",
       "      <td>True</td>\n",
       "    </tr>\n",
       "    <tr>\n",
       "      <th>5</th>\n",
       "      <td>before</td>\n",
       "      <td>For year-round seasons, test that 'date_ref_fi...</td>\n",
       "      <td>True</td>\n",
       "    </tr>\n",
       "    <tr>\n",
       "      <th>6</th>\n",
       "      <td>before</td>\n",
       "      <td>For periodic seasons, test that the difference...</td>\n",
       "      <td>True</td>\n",
       "    </tr>\n",
       "    <tr>\n",
       "      <th>7</th>\n",
       "      <td>before</td>\n",
       "      <td>For year-round seasons, test that 'effective_s...</td>\n",
       "      <td>True</td>\n",
       "    </tr>\n",
       "    <tr>\n",
       "      <th>8</th>\n",
       "      <td>before</td>\n",
       "      <td>For periodic seasons, test that the earliest '...</td>\n",
       "      <td>True</td>\n",
       "    </tr>\n",
       "    <tr>\n",
       "      <th>9</th>\n",
       "      <td>before</td>\n",
       "      <td>For periodic seasons, test that the latest 'ef...</td>\n",
       "      <td>True</td>\n",
       "    </tr>\n",
       "    <tr>\n",
       "      <th>10</th>\n",
       "      <td>before</td>\n",
       "      <td>Test to make sure there are no gaps in dates i...</td>\n",
       "      <td>True</td>\n",
       "    </tr>\n",
       "    <tr>\n",
       "      <th>11</th>\n",
       "      <td>before</td>\n",
       "      <td>Test to make sure there are no gaps in dates (...</td>\n",
       "      <td>True</td>\n",
       "    </tr>\n",
       "    <tr>\n",
       "      <th>12</th>\n",
       "      <td>before</td>\n",
       "      <td>In tbl_unit_sla_season, test to make sure the ...</td>\n",
       "      <td>True</td>\n",
       "    </tr>\n",
       "    <tr>\n",
       "      <th>13</th>\n",
       "      <td>before</td>\n",
       "      <td>In tbl_unit_sla_season, test to make sure the ...</td>\n",
       "      <td>True</td>\n",
       "    </tr>\n",
       "  </tbody>\n",
       "</table>\n",
       "</div>"
      ],
      "text/plain": [
       "   before/after                                             result  test_desc\n",
       "0        before  Ensure that 'effective'==1 for every season th...       True\n",
       "1        before  Test that 'effective_end_adj' is after today i...       True\n",
       "2        before  Test that every season in tbl_sla_season has e...       True\n",
       "3        before  Test that in tbl_ref_sla_season_definition if ...       True\n",
       "4        before  Test that in tbl_ref_sla_season_definition if ...       True\n",
       "5        before  For year-round seasons, test that 'date_ref_fi...       True\n",
       "6        before  For periodic seasons, test that the difference...       True\n",
       "7        before  For year-round seasons, test that 'effective_s...       True\n",
       "8        before  For periodic seasons, test that the earliest '...       True\n",
       "9        before  For periodic seasons, test that the latest 'ef...       True\n",
       "10       before  Test to make sure there are no gaps in dates i...       True\n",
       "11       before  Test to make sure there are no gaps in dates (...       True\n",
       "12       before  In tbl_unit_sla_season, test to make sure the ...       True\n",
       "13       before  In tbl_unit_sla_season, test to make sure the ...       True"
      ]
     },
     "execution_count": 108,
     "metadata": {},
     "output_type": "execute_result"
    }
   ],
   "source": [
    "pd.DataFrame(list(zip(timing, descriptions, results)), columns = {'before/after', 'test_desc', 'result'})             "
   ]
  },
  {
   "cell_type": "code",
   "execution_count": null,
   "metadata": {},
   "outputs": [],
   "source": []
  }
 ],
 "metadata": {
  "kernelspec": {
   "display_name": "Python 3",
   "language": "python",
   "name": "python3"
  },
  "language_info": {
   "codemirror_mode": {
    "name": "ipython",
    "version": 3
   },
   "file_extension": ".py",
   "mimetype": "text/x-python",
   "name": "python",
   "nbconvert_exporter": "python",
   "pygments_lexer": "ipython3",
   "version": "3.7.3"
  },
  "toc": {
   "base_numbering": 1,
   "nav_menu": {},
   "number_sections": true,
   "sideBar": true,
   "skip_h1_title": false,
   "title_cell": "Table of Contents",
   "title_sidebar": "Contents",
   "toc_cell": false,
   "toc_position": {
    "height": "calc(100% - 180px)",
    "left": "10px",
    "top": "150px",
    "width": "237px"
   },
   "toc_section_display": true,
   "toc_window_display": true
  }
 },
 "nbformat": 4,
 "nbformat_minor": 2
}
