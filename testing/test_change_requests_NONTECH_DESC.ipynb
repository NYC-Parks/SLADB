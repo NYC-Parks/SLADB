{
 "cells": [
  {
   "cell_type": "code",
   "execution_count": 1,
   "metadata": {},
   "outputs": [],
   "source": [
    "import sys\n",
    "import pandas as pd\n",
    "import numpy as np\n",
    "import urllib\n",
    "import sqlalchemy\n",
    "import string\n",
    "import datetime"
   ]
  },
  {
   "cell_type": "code",
   "execution_count": 2,
   "metadata": {},
   "outputs": [],
   "source": [
    "#Import shared functions\n",
    "sys.path.append('..\\..')\n",
    "from IPM_Shared_Code_public.Python.utils import get_config"
   ]
  },
  {
   "cell_type": "code",
   "execution_count": 3,
   "metadata": {},
   "outputs": [],
   "source": [
    "config = get_config('c:\\Projects\\config.ini')\n",
    "\n",
    "driver = config['srv']['driver']\n",
    "server = config['srv']['dev_server']\n",
    "sladb = config['db']['sladb']"
   ]
  },
  {
   "cell_type": "code",
   "execution_count": 4,
   "metadata": {},
   "outputs": [],
   "source": [
    "con_string = 'Driver={' + driver + '};Server=' + server +';Database=' + sladb + ';Trusted_Connection=Yes;'\n",
    "params = urllib.parse.quote_plus(con_string)\n",
    "engine = sqlalchemy.create_engine(\"mssql+pyodbc:///?odbc_connect=%s\" % params)"
   ]
  },
  {
   "cell_type": "markdown",
   "metadata": {},
   "source": [
    "## Write all of the sql queries required for the tests"
   ]
  },
  {
   "cell_type": "code",
   "execution_count": 5,
   "metadata": {},
   "outputs": [],
   "source": [
    "sql_sla_season = 'select * from sladb.dbo.tbl_sla_season'"
   ]
  },
  {
   "cell_type": "code",
   "execution_count": 6,
   "metadata": {},
   "outputs": [],
   "source": [
    "sql_change_request = 'select * from sladb.dbo.tbl_change_request'"
   ]
  },
  {
   "cell_type": "code",
   "execution_count": 7,
   "metadata": {},
   "outputs": [],
   "source": [
    "sql_change_request_status = 'select * from sladb.dbo.tbl_change_request_status'"
   ]
  },
  {
   "cell_type": "code",
   "execution_count": 8,
   "metadata": {},
   "outputs": [],
   "source": [
    "sql_unit_sla_season = 'select * from sladb.dbo.tbl_unit_sla_season'"
   ]
  },
  {
   "cell_type": "code",
   "execution_count": 9,
   "metadata": {},
   "outputs": [],
   "source": [
    "sql_vw_sla_code_pivot = 'select * from vw_sla_code_pivot'"
   ]
  },
  {
   "cell_type": "code",
   "execution_count": 10,
   "metadata": {},
   "outputs": [],
   "source": [
    "sql_ref_calendar = 'select * from tbl_ref_calendar'"
   ]
  },
  {
   "cell_type": "code",
   "execution_count": 11,
   "metadata": {},
   "outputs": [],
   "source": [
    "sql_day_name = 'select * from tbl_ref_sla_season_day_name'"
   ]
  },
  {
   "cell_type": "code",
   "execution_count": 12,
   "metadata": {},
   "outputs": [],
   "source": [
    "sql_ref_unit = 'select * from tbl_ref_unit'"
   ]
  },
  {
   "cell_type": "code",
   "execution_count": 13,
   "metadata": {},
   "outputs": [],
   "source": [
    "sql_ref_sla_code = 'select * from tbl_ref_sla_code'"
   ]
  },
  {
   "cell_type": "code",
   "execution_count": 14,
   "metadata": {},
   "outputs": [],
   "source": [
    "# sql_month_tbl = 'select * from tbl_ref_sla_season_month_name'"
   ]
  },
  {
   "cell_type": "markdown",
   "metadata": {},
   "source": [
    "## Execute all of the sql queries and store the results"
   ]
  },
  {
   "cell_type": "code",
   "execution_count": 15,
   "metadata": {},
   "outputs": [],
   "source": [
    "before_sla_code_pivot = pd.read_sql(con = engine, sql = sql_vw_sla_code_pivot)"
   ]
  },
  {
   "cell_type": "code",
   "execution_count": 16,
   "metadata": {},
   "outputs": [],
   "source": [
    "ref_unit_tbl  = pd.read_sql(con = engine, sql = sql_ref_unit)"
   ]
  },
  {
   "cell_type": "code",
   "execution_count": 17,
   "metadata": {},
   "outputs": [
    {
     "data": {
      "text/html": [
       "<div>\n",
       "<style scoped>\n",
       "    .dataframe tbody tr th:only-of-type {\n",
       "        vertical-align: middle;\n",
       "    }\n",
       "\n",
       "    .dataframe tbody tr th {\n",
       "        vertical-align: top;\n",
       "    }\n",
       "\n",
       "    .dataframe thead th {\n",
       "        text-align: right;\n",
       "    }\n",
       "</style>\n",
       "<table border=\"1\" class=\"dataframe\">\n",
       "  <thead>\n",
       "    <tr style=\"text-align: right;\">\n",
       "      <th></th>\n",
       "      <th>unit_id</th>\n",
       "      <th>unit_desc</th>\n",
       "      <th>unit_class</th>\n",
       "      <th>unit_mrc</th>\n",
       "      <th>unit_status</th>\n",
       "      <th>gisobjid</th>\n",
       "      <th>unit_commiss</th>\n",
       "      <th>unit_updated</th>\n",
       "      <th>unit_withdraw</th>\n",
       "    </tr>\n",
       "  </thead>\n",
       "  <tbody>\n",
       "    <tr>\n",
       "      <th>0</th>\n",
       "      <td>-</td>\n",
       "      <td>Fordham Bedford Lot Busters</td>\n",
       "      <td>PARK</td>\n",
       "      <td>M-11</td>\n",
       "      <td>D</td>\n",
       "      <td>100004689.0</td>\n",
       "      <td>2010-01-06</td>\n",
       "      <td>2018-12-20 12:40:52.483</td>\n",
       "      <td>2010-04-01</td>\n",
       "    </tr>\n",
       "    <tr>\n",
       "      <th>1</th>\n",
       "      <td>11772</td>\n",
       "      <td>Fordham Bedford Lot Busters</td>\n",
       "      <td>PARK</td>\n",
       "      <td>M-11</td>\n",
       "      <td>D</td>\n",
       "      <td>NaN</td>\n",
       "      <td>2011-07-28</td>\n",
       "      <td>2018-12-20 12:40:52.810</td>\n",
       "      <td>2014-04-11</td>\n",
       "    </tr>\n",
       "    <tr>\n",
       "      <th>2</th>\n",
       "      <td>12654</td>\n",
       "      <td>Fordham Bedford Lot Busters</td>\n",
       "      <td>PARK</td>\n",
       "      <td>M-11</td>\n",
       "      <td>D</td>\n",
       "      <td>NaN</td>\n",
       "      <td>2012-03-06</td>\n",
       "      <td>2018-12-20 12:40:52.983</td>\n",
       "      <td>2014-04-11</td>\n",
       "    </tr>\n",
       "    <tr>\n",
       "      <th>3</th>\n",
       "      <td>14301</td>\n",
       "      <td>Fordham Bedford Lot Busters</td>\n",
       "      <td>PARK</td>\n",
       "      <td>M-11</td>\n",
       "      <td>D</td>\n",
       "      <td>NaN</td>\n",
       "      <td>2013-06-03</td>\n",
       "      <td>2018-12-20 12:40:53.150</td>\n",
       "      <td>2014-04-11</td>\n",
       "    </tr>\n",
       "    <tr>\n",
       "      <th>4</th>\n",
       "      <td>14918</td>\n",
       "      <td>ZONE</td>\n",
       "      <td>ZONE</td>\n",
       "      <td>M-11</td>\n",
       "      <td>D</td>\n",
       "      <td>100008685.0</td>\n",
       "      <td>2015-02-19</td>\n",
       "      <td>2018-12-20 12:41:07.357</td>\n",
       "      <td>2015-02-19</td>\n",
       "    </tr>\n",
       "  </tbody>\n",
       "</table>\n",
       "</div>"
      ],
      "text/plain": [
       "  unit_id                    unit_desc unit_class unit_mrc unit_status  \\\n",
       "0       -  Fordham Bedford Lot Busters       PARK     M-11           D   \n",
       "1   11772  Fordham Bedford Lot Busters       PARK     M-11           D   \n",
       "2   12654  Fordham Bedford Lot Busters       PARK     M-11           D   \n",
       "3   14301  Fordham Bedford Lot Busters       PARK     M-11           D   \n",
       "4   14918                         ZONE       ZONE     M-11           D   \n",
       "\n",
       "      gisobjid unit_commiss            unit_updated unit_withdraw  \n",
       "0  100004689.0   2010-01-06 2018-12-20 12:40:52.483    2010-04-01  \n",
       "1          NaN   2011-07-28 2018-12-20 12:40:52.810    2014-04-11  \n",
       "2          NaN   2012-03-06 2018-12-20 12:40:52.983    2014-04-11  \n",
       "3          NaN   2013-06-03 2018-12-20 12:40:53.150    2014-04-11  \n",
       "4  100008685.0   2015-02-19 2018-12-20 12:41:07.357    2015-02-19  "
      ]
     },
     "execution_count": 17,
     "metadata": {},
     "output_type": "execute_result"
    }
   ],
   "source": [
    "ref_unit_tbl.head()"
   ]
  },
  {
   "cell_type": "code",
   "execution_count": 18,
   "metadata": {},
   "outputs": [],
   "source": [
    "calendar_tbl  = pd.read_sql(con = engine, sql = sql_ref_calendar)"
   ]
  },
  {
   "cell_type": "code",
   "execution_count": 19,
   "metadata": {},
   "outputs": [],
   "source": [
    "date_cols_calendar = ['ref_date']"
   ]
  },
  {
   "cell_type": "code",
   "execution_count": 20,
   "metadata": {},
   "outputs": [],
   "source": [
    "for i in date_cols_calendar:\n",
    "    calendar_tbl[i] = pd.to_datetime(calendar_tbl[i])"
   ]
  },
  {
   "cell_type": "code",
   "execution_count": 21,
   "metadata": {},
   "outputs": [
    {
     "data": {
      "text/html": [
       "<div>\n",
       "<style scoped>\n",
       "    .dataframe tbody tr th:only-of-type {\n",
       "        vertical-align: middle;\n",
       "    }\n",
       "\n",
       "    .dataframe tbody tr th {\n",
       "        vertical-align: top;\n",
       "    }\n",
       "\n",
       "    .dataframe thead th {\n",
       "        text-align: right;\n",
       "    }\n",
       "</style>\n",
       "<table border=\"1\" class=\"dataframe\">\n",
       "  <thead>\n",
       "    <tr style=\"text-align: right;\">\n",
       "      <th></th>\n",
       "      <th>ref_date</th>\n",
       "      <th>ref_year</th>\n",
       "      <th>month_name_desc</th>\n",
       "      <th>day_number</th>\n",
       "      <th>day_name_desc</th>\n",
       "      <th>day_rank_id</th>\n",
       "    </tr>\n",
       "  </thead>\n",
       "  <tbody>\n",
       "    <tr>\n",
       "      <th>0</th>\n",
       "      <td>2014-01-01</td>\n",
       "      <td>2014</td>\n",
       "      <td>January</td>\n",
       "      <td>1</td>\n",
       "      <td>Wednesday</td>\n",
       "      <td>1</td>\n",
       "    </tr>\n",
       "    <tr>\n",
       "      <th>1</th>\n",
       "      <td>2014-01-02</td>\n",
       "      <td>2014</td>\n",
       "      <td>January</td>\n",
       "      <td>2</td>\n",
       "      <td>Thursday</td>\n",
       "      <td>1</td>\n",
       "    </tr>\n",
       "    <tr>\n",
       "      <th>2</th>\n",
       "      <td>2014-01-03</td>\n",
       "      <td>2014</td>\n",
       "      <td>January</td>\n",
       "      <td>3</td>\n",
       "      <td>Friday</td>\n",
       "      <td>1</td>\n",
       "    </tr>\n",
       "    <tr>\n",
       "      <th>3</th>\n",
       "      <td>2014-01-04</td>\n",
       "      <td>2014</td>\n",
       "      <td>January</td>\n",
       "      <td>4</td>\n",
       "      <td>Saturday</td>\n",
       "      <td>1</td>\n",
       "    </tr>\n",
       "    <tr>\n",
       "      <th>4</th>\n",
       "      <td>2014-01-05</td>\n",
       "      <td>2014</td>\n",
       "      <td>January</td>\n",
       "      <td>5</td>\n",
       "      <td>Sunday</td>\n",
       "      <td>1</td>\n",
       "    </tr>\n",
       "  </tbody>\n",
       "</table>\n",
       "</div>"
      ],
      "text/plain": [
       "    ref_date  ref_year month_name_desc  day_number day_name_desc day_rank_id\n",
       "0 2014-01-01      2014         January           1     Wednesday           1\n",
       "1 2014-01-02      2014         January           2      Thursday           1\n",
       "2 2014-01-03      2014         January           3        Friday           1\n",
       "3 2014-01-04      2014         January           4      Saturday           1\n",
       "4 2014-01-05      2014         January           5        Sunday           1"
      ]
     },
     "execution_count": 21,
     "metadata": {},
     "output_type": "execute_result"
    }
   ],
   "source": [
    "calendar_tbl.head()"
   ]
  },
  {
   "cell_type": "code",
   "execution_count": 22,
   "metadata": {},
   "outputs": [
    {
     "data": {
      "text/html": [
       "<div>\n",
       "<style scoped>\n",
       "    .dataframe tbody tr th:only-of-type {\n",
       "        vertical-align: middle;\n",
       "    }\n",
       "\n",
       "    .dataframe tbody tr th {\n",
       "        vertical-align: top;\n",
       "    }\n",
       "\n",
       "    .dataframe thead th {\n",
       "        text-align: right;\n",
       "    }\n",
       "</style>\n",
       "<table border=\"1\" class=\"dataframe\">\n",
       "  <thead>\n",
       "    <tr style=\"text-align: right;\">\n",
       "      <th></th>\n",
       "      <th>day_name_num</th>\n",
       "      <th>day_name_desc</th>\n",
       "      <th>ndays_sunday</th>\n",
       "      <th>ndays_saturday</th>\n",
       "    </tr>\n",
       "  </thead>\n",
       "  <tbody>\n",
       "    <tr>\n",
       "      <th>0</th>\n",
       "      <td>6</td>\n",
       "      <td>Friday</td>\n",
       "      <td>2</td>\n",
       "      <td>1</td>\n",
       "    </tr>\n",
       "    <tr>\n",
       "      <th>1</th>\n",
       "      <td>2</td>\n",
       "      <td>Monday</td>\n",
       "      <td>6</td>\n",
       "      <td>5</td>\n",
       "    </tr>\n",
       "    <tr>\n",
       "      <th>2</th>\n",
       "      <td>7</td>\n",
       "      <td>Saturday</td>\n",
       "      <td>1</td>\n",
       "      <td>0</td>\n",
       "    </tr>\n",
       "    <tr>\n",
       "      <th>3</th>\n",
       "      <td>1</td>\n",
       "      <td>Sunday</td>\n",
       "      <td>0</td>\n",
       "      <td>6</td>\n",
       "    </tr>\n",
       "    <tr>\n",
       "      <th>4</th>\n",
       "      <td>5</td>\n",
       "      <td>Thursday</td>\n",
       "      <td>3</td>\n",
       "      <td>2</td>\n",
       "    </tr>\n",
       "  </tbody>\n",
       "</table>\n",
       "</div>"
      ],
      "text/plain": [
       "   day_name_num day_name_desc  ndays_sunday  ndays_saturday\n",
       "0             6        Friday             2               1\n",
       "1             2        Monday             6               5\n",
       "2             7      Saturday             1               0\n",
       "3             1        Sunday             0               6\n",
       "4             5      Thursday             3               2"
      ]
     },
     "execution_count": 22,
     "metadata": {},
     "output_type": "execute_result"
    }
   ],
   "source": [
    "day_name_tbl  = pd.read_sql(con = engine, sql = sql_day_name)\n",
    "day_name_tbl.head()"
   ]
  },
  {
   "cell_type": "code",
   "execution_count": 23,
   "metadata": {},
   "outputs": [],
   "source": [
    "before_sla_season = pd.read_sql(con = engine, sql = sql_sla_season)"
   ]
  },
  {
   "cell_type": "code",
   "execution_count": 24,
   "metadata": {},
   "outputs": [],
   "source": [
    "date_cols_season = [\n",
    "    'effective_start', 'effective_end', 'created_date_utc', 'updated_date_utc',\n",
    "    'effective_start_adj', 'effective_end_adj'\n",
    "]"
   ]
  },
  {
   "cell_type": "code",
   "execution_count": 25,
   "metadata": {},
   "outputs": [],
   "source": [
    "for i in date_cols_season:\n",
    "    before_sla_season[i] = pd.to_datetime(before_sla_season[i])"
   ]
  },
  {
   "cell_type": "code",
   "execution_count": 26,
   "metadata": {
    "scrolled": true
   },
   "outputs": [
    {
     "data": {
      "text/html": [
       "<div>\n",
       "<style scoped>\n",
       "    .dataframe tbody tr th:only-of-type {\n",
       "        vertical-align: middle;\n",
       "    }\n",
       "\n",
       "    .dataframe tbody tr th {\n",
       "        vertical-align: top;\n",
       "    }\n",
       "\n",
       "    .dataframe thead th {\n",
       "        text-align: right;\n",
       "    }\n",
       "</style>\n",
       "<table border=\"1\" class=\"dataframe\">\n",
       "  <thead>\n",
       "    <tr style=\"text-align: right;\">\n",
       "      <th></th>\n",
       "      <th>season_id</th>\n",
       "      <th>season_desc</th>\n",
       "      <th>year_round</th>\n",
       "      <th>effective</th>\n",
       "      <th>effective_start</th>\n",
       "      <th>effective_start_adj</th>\n",
       "      <th>effective_end</th>\n",
       "      <th>effective_end_adj</th>\n",
       "      <th>created_date_utc</th>\n",
       "      <th>updated_date_utc</th>\n",
       "    </tr>\n",
       "  </thead>\n",
       "  <tbody>\n",
       "    <tr>\n",
       "      <th>0</th>\n",
       "      <td>1</td>\n",
       "      <td>Year-round, not seasonal</td>\n",
       "      <td>True</td>\n",
       "      <td>True</td>\n",
       "      <td>2014-01-01</td>\n",
       "      <td>2014-01-05</td>\n",
       "      <td>NaT</td>\n",
       "      <td>NaT</td>\n",
       "      <td>2020-09-17 20:42:13.240</td>\n",
       "      <td>2020-09-17 20:42:13.287</td>\n",
       "    </tr>\n",
       "    <tr>\n",
       "      <th>1</th>\n",
       "      <td>2</td>\n",
       "      <td>Beaches, etc.</td>\n",
       "      <td>False</td>\n",
       "      <td>True</td>\n",
       "      <td>2019-07-01</td>\n",
       "      <td>2019-07-07</td>\n",
       "      <td>NaT</td>\n",
       "      <td>NaT</td>\n",
       "      <td>2020-09-17 20:42:13.427</td>\n",
       "      <td>2020-09-17 20:42:13.427</td>\n",
       "    </tr>\n",
       "    <tr>\n",
       "      <th>2</th>\n",
       "      <td>3</td>\n",
       "      <td>Ballfields, etc.</td>\n",
       "      <td>False</td>\n",
       "      <td>True</td>\n",
       "      <td>2019-07-01</td>\n",
       "      <td>2019-07-07</td>\n",
       "      <td>NaT</td>\n",
       "      <td>NaT</td>\n",
       "      <td>2020-09-17 20:42:13.520</td>\n",
       "      <td>2020-09-17 20:42:13.520</td>\n",
       "    </tr>\n",
       "  </tbody>\n",
       "</table>\n",
       "</div>"
      ],
      "text/plain": [
       "   season_id               season_desc  year_round  effective effective_start  \\\n",
       "0          1  Year-round, not seasonal        True       True      2014-01-01   \n",
       "1          2             Beaches, etc.       False       True      2019-07-01   \n",
       "2          3          Ballfields, etc.       False       True      2019-07-01   \n",
       "\n",
       "  effective_start_adj effective_end effective_end_adj        created_date_utc  \\\n",
       "0          2014-01-05           NaT               NaT 2020-09-17 20:42:13.240   \n",
       "1          2019-07-07           NaT               NaT 2020-09-17 20:42:13.427   \n",
       "2          2019-07-07           NaT               NaT 2020-09-17 20:42:13.520   \n",
       "\n",
       "         updated_date_utc  \n",
       "0 2020-09-17 20:42:13.287  \n",
       "1 2020-09-17 20:42:13.427  \n",
       "2 2020-09-17 20:42:13.520  "
      ]
     },
     "execution_count": 26,
     "metadata": {},
     "output_type": "execute_result"
    }
   ],
   "source": [
    "before_sla_season.head()"
   ]
  },
  {
   "cell_type": "code",
   "execution_count": 27,
   "metadata": {},
   "outputs": [],
   "source": [
    "before_change_request = pd.read_sql(con = engine, sql = sql_change_request)"
   ]
  },
  {
   "cell_type": "code",
   "execution_count": 28,
   "metadata": {
    "scrolled": true
   },
   "outputs": [
    {
     "data": {
      "text/html": [
       "<div>\n",
       "<style scoped>\n",
       "    .dataframe tbody tr th:only-of-type {\n",
       "        vertical-align: middle;\n",
       "    }\n",
       "\n",
       "    .dataframe tbody tr th {\n",
       "        vertical-align: top;\n",
       "    }\n",
       "\n",
       "    .dataframe thead th {\n",
       "        text-align: right;\n",
       "    }\n",
       "</style>\n",
       "<table border=\"1\" class=\"dataframe\">\n",
       "  <thead>\n",
       "    <tr style=\"text-align: right;\">\n",
       "      <th></th>\n",
       "      <th>change_request_id</th>\n",
       "      <th>unit_id</th>\n",
       "      <th>sla_code</th>\n",
       "      <th>season_id</th>\n",
       "      <th>effective_start</th>\n",
       "      <th>effective_start_adj</th>\n",
       "      <th>change_request_justification</th>\n",
       "      <th>change_request_comments</th>\n",
       "      <th>sla_change_status</th>\n",
       "    </tr>\n",
       "  </thead>\n",
       "  <tbody>\n",
       "    <tr>\n",
       "      <th>0</th>\n",
       "      <td>1</td>\n",
       "      <td>RZ245</td>\n",
       "      <td>11</td>\n",
       "      <td>1</td>\n",
       "      <td>2014-01-01</td>\n",
       "      <td>2014-01-05</td>\n",
       "      <td>Original Review</td>\n",
       "      <td>None</td>\n",
       "      <td>2</td>\n",
       "    </tr>\n",
       "    <tr>\n",
       "      <th>1</th>\n",
       "      <td>2</td>\n",
       "      <td>RZ25</td>\n",
       "      <td>11</td>\n",
       "      <td>1</td>\n",
       "      <td>2014-01-01</td>\n",
       "      <td>2014-01-05</td>\n",
       "      <td>Original Review</td>\n",
       "      <td>None</td>\n",
       "      <td>2</td>\n",
       "    </tr>\n",
       "    <tr>\n",
       "      <th>2</th>\n",
       "      <td>3</td>\n",
       "      <td>RZ255</td>\n",
       "      <td>11</td>\n",
       "      <td>1</td>\n",
       "      <td>2014-01-01</td>\n",
       "      <td>2014-01-05</td>\n",
       "      <td>Original Review</td>\n",
       "      <td>None</td>\n",
       "      <td>2</td>\n",
       "    </tr>\n",
       "    <tr>\n",
       "      <th>3</th>\n",
       "      <td>4</td>\n",
       "      <td>RZ258</td>\n",
       "      <td>11</td>\n",
       "      <td>1</td>\n",
       "      <td>2014-01-01</td>\n",
       "      <td>2014-01-05</td>\n",
       "      <td>Original Review</td>\n",
       "      <td>None</td>\n",
       "      <td>2</td>\n",
       "    </tr>\n",
       "    <tr>\n",
       "      <th>4</th>\n",
       "      <td>5</td>\n",
       "      <td>RZ26</td>\n",
       "      <td>11</td>\n",
       "      <td>1</td>\n",
       "      <td>2014-01-01</td>\n",
       "      <td>2014-01-05</td>\n",
       "      <td>Original Review</td>\n",
       "      <td>None</td>\n",
       "      <td>2</td>\n",
       "    </tr>\n",
       "  </tbody>\n",
       "</table>\n",
       "</div>"
      ],
      "text/plain": [
       "   change_request_id unit_id  sla_code  season_id effective_start  \\\n",
       "0                  1   RZ245        11          1      2014-01-01   \n",
       "1                  2    RZ25        11          1      2014-01-01   \n",
       "2                  3   RZ255        11          1      2014-01-01   \n",
       "3                  4   RZ258        11          1      2014-01-01   \n",
       "4                  5    RZ26        11          1      2014-01-01   \n",
       "\n",
       "  effective_start_adj change_request_justification change_request_comments  \\\n",
       "0          2014-01-05              Original Review                    None   \n",
       "1          2014-01-05              Original Review                    None   \n",
       "2          2014-01-05              Original Review                    None   \n",
       "3          2014-01-05              Original Review                    None   \n",
       "4          2014-01-05              Original Review                    None   \n",
       "\n",
       "   sla_change_status  \n",
       "0                  2  \n",
       "1                  2  \n",
       "2                  2  \n",
       "3                  2  \n",
       "4                  2  "
      ]
     },
     "execution_count": 28,
     "metadata": {},
     "output_type": "execute_result"
    }
   ],
   "source": [
    "before_change_request.head()"
   ]
  },
  {
   "cell_type": "code",
   "execution_count": 29,
   "metadata": {},
   "outputs": [],
   "source": [
    "date_cols_change_req = ['effective_start', 'effective_start_adj']"
   ]
  },
  {
   "cell_type": "code",
   "execution_count": 30,
   "metadata": {},
   "outputs": [],
   "source": [
    "for i in date_cols_change_req:\n",
    "    before_change_request[i] = pd.to_datetime(before_change_request[i])"
   ]
  },
  {
   "cell_type": "code",
   "execution_count": 31,
   "metadata": {},
   "outputs": [],
   "source": [
    "before_change_request_status = pd.read_sql(con = engine, sql = sql_change_request_status)"
   ]
  },
  {
   "cell_type": "code",
   "execution_count": 32,
   "metadata": {},
   "outputs": [
    {
     "data": {
      "text/html": [
       "<div>\n",
       "<style scoped>\n",
       "    .dataframe tbody tr th:only-of-type {\n",
       "        vertical-align: middle;\n",
       "    }\n",
       "\n",
       "    .dataframe tbody tr th {\n",
       "        vertical-align: top;\n",
       "    }\n",
       "\n",
       "    .dataframe thead th {\n",
       "        text-align: right;\n",
       "    }\n",
       "</style>\n",
       "<table border=\"1\" class=\"dataframe\">\n",
       "  <thead>\n",
       "    <tr style=\"text-align: right;\">\n",
       "      <th></th>\n",
       "      <th>change_request_status_id</th>\n",
       "      <th>change_request_id</th>\n",
       "      <th>sla_change_status</th>\n",
       "      <th>created_date_utc</th>\n",
       "      <th>created_user</th>\n",
       "    </tr>\n",
       "  </thead>\n",
       "  <tbody>\n",
       "    <tr>\n",
       "      <th>0</th>\n",
       "      <td>1</td>\n",
       "      <td>3058</td>\n",
       "      <td>1</td>\n",
       "      <td>2014-01-01</td>\n",
       "      <td>0000000</td>\n",
       "    </tr>\n",
       "    <tr>\n",
       "      <th>1</th>\n",
       "      <td>2</td>\n",
       "      <td>3057</td>\n",
       "      <td>1</td>\n",
       "      <td>2014-01-01</td>\n",
       "      <td>0000000</td>\n",
       "    </tr>\n",
       "    <tr>\n",
       "      <th>2</th>\n",
       "      <td>3</td>\n",
       "      <td>3056</td>\n",
       "      <td>1</td>\n",
       "      <td>2014-01-01</td>\n",
       "      <td>0000000</td>\n",
       "    </tr>\n",
       "    <tr>\n",
       "      <th>3</th>\n",
       "      <td>4</td>\n",
       "      <td>3055</td>\n",
       "      <td>1</td>\n",
       "      <td>2014-01-01</td>\n",
       "      <td>0000000</td>\n",
       "    </tr>\n",
       "    <tr>\n",
       "      <th>4</th>\n",
       "      <td>5</td>\n",
       "      <td>3054</td>\n",
       "      <td>1</td>\n",
       "      <td>2014-01-01</td>\n",
       "      <td>0000000</td>\n",
       "    </tr>\n",
       "  </tbody>\n",
       "</table>\n",
       "</div>"
      ],
      "text/plain": [
       "   change_request_status_id  change_request_id  sla_change_status  \\\n",
       "0                         1               3058                  1   \n",
       "1                         2               3057                  1   \n",
       "2                         3               3056                  1   \n",
       "3                         4               3055                  1   \n",
       "4                         5               3054                  1   \n",
       "\n",
       "  created_date_utc created_user  \n",
       "0       2014-01-01      0000000  \n",
       "1       2014-01-01      0000000  \n",
       "2       2014-01-01      0000000  \n",
       "3       2014-01-01      0000000  \n",
       "4       2014-01-01      0000000  "
      ]
     },
     "execution_count": 32,
     "metadata": {},
     "output_type": "execute_result"
    }
   ],
   "source": [
    "before_change_request_status.head()"
   ]
  },
  {
   "cell_type": "code",
   "execution_count": 33,
   "metadata": {},
   "outputs": [],
   "source": [
    "date_cols_change_req_stat = ['created_date_utc']"
   ]
  },
  {
   "cell_type": "code",
   "execution_count": 34,
   "metadata": {},
   "outputs": [],
   "source": [
    "for i in date_cols_change_req_stat:\n",
    "    before_change_request_status[i] = pd.to_datetime(before_change_request_status[i])"
   ]
  },
  {
   "cell_type": "code",
   "execution_count": 35,
   "metadata": {
    "scrolled": false
   },
   "outputs": [
    {
     "data": {
      "text/html": [
       "<div>\n",
       "<style scoped>\n",
       "    .dataframe tbody tr th:only-of-type {\n",
       "        vertical-align: middle;\n",
       "    }\n",
       "\n",
       "    .dataframe tbody tr th {\n",
       "        vertical-align: top;\n",
       "    }\n",
       "\n",
       "    .dataframe thead th {\n",
       "        text-align: right;\n",
       "    }\n",
       "</style>\n",
       "<table border=\"1\" class=\"dataframe\">\n",
       "  <thead>\n",
       "    <tr style=\"text-align: right;\">\n",
       "      <th></th>\n",
       "      <th>sla_season_id</th>\n",
       "      <th>unit_id</th>\n",
       "      <th>sla_code</th>\n",
       "      <th>season_id</th>\n",
       "      <th>effective</th>\n",
       "      <th>effective_start_adj</th>\n",
       "      <th>effective_end_adj</th>\n",
       "      <th>change_request_id</th>\n",
       "      <th>created_date_utc</th>\n",
       "      <th>updated_date_utc</th>\n",
       "    </tr>\n",
       "  </thead>\n",
       "  <tbody>\n",
       "    <tr>\n",
       "      <th>0</th>\n",
       "      <td>1</td>\n",
       "      <td>RZ245</td>\n",
       "      <td>11</td>\n",
       "      <td>1</td>\n",
       "      <td>False</td>\n",
       "      <td>2014-01-05</td>\n",
       "      <td>2020-03-21</td>\n",
       "      <td>1</td>\n",
       "      <td>2020-09-17 20:42:16.020</td>\n",
       "      <td>2020-09-17 20:42:20.503</td>\n",
       "    </tr>\n",
       "    <tr>\n",
       "      <th>1</th>\n",
       "      <td>2</td>\n",
       "      <td>RZ25</td>\n",
       "      <td>11</td>\n",
       "      <td>1</td>\n",
       "      <td>False</td>\n",
       "      <td>2014-01-05</td>\n",
       "      <td>2020-03-21</td>\n",
       "      <td>2</td>\n",
       "      <td>2020-09-17 20:42:16.020</td>\n",
       "      <td>2020-09-17 20:42:20.503</td>\n",
       "    </tr>\n",
       "    <tr>\n",
       "      <th>2</th>\n",
       "      <td>3</td>\n",
       "      <td>RZ255</td>\n",
       "      <td>11</td>\n",
       "      <td>1</td>\n",
       "      <td>False</td>\n",
       "      <td>2014-01-05</td>\n",
       "      <td>2020-03-21</td>\n",
       "      <td>3</td>\n",
       "      <td>2020-09-17 20:42:16.020</td>\n",
       "      <td>2020-09-17 20:42:20.503</td>\n",
       "    </tr>\n",
       "    <tr>\n",
       "      <th>3</th>\n",
       "      <td>4</td>\n",
       "      <td>RZ258</td>\n",
       "      <td>11</td>\n",
       "      <td>1</td>\n",
       "      <td>False</td>\n",
       "      <td>2014-01-05</td>\n",
       "      <td>2020-03-21</td>\n",
       "      <td>4</td>\n",
       "      <td>2020-09-17 20:42:16.020</td>\n",
       "      <td>2020-09-17 20:42:20.503</td>\n",
       "    </tr>\n",
       "    <tr>\n",
       "      <th>4</th>\n",
       "      <td>5</td>\n",
       "      <td>RZ26</td>\n",
       "      <td>11</td>\n",
       "      <td>1</td>\n",
       "      <td>False</td>\n",
       "      <td>2014-01-05</td>\n",
       "      <td>2020-03-21</td>\n",
       "      <td>5</td>\n",
       "      <td>2020-09-17 20:42:16.020</td>\n",
       "      <td>2020-09-17 20:42:20.503</td>\n",
       "    </tr>\n",
       "  </tbody>\n",
       "</table>\n",
       "</div>"
      ],
      "text/plain": [
       "   sla_season_id unit_id  sla_code  season_id  effective effective_start_adj  \\\n",
       "0              1   RZ245        11          1      False          2014-01-05   \n",
       "1              2    RZ25        11          1      False          2014-01-05   \n",
       "2              3   RZ255        11          1      False          2014-01-05   \n",
       "3              4   RZ258        11          1      False          2014-01-05   \n",
       "4              5    RZ26        11          1      False          2014-01-05   \n",
       "\n",
       "  effective_end_adj  change_request_id        created_date_utc  \\\n",
       "0        2020-03-21                  1 2020-09-17 20:42:16.020   \n",
       "1        2020-03-21                  2 2020-09-17 20:42:16.020   \n",
       "2        2020-03-21                  3 2020-09-17 20:42:16.020   \n",
       "3        2020-03-21                  4 2020-09-17 20:42:16.020   \n",
       "4        2020-03-21                  5 2020-09-17 20:42:16.020   \n",
       "\n",
       "         updated_date_utc  \n",
       "0 2020-09-17 20:42:20.503  \n",
       "1 2020-09-17 20:42:20.503  \n",
       "2 2020-09-17 20:42:20.503  \n",
       "3 2020-09-17 20:42:20.503  \n",
       "4 2020-09-17 20:42:20.503  "
      ]
     },
     "execution_count": 35,
     "metadata": {},
     "output_type": "execute_result"
    }
   ],
   "source": [
    "before_unit_season = pd.read_sql(con = engine, sql = sql_unit_sla_season)\n",
    "before_unit_season.head()"
   ]
  },
  {
   "cell_type": "code",
   "execution_count": 36,
   "metadata": {},
   "outputs": [],
   "source": [
    "date_cols_unit_season = [\n",
    "      'created_date_utc', 'updated_date_utc',\n",
    "    'effective_start_adj', 'effective_end_adj'\n",
    "]"
   ]
  },
  {
   "cell_type": "code",
   "execution_count": 37,
   "metadata": {},
   "outputs": [],
   "source": [
    "for i in date_cols_unit_season:\n",
    "    before_unit_season[i] = pd.to_datetime(before_unit_season[i])"
   ]
  },
  {
   "cell_type": "code",
   "execution_count": null,
   "metadata": {},
   "outputs": [],
   "source": []
  },
  {
   "cell_type": "code",
   "execution_count": 38,
   "metadata": {},
   "outputs": [],
   "source": [
    "today = datetime.datetime.today()"
   ]
  },
  {
   "cell_type": "code",
   "execution_count": 39,
   "metadata": {},
   "outputs": [],
   "source": [
    "timing = []"
   ]
  },
  {
   "cell_type": "code",
   "execution_count": 40,
   "metadata": {},
   "outputs": [],
   "source": [
    "descriptions = []"
   ]
  },
  {
   "cell_type": "code",
   "execution_count": 137,
   "metadata": {},
   "outputs": [],
   "source": [
    "descriptions_nontech = []"
   ]
  },
  {
   "cell_type": "code",
   "execution_count": 41,
   "metadata": {},
   "outputs": [],
   "source": [
    "results = []"
   ]
  },
  {
   "cell_type": "markdown",
   "metadata": {},
   "source": [
    "## Before Tests"
   ]
  },
  {
   "cell_type": "markdown",
   "metadata": {},
   "source": [
    "### First before test"
   ]
  },
  {
   "cell_type": "code",
   "execution_count": 42,
   "metadata": {},
   "outputs": [],
   "source": [
    "timing.append('before')"
   ]
  },
  {
   "cell_type": "code",
   "execution_count": 43,
   "metadata": {},
   "outputs": [],
   "source": [
    "descriptions.append('''In tbl_unit_change_request test to make sure \\\n",
    "the 'effective_start_adj' is between 'effective_start_adj' and \\\n",
    "'effective_end_adj' from tbl_sla_season if not null. If 'effective_end_adj' \\\n",
    "is null in tbl_sla_season, replace with today's date+1year. If this \\\n",
    "condition is not met, 'sla_change_status' must == 4''')"
   ]
  },
  {
   "cell_type": "code",
   "execution_count": null,
   "metadata": {},
   "outputs": [],
   "source": [
    "descriptions_nontech.append('''Make sure that data ranges in the unit table \\\n",
    "have valid start/end dates - i.e. they correspond to season definitions in \\\n",
    "the sla_season table''')"
   ]
  },
  {
   "cell_type": "code",
   "execution_count": 44,
   "metadata": {},
   "outputs": [
    {
     "data": {
      "text/html": [
       "<div>\n",
       "<style scoped>\n",
       "    .dataframe tbody tr th:only-of-type {\n",
       "        vertical-align: middle;\n",
       "    }\n",
       "\n",
       "    .dataframe tbody tr th {\n",
       "        vertical-align: top;\n",
       "    }\n",
       "\n",
       "    .dataframe thead th {\n",
       "        text-align: right;\n",
       "    }\n",
       "</style>\n",
       "<table border=\"1\" class=\"dataframe\">\n",
       "  <thead>\n",
       "    <tr style=\"text-align: right;\">\n",
       "      <th></th>\n",
       "      <th>unit_id</th>\n",
       "      <th>season_id</th>\n",
       "      <th>effective_start_adj_x</th>\n",
       "      <th>effective_start_adj_y</th>\n",
       "      <th>effective_end_adj</th>\n",
       "      <th>sla_change_status</th>\n",
       "    </tr>\n",
       "  </thead>\n",
       "  <tbody>\n",
       "    <tr>\n",
       "      <th>0</th>\n",
       "      <td>RZ245</td>\n",
       "      <td>1</td>\n",
       "      <td>2014-01-05</td>\n",
       "      <td>2014-01-05</td>\n",
       "      <td>NaT</td>\n",
       "      <td>2</td>\n",
       "    </tr>\n",
       "    <tr>\n",
       "      <th>1</th>\n",
       "      <td>RZ25</td>\n",
       "      <td>1</td>\n",
       "      <td>2014-01-05</td>\n",
       "      <td>2014-01-05</td>\n",
       "      <td>NaT</td>\n",
       "      <td>2</td>\n",
       "    </tr>\n",
       "    <tr>\n",
       "      <th>2</th>\n",
       "      <td>RZ255</td>\n",
       "      <td>1</td>\n",
       "      <td>2014-01-05</td>\n",
       "      <td>2014-01-05</td>\n",
       "      <td>NaT</td>\n",
       "      <td>2</td>\n",
       "    </tr>\n",
       "    <tr>\n",
       "      <th>3</th>\n",
       "      <td>RZ258</td>\n",
       "      <td>1</td>\n",
       "      <td>2014-01-05</td>\n",
       "      <td>2014-01-05</td>\n",
       "      <td>NaT</td>\n",
       "      <td>2</td>\n",
       "    </tr>\n",
       "    <tr>\n",
       "      <th>4</th>\n",
       "      <td>RZ26</td>\n",
       "      <td>1</td>\n",
       "      <td>2014-01-05</td>\n",
       "      <td>2014-01-05</td>\n",
       "      <td>NaT</td>\n",
       "      <td>2</td>\n",
       "    </tr>\n",
       "  </tbody>\n",
       "</table>\n",
       "</div>"
      ],
      "text/plain": [
       "  unit_id  season_id effective_start_adj_x effective_start_adj_y  \\\n",
       "0   RZ245          1            2014-01-05            2014-01-05   \n",
       "1    RZ25          1            2014-01-05            2014-01-05   \n",
       "2   RZ255          1            2014-01-05            2014-01-05   \n",
       "3   RZ258          1            2014-01-05            2014-01-05   \n",
       "4    RZ26          1            2014-01-05            2014-01-05   \n",
       "\n",
       "  effective_end_adj  sla_change_status  \n",
       "0               NaT                  2  \n",
       "1               NaT                  2  \n",
       "2               NaT                  2  \n",
       "3               NaT                  2  \n",
       "4               NaT                  2  "
      ]
     },
     "execution_count": 44,
     "metadata": {},
     "output_type": "execute_result"
    }
   ],
   "source": [
    "temp_df = before_change_request.merge(before_sla_season[[\n",
    "    'season_id', 'effective_start_adj', 'effective_end_adj'\n",
    "]],\n",
    "                                      on='season_id')[[\n",
    "                                          'unit_id', 'season_id',\n",
    "                                          'effective_start_adj_x',\n",
    "                                          'effective_start_adj_y',\n",
    "                                          'effective_end_adj',\n",
    "                                          'sla_change_status'\n",
    "                                      ]].copy()\n",
    "temp_df.head()"
   ]
  },
  {
   "cell_type": "code",
   "execution_count": 45,
   "metadata": {},
   "outputs": [],
   "source": [
    "temp_df['effective_end_adj'].fillna(datetime.datetime(\n",
    "            today.year + 1, today.month, today.day), inplace=True)"
   ]
  },
  {
   "cell_type": "code",
   "execution_count": 46,
   "metadata": {},
   "outputs": [],
   "source": [
    "temp_df2 = temp_df[\n",
    "        (temp_df['effective_start_adj_x'] < temp_df['effective_start_adj_y'])\n",
    "        | (temp_df['effective_start_adj_x'] > temp_df['effective_end_adj'])]"
   ]
  },
  {
   "cell_type": "code",
   "execution_count": 47,
   "metadata": {},
   "outputs": [],
   "source": [
    "results.append(\n",
    "    len(temp_df2[temp_df2['sla_change_status']!=4])\n",
    "    == 0)"
   ]
  },
  {
   "cell_type": "code",
   "execution_count": 48,
   "metadata": {},
   "outputs": [
    {
     "data": {
      "text/html": [
       "<div>\n",
       "<style scoped>\n",
       "    .dataframe tbody tr th:only-of-type {\n",
       "        vertical-align: middle;\n",
       "    }\n",
       "\n",
       "    .dataframe tbody tr th {\n",
       "        vertical-align: top;\n",
       "    }\n",
       "\n",
       "    .dataframe thead th {\n",
       "        text-align: right;\n",
       "    }\n",
       "</style>\n",
       "<table border=\"1\" class=\"dataframe\">\n",
       "  <thead>\n",
       "    <tr style=\"text-align: right;\">\n",
       "      <th></th>\n",
       "      <th>unit_id</th>\n",
       "      <th>season_id</th>\n",
       "      <th>effective_start_adj_x</th>\n",
       "      <th>effective_start_adj_y</th>\n",
       "      <th>effective_end_adj</th>\n",
       "      <th>sla_change_status</th>\n",
       "    </tr>\n",
       "  </thead>\n",
       "  <tbody>\n",
       "  </tbody>\n",
       "</table>\n",
       "</div>"
      ],
      "text/plain": [
       "Empty DataFrame\n",
       "Columns: [unit_id, season_id, effective_start_adj_x, effective_start_adj_y, effective_end_adj, sla_change_status]\n",
       "Index: []"
      ]
     },
     "execution_count": 48,
     "metadata": {},
     "output_type": "execute_result"
    }
   ],
   "source": [
    "temp_df2[temp_df2['sla_change_status']!=4]"
   ]
  },
  {
   "cell_type": "markdown",
   "metadata": {},
   "source": [
    "### Second before test"
   ]
  },
  {
   "cell_type": "code",
   "execution_count": 49,
   "metadata": {},
   "outputs": [],
   "source": [
    "timing.append('before')"
   ]
  },
  {
   "cell_type": "code",
   "execution_count": 50,
   "metadata": {},
   "outputs": [],
   "source": [
    "descriptions.append('''In tbl_unit_sla_season test that \\\n",
    "'effective_start_adj' and 'effective_end_adj' are always \\\n",
    "Sundays and Saturdays, respectively''')"
   ]
  },
  {
   "cell_type": "code",
   "execution_count": null,
   "metadata": {},
   "outputs": [],
   "source": [
    "descriptions_nontech.append('''Make sure that adjusted effective dates are calculated correctly. \\\n",
    "Effective start date should be adjusted to the next upcoming \\\n",
    "Sunday's date ('effective_start_adj'), and effective end date should be adjusted \\\n",
    "to the next upcoming Saturday's date ('effective_end_adj').''')"
   ]
  },
  {
   "cell_type": "code",
   "execution_count": 51,
   "metadata": {},
   "outputs": [],
   "source": [
    "temp_df1 = before_sla_season.merge(calendar_tbl,\n",
    "                        left_on='effective_start_adj',\n",
    "                        right_on='ref_date')"
   ]
  },
  {
   "cell_type": "code",
   "execution_count": 52,
   "metadata": {},
   "outputs": [],
   "source": [
    "temp_df2 = before_sla_season.merge(calendar_tbl,\n",
    "                        left_on='effective_end_adj',\n",
    "                        right_on='ref_date')"
   ]
  },
  {
   "cell_type": "code",
   "execution_count": 53,
   "metadata": {},
   "outputs": [],
   "source": [
    "results.append(len(temp_df1[temp_df1['day_name_desc'] != 'Sunday']) == 0 & len(\n",
    "    temp_df2[temp_df2['day_name_desc'] != 'Saturday']) == 0)"
   ]
  },
  {
   "cell_type": "markdown",
   "metadata": {},
   "source": [
    "### Third before test"
   ]
  },
  {
   "cell_type": "code",
   "execution_count": 54,
   "metadata": {},
   "outputs": [],
   "source": [
    "timing.append('before')"
   ]
  },
  {
   "cell_type": "code",
   "execution_count": 55,
   "metadata": {},
   "outputs": [],
   "source": [
    "descriptions.append('''In tbl_change_request test that for any \\\n",
    "change request that has 'sla_change_status'==2 the \\\n",
    "'effective_start_adj' is the Sunday after the 'effective_start' IF \\\n",
    "'date_created_utc' (in tbl_change_request_status) <= Sunday after \\\n",
    "'effective_start'. Otherwise, 'effective_start_adj' should be \\\n",
    "the Sunday after 'date_created_utc' ''')"
   ]
  },
  {
   "cell_type": "code",
   "execution_count": null,
   "metadata": {},
   "outputs": [],
   "source": [
    "descriptions_nontech.append('''\n",
    "[what does this test do?]\n",
    "''')"
   ]
  },
  {
   "cell_type": "code",
   "execution_count": 56,
   "metadata": {},
   "outputs": [],
   "source": [
    "def get_date_from_datetime(row,col):\n",
    "    return datetime.datetime(row[col].year,\n",
    "                             row[col].month,\n",
    "                             row[col].day)    "
   ]
  },
  {
   "cell_type": "code",
   "execution_count": 57,
   "metadata": {},
   "outputs": [],
   "source": [
    "before_change_request_status[\n",
    "    'created_date_utc'] = before_change_request_status.apply(\n",
    "        lambda row: get_date_from_datetime(row, 'created_date_utc'), axis=1)"
   ]
  },
  {
   "cell_type": "code",
   "execution_count": 58,
   "metadata": {},
   "outputs": [],
   "source": [
    "temp_df = before_change_request_status[\n",
    "    before_change_request_status['sla_change_status'] == 2].merge(\n",
    "        before_change_request,how = 'right', on='change_request_id')[[\n",
    "            'change_request_id', 'effective_start', 'effective_start_adj',\n",
    "            'created_date_utc', 'sla_change_status_x', 'sla_change_status_y'\n",
    "        ]].merge(calendar_tbl,how = 'left', left_on='effective_start',\n",
    "                 right_on='ref_date').merge(day_name_tbl, on='day_name_desc')[[\n",
    "                     'change_request_id', 'effective_start',\n",
    "                     'effective_start_adj', 'created_date_utc',\n",
    "                     'day_name_desc', 'ndays_sunday'\n",
    "                 ]]"
   ]
  },
  {
   "cell_type": "code",
   "execution_count": 59,
   "metadata": {},
   "outputs": [],
   "source": [
    "temp_df2 = before_change_request_status[\n",
    "    before_change_request_status['sla_change_status'] == 2].merge(\n",
    "        before_change_request, how='right', on='change_request_id')[[\n",
    "            'change_request_id', 'effective_start', 'effective_start_adj',\n",
    "            'created_date_utc', 'sla_change_status_x', 'sla_change_status_y'\n",
    "        ]].merge(calendar_tbl, left_on='created_date_utc',\n",
    "                 right_on='ref_date').merge(day_name_tbl, on='day_name_desc')[[\n",
    "                     'change_request_id', 'effective_start',\n",
    "                     'effective_start_adj', 'created_date_utc',\n",
    "                     'day_name_desc', 'ndays_sunday'\n",
    "                 ]]"
   ]
  },
  {
   "cell_type": "code",
   "execution_count": 60,
   "metadata": {},
   "outputs": [],
   "source": [
    "def get_sunday_after(row, col):\n",
    "    return datetime.datetime(row[col].year,\n",
    "                             row[col].month,\n",
    "                             row[col].day) + datetime.timedelta(\n",
    "                                 days=row['ndays_sunday'])"
   ]
  },
  {
   "cell_type": "code",
   "execution_count": 61,
   "metadata": {},
   "outputs": [],
   "source": [
    "temp_df['sunday_after_effstart'] = temp_df.apply(\n",
    "    lambda row: get_sunday_after(row, 'effective_start'), axis=1)"
   ]
  },
  {
   "cell_type": "code",
   "execution_count": 62,
   "metadata": {},
   "outputs": [],
   "source": [
    "temp_df['sunday_after_created_date'] = temp_df2.apply(\n",
    "    lambda row: get_sunday_after(row, 'created_date_utc'), axis=1)"
   ]
  },
  {
   "cell_type": "code",
   "execution_count": 63,
   "metadata": {},
   "outputs": [],
   "source": [
    "results.append((len(temp_df[(temp_df['created_date_utc']<=temp_df['sunday_after_effstart']) &\n",
    "       (temp_df['effective_start_adj']!=temp_df['sunday_after_effstart'])])==0\n",
    "&\n",
    "len(temp_df[(temp_df['created_date_utc']>temp_df['sunday_after_effstart']) &\n",
    "       (temp_df['effective_start_adj']!=temp_df['sunday_after_created_date'])])==0))"
   ]
  },
  {
   "cell_type": "code",
   "execution_count": 64,
   "metadata": {},
   "outputs": [],
   "source": [
    "# temp_df[(temp_df['created_date_utc']>temp_df['sunday_after_effstart']) &\n",
    "#        (temp_df['effective_start_adj']!=temp_df['sunday_after_created_date'])]"
   ]
  },
  {
   "cell_type": "code",
   "execution_count": 65,
   "metadata": {},
   "outputs": [],
   "source": [
    "# results.append(\n",
    "#     len(temp_df[temp_df['day_diff']!=temp_df['ndays_sunday']])==0)"
   ]
  },
  {
   "cell_type": "markdown",
   "metadata": {},
   "source": [
    "### Fourth before test"
   ]
  },
  {
   "cell_type": "code",
   "execution_count": 66,
   "metadata": {},
   "outputs": [],
   "source": [
    "timing.append('before')"
   ]
  },
  {
   "cell_type": "code",
   "execution_count": 67,
   "metadata": {},
   "outputs": [],
   "source": [
    "descriptions.append('''In tbl_change_request test that each unit \\\n",
    "has only one entry with 'sla_change_status'==1''')"
   ]
  },
  {
   "cell_type": "code",
   "execution_count": null,
   "metadata": {},
   "outputs": [],
   "source": [
    "descriptions_nontech.append('''\n",
    "same as above\n",
    "''')"
   ]
  },
  {
   "cell_type": "code",
   "execution_count": 68,
   "metadata": {},
   "outputs": [],
   "source": [
    "# before_change_request.head()"
   ]
  },
  {
   "cell_type": "code",
   "execution_count": 69,
   "metadata": {},
   "outputs": [],
   "source": [
    "# temp_df = before_change_request.groupby('unit_id').count()\n",
    "# units_mult_stats = temp_df[temp_df['sla_change_status']>1].index.values"
   ]
  },
  {
   "cell_type": "code",
   "execution_count": 70,
   "metadata": {},
   "outputs": [],
   "source": [
    "# temp_df2 = before_change_request[before_change_request['unit_id'].isin(units_mult_stats)][\n",
    "#     ['unit_id', 'sla_change_status']].sort_values(by='unit_id')"
   ]
  },
  {
   "cell_type": "code",
   "execution_count": 71,
   "metadata": {},
   "outputs": [],
   "source": [
    "temp_df = before_change_request[before_change_request['sla_change_status'] ==\n",
    "                                1].groupby('unit_id').count()"
   ]
  },
  {
   "cell_type": "code",
   "execution_count": 72,
   "metadata": {},
   "outputs": [],
   "source": [
    "results.append(len(temp_df[temp_df['sla_change_status']>1])==0)"
   ]
  },
  {
   "cell_type": "markdown",
   "metadata": {},
   "source": [
    "### Fifth before test"
   ]
  },
  {
   "cell_type": "code",
   "execution_count": 73,
   "metadata": {},
   "outputs": [],
   "source": [
    "timing.append('before')"
   ]
  },
  {
   "cell_type": "code",
   "execution_count": 74,
   "metadata": {},
   "outputs": [],
   "source": [
    "descriptions.append('''In tbl_change_request test that each entry has \\\n",
    "a unique combination of 'unit_id', 'effective_start_adj', and 'sla_change_status' \\\n",
    "fields''')"
   ]
  },
  {
   "cell_type": "code",
   "execution_count": null,
   "metadata": {},
   "outputs": [],
   "source": [
    "descriptions_nontech.append('''\n",
    "same as above\n",
    "''')"
   ]
  },
  {
   "cell_type": "code",
   "execution_count": 75,
   "metadata": {},
   "outputs": [],
   "source": [
    "# before_change_request.head()"
   ]
  },
  {
   "cell_type": "code",
   "execution_count": 76,
   "metadata": {},
   "outputs": [],
   "source": [
    "# before_unit_season.head()"
   ]
  },
  {
   "cell_type": "code",
   "execution_count": 77,
   "metadata": {},
   "outputs": [],
   "source": [
    "temp_df = before_change_request.groupby(\n",
    "    ['unit_id', 'effective_start_adj', 'sla_change_status']).count()"
   ]
  },
  {
   "cell_type": "code",
   "execution_count": 78,
   "metadata": {},
   "outputs": [],
   "source": [
    "# len(temp_df[temp_df['sla_code']>1])==0"
   ]
  },
  {
   "cell_type": "code",
   "execution_count": 79,
   "metadata": {},
   "outputs": [],
   "source": [
    "results.append(len(temp_df[temp_df['sla_code']>1])==0)"
   ]
  },
  {
   "cell_type": "markdown",
   "metadata": {},
   "source": [
    "### Sixth before test"
   ]
  },
  {
   "cell_type": "code",
   "execution_count": 80,
   "metadata": {},
   "outputs": [],
   "source": [
    "timing.append('before')"
   ]
  },
  {
   "cell_type": "code",
   "execution_count": 81,
   "metadata": {},
   "outputs": [],
   "source": [
    "descriptions.append('''In tbl_unit_sla_season test that each entry has \\\n",
    "a unique combination 'unit_id' and 'effective_start_adj' ''')"
   ]
  },
  {
   "cell_type": "code",
   "execution_count": null,
   "metadata": {},
   "outputs": [],
   "source": [
    "descriptions_nontech.append('''\n",
    "same as above\n",
    "''')"
   ]
  },
  {
   "cell_type": "code",
   "execution_count": 82,
   "metadata": {},
   "outputs": [],
   "source": [
    "# before_change_request.head()"
   ]
  },
  {
   "cell_type": "code",
   "execution_count": 83,
   "metadata": {},
   "outputs": [],
   "source": [
    "# before_unit_season.head()"
   ]
  },
  {
   "cell_type": "code",
   "execution_count": 84,
   "metadata": {},
   "outputs": [],
   "source": [
    "temp_df = before_unit_season.groupby(\n",
    "    ['unit_id', 'effective_start_adj']).count()"
   ]
  },
  {
   "cell_type": "code",
   "execution_count": 85,
   "metadata": {},
   "outputs": [
    {
     "data": {
      "text/plain": [
       "True"
      ]
     },
     "execution_count": 85,
     "metadata": {},
     "output_type": "execute_result"
    }
   ],
   "source": [
    "len(temp_df[temp_df['sla_code']>1])==0"
   ]
  },
  {
   "cell_type": "code",
   "execution_count": 86,
   "metadata": {},
   "outputs": [],
   "source": [
    "results.append(len(temp_df[temp_df['sla_code']>1])==0)"
   ]
  },
  {
   "cell_type": "markdown",
   "metadata": {},
   "source": [
    "### Seventh before test"
   ]
  },
  {
   "cell_type": "code",
   "execution_count": 87,
   "metadata": {},
   "outputs": [],
   "source": [
    "timing.append('before')"
   ]
  },
  {
   "cell_type": "code",
   "execution_count": 88,
   "metadata": {},
   "outputs": [],
   "source": [
    "descriptions.append('''In tbl_unit_sla_season test there are no overlaps \\\n",
    "in dates ('effective_start_adj' and 'effective_end_adj')''')"
   ]
  },
  {
   "cell_type": "code",
   "execution_count": 89,
   "metadata": {},
   "outputs": [],
   "source": [
    "sql_overlaps = '''\n",
    "select l.*\n",
    "from sladb.dbo.tbl_unit_sla_season as l\n",
    "left join   \n",
    "     sladb.dbo.tbl_unit_sla_season as r\n",
    "on l.unit_id = r.unit_id\n",
    "where l.effective_start_adj between r.effective_start_adj and \n",
    "coalesce(r.effective_end_adj, cast(getdate() as date)) or\n",
    "coalesce(l.effective_end_adj, cast(getdate() as date)) between \n",
    "r.effective_start_adj and coalesce(r.effective_end_adj, cast(getdate() as date))\n",
    "'''"
   ]
  },
  {
   "cell_type": "code",
   "execution_count": 90,
   "metadata": {},
   "outputs": [],
   "source": [
    "overlaps_df = pd.read_sql(con = engine, sql = sql_overlaps)"
   ]
  },
  {
   "cell_type": "code",
   "execution_count": 91,
   "metadata": {},
   "outputs": [],
   "source": [
    "results.append(len(before_unit_season)==len(overlaps_df))"
   ]
  },
  {
   "cell_type": "code",
   "execution_count": 92,
   "metadata": {},
   "outputs": [],
   "source": [
    "# sql_gaps_1 = '''\n",
    "# select unit_id,\n",
    "#        min(effective_start_adj) as minstart,\n",
    "#        max(coalesce(effective_end_adj, cast(getdate() as date))) as maxend,\n",
    "#        datediff(day, min(effective_start_adj), max(coalesce(effective_end_adj, \n",
    "#           cast(getdate() as date)))) as daydiff\n",
    "# from sladb.dbo.tbl_unit_sla_season\n",
    "# group by unit_id\n",
    "# '''"
   ]
  },
  {
   "cell_type": "code",
   "execution_count": 93,
   "metadata": {},
   "outputs": [],
   "source": [
    "# sql_gaps_2 = '''\n",
    "# select unit_id,\n",
    "#        case when count(*) > 1 then sum(daydiff) + (count(*) - 1)\n",
    "#             else sum(daydiff)\n",
    "#        end as daydiff\n",
    "# from (select unit_id,\n",
    "#        datediff(day, effective_start_adj, \n",
    "#             coalesce(effective_end_adj, cast(getdate() as date))) as daydiff\n",
    "#             from sladb.dbo.tbl_unit_sla_season) as t\n",
    "# group by unit_id\n",
    "# '''"
   ]
  },
  {
   "cell_type": "code",
   "execution_count": 94,
   "metadata": {},
   "outputs": [],
   "source": [
    "# gaps_df1 = pd.read_sql(con = engine, sql = sql_gaps_1)\n",
    "# gaps_df2 = pd.read_sql(con = engine, sql = sql_gaps_2)"
   ]
  },
  {
   "cell_type": "code",
   "execution_count": 95,
   "metadata": {},
   "outputs": [],
   "source": [
    "# temp_df = gaps_df1.merge(gaps_df2, on='unit_id')"
   ]
  },
  {
   "cell_type": "code",
   "execution_count": 96,
   "metadata": {},
   "outputs": [],
   "source": [
    "# temp_df['diff'] = temp_df['daydiff_y'] - temp_df['daydiff_x']"
   ]
  },
  {
   "cell_type": "code",
   "execution_count": 97,
   "metadata": {},
   "outputs": [],
   "source": [
    "# results.append(len(temp_df[temp_df['diff']!=0])==0)"
   ]
  },
  {
   "cell_type": "code",
   "execution_count": null,
   "metadata": {},
   "outputs": [],
   "source": []
  },
  {
   "cell_type": "code",
   "execution_count": 133,
   "metadata": {
    "scrolled": true
   },
   "outputs": [
    {
     "data": {
      "text/html": [
       "<div>\n",
       "<style scoped>\n",
       "    .dataframe tbody tr th:only-of-type {\n",
       "        vertical-align: middle;\n",
       "    }\n",
       "\n",
       "    .dataframe tbody tr th {\n",
       "        vertical-align: top;\n",
       "    }\n",
       "\n",
       "    .dataframe thead th {\n",
       "        text-align: right;\n",
       "    }\n",
       "</style>\n",
       "<table border=\"1\" class=\"dataframe\">\n",
       "  <thead>\n",
       "    <tr style=\"text-align: right;\">\n",
       "      <th></th>\n",
       "      <th>unit_id</th>\n",
       "      <th>effective</th>\n",
       "      <th>effective_start</th>\n",
       "      <th>effective_end</th>\n",
       "      <th>effective_start_adj</th>\n",
       "      <th>effective_end_adj</th>\n",
       "    </tr>\n",
       "  </thead>\n",
       "  <tbody>\n",
       "    <tr>\n",
       "      <th>6757</th>\n",
       "      <td>Q458-ZN02</td>\n",
       "      <td>False</td>\n",
       "      <td>2020-03-22</td>\n",
       "      <td>2020-07-04</td>\n",
       "      <td>2020-03-22</td>\n",
       "      <td>2020-07-04</td>\n",
       "    </tr>\n",
       "    <tr>\n",
       "      <th>18137</th>\n",
       "      <td>Q458-ZN02</td>\n",
       "      <td>False</td>\n",
       "      <td>2020-08-14</td>\n",
       "      <td>2020-08-16</td>\n",
       "      <td>2020-08-16</td>\n",
       "      <td>2020-08-22</td>\n",
       "    </tr>\n",
       "    <tr>\n",
       "      <th>4893</th>\n",
       "      <td>X039-ZN15</td>\n",
       "      <td>False</td>\n",
       "      <td>2014-01-01</td>\n",
       "      <td>2019-06-30</td>\n",
       "      <td>2014-01-05</td>\n",
       "      <td>2019-07-06</td>\n",
       "    </tr>\n",
       "    <tr>\n",
       "      <th>5766</th>\n",
       "      <td>X039-ZN15</td>\n",
       "      <td>False</td>\n",
       "      <td>2019-07-01</td>\n",
       "      <td>2020-03-21</td>\n",
       "      <td>2019-07-07</td>\n",
       "      <td>2020-03-21</td>\n",
       "    </tr>\n",
       "    <tr>\n",
       "      <th>6440</th>\n",
       "      <td>X039-ZN15</td>\n",
       "      <td>False</td>\n",
       "      <td>2020-03-22</td>\n",
       "      <td>2020-07-01</td>\n",
       "      <td>2020-03-22</td>\n",
       "      <td>2020-07-04</td>\n",
       "    </tr>\n",
       "    <tr>\n",
       "      <th>10663</th>\n",
       "      <td>X039-ZN15</td>\n",
       "      <td>False</td>\n",
       "      <td>2020-07-05</td>\n",
       "      <td>2020-07-29</td>\n",
       "      <td>2020-07-05</td>\n",
       "      <td>2020-08-01</td>\n",
       "    </tr>\n",
       "    <tr>\n",
       "      <th>18059</th>\n",
       "      <td>X039-ZN15</td>\n",
       "      <td>False</td>\n",
       "      <td>2020-07-26</td>\n",
       "      <td>2020-08-08</td>\n",
       "      <td>2020-07-26</td>\n",
       "      <td>2020-08-08</td>\n",
       "    </tr>\n",
       "    <tr>\n",
       "      <th>18127</th>\n",
       "      <td>X039-ZN15</td>\n",
       "      <td>False</td>\n",
       "      <td>2020-08-07</td>\n",
       "      <td>2020-08-15</td>\n",
       "      <td>2020-08-09</td>\n",
       "      <td>2020-08-15</td>\n",
       "    </tr>\n",
       "  </tbody>\n",
       "</table>\n",
       "</div>"
      ],
      "text/plain": [
       "         unit_id  effective effective_start effective_end effective_start_adj  \\\n",
       "6757   Q458-ZN02      False      2020-03-22    2020-07-04          2020-03-22   \n",
       "18137  Q458-ZN02      False      2020-08-14    2020-08-16          2020-08-16   \n",
       "4893   X039-ZN15      False      2014-01-01    2019-06-30          2014-01-05   \n",
       "5766   X039-ZN15      False      2019-07-01    2020-03-21          2019-07-07   \n",
       "6440   X039-ZN15      False      2020-03-22    2020-07-01          2020-03-22   \n",
       "10663  X039-ZN15      False      2020-07-05    2020-07-29          2020-07-05   \n",
       "18059  X039-ZN15      False      2020-07-26    2020-08-08          2020-07-26   \n",
       "18127  X039-ZN15      False      2020-08-07    2020-08-15          2020-08-09   \n",
       "\n",
       "      effective_end_adj  \n",
       "6757         2020-07-04  \n",
       "18137        2020-08-22  \n",
       "4893         2019-07-06  \n",
       "5766         2020-03-21  \n",
       "6440         2020-07-04  \n",
       "10663        2020-08-01  \n",
       "18059        2020-08-08  \n",
       "18127        2020-08-15  "
      ]
     },
     "execution_count": 133,
     "metadata": {},
     "output_type": "execute_result"
    }
   ],
   "source": [
    "before_unit_season[before_unit_season['unit_id'].isin(\n",
    "    ['X039-ZN15', 'Q458-ZN02'])].sort_values(by='unit_id')[[\n",
    "        'unit_id','effective', 'effective_start', 'effective_end', 'effective_start_adj',\n",
    "        'effective_end_adj'\n",
    "    ]]"
   ]
  },
  {
   "cell_type": "markdown",
   "metadata": {},
   "source": [
    "### Eighth before test"
   ]
  },
  {
   "cell_type": "code",
   "execution_count": 98,
   "metadata": {},
   "outputs": [],
   "source": [
    "timing.append('before')"
   ]
  },
  {
   "cell_type": "code",
   "execution_count": 99,
   "metadata": {},
   "outputs": [],
   "source": [
    "descriptions.append('''Validate that change requests have consistent 'year_round' \\\n",
    "values in tbl_sla_season and vw_sla_code_pivot''')"
   ]
  },
  {
   "cell_type": "code",
   "execution_count": 100,
   "metadata": {},
   "outputs": [],
   "source": [
    "sql_multi_join = '''\n",
    "SELECT l.sla_code\n",
    "      ,l.[season_id]\n",
    "      ,l.sla_change_status\n",
    "      ,r.year_round   as yr_round_season\n",
    "      ,r2.year_round  as yr_round_sla_code\n",
    "  FROM [sladb].[dbo].[tbl_change_request] as  l\n",
    "join\n",
    "(SELECT season_id\n",
    "      ,year_round\n",
    "  FROM [sladb].[dbo].[tbl_sla_season]) as  r \n",
    "  on l.season_id = r.season_id \n",
    "  join \n",
    "  [sladb].[dbo].[vw_sla_code_pivot] as r2\n",
    "  on l.sla_code = r2.sla_code\n",
    "'''"
   ]
  },
  {
   "cell_type": "code",
   "execution_count": 101,
   "metadata": {},
   "outputs": [],
   "source": [
    "multi_join = pd.read_sql(con = engine, sql = sql_multi_join)"
   ]
  },
  {
   "cell_type": "code",
   "execution_count": 102,
   "metadata": {},
   "outputs": [
    {
     "data": {
      "text/html": [
       "<div>\n",
       "<style scoped>\n",
       "    .dataframe tbody tr th:only-of-type {\n",
       "        vertical-align: middle;\n",
       "    }\n",
       "\n",
       "    .dataframe tbody tr th {\n",
       "        vertical-align: top;\n",
       "    }\n",
       "\n",
       "    .dataframe thead th {\n",
       "        text-align: right;\n",
       "    }\n",
       "</style>\n",
       "<table border=\"1\" class=\"dataframe\">\n",
       "  <thead>\n",
       "    <tr style=\"text-align: right;\">\n",
       "      <th></th>\n",
       "      <th>sla_code</th>\n",
       "      <th>season_id</th>\n",
       "      <th>sla_change_status</th>\n",
       "      <th>yr_round_season</th>\n",
       "      <th>yr_round_sla_code</th>\n",
       "    </tr>\n",
       "  </thead>\n",
       "  <tbody>\n",
       "  </tbody>\n",
       "</table>\n",
       "</div>"
      ],
      "text/plain": [
       "Empty DataFrame\n",
       "Columns: [sla_code, season_id, sla_change_status, yr_round_season, yr_round_sla_code]\n",
       "Index: []"
      ]
     },
     "execution_count": 102,
     "metadata": {},
     "output_type": "execute_result"
    }
   ],
   "source": [
    "multi_join[multi_join['yr_round_season']!=multi_join['yr_round_sla_code']]"
   ]
  },
  {
   "cell_type": "code",
   "execution_count": 103,
   "metadata": {},
   "outputs": [],
   "source": [
    "results.append(\n",
    "    len(multi_join[multi_join['yr_round_season']!=multi_join['yr_round_sla_code']])==0)"
   ]
  },
  {
   "cell_type": "markdown",
   "metadata": {},
   "source": [
    "### Ninth before test"
   ]
  },
  {
   "cell_type": "code",
   "execution_count": 104,
   "metadata": {},
   "outputs": [],
   "source": [
    "timing.append('before')"
   ]
  },
  {
   "cell_type": "code",
   "execution_count": 105,
   "metadata": {},
   "outputs": [],
   "source": [
    "descriptions.append('''Compare tbl_ref_unit and tbl_change_request and test \\\n",
    "that 'effective_start' <= 'unit_withdraw' for all change requests where \\\n",
    "'sla_change_status' !=4 ''')"
   ]
  },
  {
   "cell_type": "code",
   "execution_count": null,
   "metadata": {},
   "outputs": [],
   "source": [
    "descriptions_nontech.append('''\n",
    "What is sla_change_status = 4 again?\n",
    "\n",
    "''')"
   ]
  },
  {
   "cell_type": "code",
   "execution_count": 106,
   "metadata": {},
   "outputs": [],
   "source": [
    "ref_unit_tbl['unit_withdraw'].fillna(datetime.datetime(\n",
    "            today.year + 1, today.month, today.day),inplace=True)"
   ]
  },
  {
   "cell_type": "code",
   "execution_count": 107,
   "metadata": {},
   "outputs": [],
   "source": [
    "temp_df = before_change_request[before_change_request['sla_change_status'] != 4].merge(\n",
    "    ref_unit_tbl, on='unit_id')[['effective_start','effective_start_adj','unit_withdraw']]"
   ]
  },
  {
   "cell_type": "code",
   "execution_count": 108,
   "metadata": {},
   "outputs": [],
   "source": [
    "results.append(len(temp_df[temp_df['effective_start']>temp_df['unit_withdraw']])==0)"
   ]
  },
  {
   "cell_type": "markdown",
   "metadata": {},
   "source": [
    "### Tenth before test"
   ]
  },
  {
   "cell_type": "code",
   "execution_count": 109,
   "metadata": {},
   "outputs": [],
   "source": [
    "# timing.append('before')"
   ]
  },
  {
   "cell_type": "code",
   "execution_count": 110,
   "metadata": {},
   "outputs": [],
   "source": [
    "# descriptions.append('''Compare tbl_unit_sla_season and tbl_ref_unit and test that \\\n",
    "# 'effective_end_adj' == Saturday after 'unit_withdraw' and that 'effective' == 0  ''')"
   ]
  },
  {
   "cell_type": "code",
   "execution_count": null,
   "metadata": {},
   "outputs": [],
   "source": [
    "descriptions_nontech.append('''\n",
    "This test confirms that the adjusted effective end date is a Saturday date, and that \\\n",
    "it is successfully marked as not effective.\n",
    "''')"
   ]
  },
  {
   "cell_type": "code",
   "execution_count": 111,
   "metadata": {},
   "outputs": [],
   "source": [
    "def get_saturday_after(row, col):\n",
    "    return datetime.datetime(row[col].year,\n",
    "                             row[col].month,\n",
    "                             row[col].day) + datetime.timedelta(\n",
    "                                 days=row['ndays_saturday'])"
   ]
  },
  {
   "cell_type": "code",
   "execution_count": 112,
   "metadata": {},
   "outputs": [],
   "source": [
    "temp_df = before_unit_season.merge(ref_unit_tbl, on='unit_id')[[\n",
    "    'unit_id', 'effective_start_adj', 'effective_end_adj', 'unit_withdraw',\n",
    "    'effective'\n",
    "]].merge(calendar_tbl[['ref_date', 'day_name_desc']],\n",
    "         left_on='effective_end_adj',\n",
    "         right_on='ref_date').merge(\n",
    "             day_name_tbl[['day_name_desc', 'ndays_saturday']],\n",
    "             on='day_name_desc')"
   ]
  },
  {
   "cell_type": "code",
   "execution_count": 113,
   "metadata": {},
   "outputs": [],
   "source": [
    "temp_df['sat_after_effendadj']=temp_df.apply(lambda row: get_saturday_after(row, 'effective_end_adj'),axis=1)"
   ]
  },
  {
   "cell_type": "code",
   "execution_count": 114,
   "metadata": {},
   "outputs": [
    {
     "data": {
      "text/html": [
       "<div>\n",
       "<style scoped>\n",
       "    .dataframe tbody tr th:only-of-type {\n",
       "        vertical-align: middle;\n",
       "    }\n",
       "\n",
       "    .dataframe tbody tr th {\n",
       "        vertical-align: top;\n",
       "    }\n",
       "\n",
       "    .dataframe thead th {\n",
       "        text-align: right;\n",
       "    }\n",
       "</style>\n",
       "<table border=\"1\" class=\"dataframe\">\n",
       "  <thead>\n",
       "    <tr style=\"text-align: right;\">\n",
       "      <th></th>\n",
       "      <th>unit_id</th>\n",
       "      <th>effective_start_adj</th>\n",
       "      <th>effective_end_adj</th>\n",
       "      <th>unit_withdraw</th>\n",
       "      <th>effective</th>\n",
       "      <th>ref_date</th>\n",
       "      <th>day_name_desc</th>\n",
       "      <th>ndays_saturday</th>\n",
       "      <th>sat_after_effendadj</th>\n",
       "    </tr>\n",
       "  </thead>\n",
       "  <tbody>\n",
       "    <tr>\n",
       "      <th>0</th>\n",
       "      <td>RZ245</td>\n",
       "      <td>2014-01-05</td>\n",
       "      <td>2020-03-21</td>\n",
       "      <td>2021-09-17</td>\n",
       "      <td>False</td>\n",
       "      <td>2020-03-21</td>\n",
       "      <td>Saturday</td>\n",
       "      <td>0</td>\n",
       "      <td>2020-03-21</td>\n",
       "    </tr>\n",
       "    <tr>\n",
       "      <th>1</th>\n",
       "      <td>RZ25</td>\n",
       "      <td>2014-01-05</td>\n",
       "      <td>2020-03-21</td>\n",
       "      <td>2021-09-17</td>\n",
       "      <td>False</td>\n",
       "      <td>2020-03-21</td>\n",
       "      <td>Saturday</td>\n",
       "      <td>0</td>\n",
       "      <td>2020-03-21</td>\n",
       "    </tr>\n",
       "    <tr>\n",
       "      <th>2</th>\n",
       "      <td>RZ255</td>\n",
       "      <td>2014-01-05</td>\n",
       "      <td>2020-03-21</td>\n",
       "      <td>2021-09-17</td>\n",
       "      <td>False</td>\n",
       "      <td>2020-03-21</td>\n",
       "      <td>Saturday</td>\n",
       "      <td>0</td>\n",
       "      <td>2020-03-21</td>\n",
       "    </tr>\n",
       "    <tr>\n",
       "      <th>3</th>\n",
       "      <td>RZ258</td>\n",
       "      <td>2014-01-05</td>\n",
       "      <td>2020-03-21</td>\n",
       "      <td>2021-09-17</td>\n",
       "      <td>False</td>\n",
       "      <td>2020-03-21</td>\n",
       "      <td>Saturday</td>\n",
       "      <td>0</td>\n",
       "      <td>2020-03-21</td>\n",
       "    </tr>\n",
       "    <tr>\n",
       "      <th>4</th>\n",
       "      <td>RZ26</td>\n",
       "      <td>2014-01-05</td>\n",
       "      <td>2020-03-21</td>\n",
       "      <td>2021-09-17</td>\n",
       "      <td>False</td>\n",
       "      <td>2020-03-21</td>\n",
       "      <td>Saturday</td>\n",
       "      <td>0</td>\n",
       "      <td>2020-03-21</td>\n",
       "    </tr>\n",
       "  </tbody>\n",
       "</table>\n",
       "</div>"
      ],
      "text/plain": [
       "  unit_id effective_start_adj effective_end_adj unit_withdraw  effective  \\\n",
       "0   RZ245          2014-01-05        2020-03-21    2021-09-17      False   \n",
       "1    RZ25          2014-01-05        2020-03-21    2021-09-17      False   \n",
       "2   RZ255          2014-01-05        2020-03-21    2021-09-17      False   \n",
       "3   RZ258          2014-01-05        2020-03-21    2021-09-17      False   \n",
       "4    RZ26          2014-01-05        2020-03-21    2021-09-17      False   \n",
       "\n",
       "    ref_date day_name_desc  ndays_saturday sat_after_effendadj  \n",
       "0 2020-03-21      Saturday               0          2020-03-21  \n",
       "1 2020-03-21      Saturday               0          2020-03-21  \n",
       "2 2020-03-21      Saturday               0          2020-03-21  \n",
       "3 2020-03-21      Saturday               0          2020-03-21  \n",
       "4 2020-03-21      Saturday               0          2020-03-21  "
      ]
     },
     "execution_count": 114,
     "metadata": {},
     "output_type": "execute_result"
    }
   ],
   "source": [
    "temp_df.head()"
   ]
  },
  {
   "cell_type": "code",
   "execution_count": 115,
   "metadata": {},
   "outputs": [],
   "source": [
    "# calendar_tbl.head()"
   ]
  },
  {
   "cell_type": "code",
   "execution_count": 116,
   "metadata": {},
   "outputs": [],
   "source": [
    "# results.append(\n",
    "#     len(temp_df[(temp_df['effective_end'] < temp_df['unit_withdraw'])\n",
    "#             & temp_df['effective'] == True]) == 0)"
   ]
  },
  {
   "cell_type": "markdown",
   "metadata": {},
   "source": [
    "### Eleventh before test"
   ]
  },
  {
   "cell_type": "code",
   "execution_count": 117,
   "metadata": {},
   "outputs": [],
   "source": [
    "timing.append('before')"
   ]
  },
  {
   "cell_type": "code",
   "execution_count": 118,
   "metadata": {},
   "outputs": [],
   "source": [
    "descriptions.append('''Test that for every record in tbl_change_request there \\\n",
    "is at least one record in tbl_change_request_status and that the first one has \\\n",
    "'sla_change_status' ==1''')"
   ]
  },
  {
   "cell_type": "code",
   "execution_count": null,
   "metadata": {},
   "outputs": [],
   "source": [
    "descriptions_nontech.append(''' Every change request record should have a corresponding entry \\\n",
    "in tbl_change_request_status, and it should be [whatever status 1 is].\n",
    "''')"
   ]
  },
  {
   "cell_type": "code",
   "execution_count": 119,
   "metadata": {},
   "outputs": [],
   "source": [
    "temp_df = before_change_request.merge(before_change_request_status,\n",
    "                            on='change_request_id').sort_values(\n",
    "                                by=['change_request_id', 'created_date_utc'\n",
    "                                    ]).groupby('change_request_id').first()\n"
   ]
  },
  {
   "cell_type": "code",
   "execution_count": 120,
   "metadata": {},
   "outputs": [],
   "source": [
    "results.append(\n",
    "    (len(temp_df)==len(before_change_request))&len(temp_df[temp_df['sla_change_status_y']!=1])==0)"
   ]
  },
  {
   "cell_type": "markdown",
   "metadata": {},
   "source": [
    "### Twelfth before test"
   ]
  },
  {
   "cell_type": "code",
   "execution_count": 121,
   "metadata": {},
   "outputs": [],
   "source": [
    "timing.append('before')"
   ]
  },
  {
   "cell_type": "code",
   "execution_count": 122,
   "metadata": {},
   "outputs": [],
   "source": [
    "descriptions.append('''Test that len(tbl_change_request) >= \\\n",
    "len(tbl_unit_sla_season)''')"
   ]
  },
  {
   "cell_type": "code",
   "execution_count": null,
   "metadata": {},
   "outputs": [],
   "source": [
    "descriptions_nontech.append('''\n",
    "[What is the purpose of this test?]\n",
    "''')"
   ]
  },
  {
   "cell_type": "code",
   "execution_count": 123,
   "metadata": {},
   "outputs": [],
   "source": [
    "results.append(len(before_unit_season)<=len(before_change_request))"
   ]
  },
  {
   "cell_type": "markdown",
   "metadata": {},
   "source": [
    "### Thirteenth before test"
   ]
  },
  {
   "cell_type": "code",
   "execution_count": 124,
   "metadata": {},
   "outputs": [],
   "source": [
    "timing.append('before')"
   ]
  },
  {
   "cell_type": "code",
   "execution_count": 125,
   "metadata": {},
   "outputs": [],
   "source": [
    "descriptions.append('''In tbl_change_request_status, if there are entries \\\n",
    "with 'sla_change_status' == 4 make sure those entries have \\\n",
    "'created_date_utc'== max('created_date_utc') for that change request''')"
   ]
  },
  {
   "cell_type": "code",
   "execution_count": null,
   "metadata": {},
   "outputs": [],
   "source": [
    "descriptions_nontech.append('''\n",
    "[Is the max() function to confirm that the entry is the most recent?]\n",
    "''')"
   ]
  },
  {
   "cell_type": "code",
   "execution_count": 126,
   "metadata": {
    "scrolled": true
   },
   "outputs": [
    {
     "data": {
      "text/html": [
       "<div>\n",
       "<style scoped>\n",
       "    .dataframe tbody tr th:only-of-type {\n",
       "        vertical-align: middle;\n",
       "    }\n",
       "\n",
       "    .dataframe tbody tr th {\n",
       "        vertical-align: top;\n",
       "    }\n",
       "\n",
       "    .dataframe thead th {\n",
       "        text-align: right;\n",
       "    }\n",
       "</style>\n",
       "<table border=\"1\" class=\"dataframe\">\n",
       "  <thead>\n",
       "    <tr style=\"text-align: right;\">\n",
       "      <th></th>\n",
       "      <th>change_request_id</th>\n",
       "      <th>sla_change_status_x</th>\n",
       "      <th>created_date_utc_x</th>\n",
       "      <th>sla_change_status_y</th>\n",
       "      <th>created_date_utc_y</th>\n",
       "    </tr>\n",
       "  </thead>\n",
       "  <tbody>\n",
       "  </tbody>\n",
       "</table>\n",
       "</div>"
      ],
      "text/plain": [
       "Empty DataFrame\n",
       "Columns: [change_request_id, sla_change_status_x, created_date_utc_x, sla_change_status_y, created_date_utc_y]\n",
       "Index: []"
      ]
     },
     "execution_count": 126,
     "metadata": {},
     "output_type": "execute_result"
    }
   ],
   "source": [
    "temp_df = before_change_request_status[\n",
    "    before_change_request_status['sla_change_status'] == 4][[\n",
    "        'change_request_id', 'sla_change_status', 'created_date_utc'\n",
    "    ]].sort_values(by='change_request_id').merge(\n",
    "        before_change_request_status.groupby('change_request_id')[[\n",
    "            'change_request_id', 'sla_change_status', 'created_date_utc'\n",
    "        ]].max()[['sla_change_status', 'created_date_utc']],\n",
    "        left_on='change_request_id',\n",
    "        right_index=True,\n",
    "        how='left')\n",
    "temp_df.head()"
   ]
  },
  {
   "cell_type": "code",
   "execution_count": 127,
   "metadata": {},
   "outputs": [
    {
     "data": {
      "text/plain": [
       "True"
      ]
     },
     "execution_count": 127,
     "metadata": {},
     "output_type": "execute_result"
    }
   ],
   "source": [
    "len(temp_df[\n",
    "        (temp_df['sla_change_status_x'] != temp_df['sla_change_status_y'])\n",
    "        | (temp_df['created_date_utc_x'] != temp_df['created_date_utc_y'])]) ==0"
   ]
  },
  {
   "cell_type": "code",
   "execution_count": 128,
   "metadata": {},
   "outputs": [],
   "source": [
    "results.append(\n",
    "    len(temp_df[\n",
    "        (temp_df['sla_change_status_x'] != temp_df['sla_change_status_y'])\n",
    "        | (temp_df['created_date_utc_x'] != temp_df['created_date_utc_y'])]) ==\n",
    "    0)"
   ]
  },
  {
   "cell_type": "code",
   "execution_count": 129,
   "metadata": {},
   "outputs": [
    {
     "data": {
      "text/html": [
       "<div>\n",
       "<style scoped>\n",
       "    .dataframe tbody tr th:only-of-type {\n",
       "        vertical-align: middle;\n",
       "    }\n",
       "\n",
       "    .dataframe tbody tr th {\n",
       "        vertical-align: top;\n",
       "    }\n",
       "\n",
       "    .dataframe thead th {\n",
       "        text-align: right;\n",
       "    }\n",
       "</style>\n",
       "<table border=\"1\" class=\"dataframe\">\n",
       "  <thead>\n",
       "    <tr style=\"text-align: right;\">\n",
       "      <th></th>\n",
       "      <th>change_request_id</th>\n",
       "      <th>sla_change_status</th>\n",
       "      <th>created_date_utc</th>\n",
       "    </tr>\n",
       "  </thead>\n",
       "  <tbody>\n",
       "    <tr>\n",
       "      <th>0</th>\n",
       "      <td>1</td>\n",
       "      <td>2</td>\n",
       "      <td>2014-01-01</td>\n",
       "    </tr>\n",
       "    <tr>\n",
       "      <th>1</th>\n",
       "      <td>2</td>\n",
       "      <td>2</td>\n",
       "      <td>2014-01-01</td>\n",
       "    </tr>\n",
       "    <tr>\n",
       "      <th>2</th>\n",
       "      <td>3</td>\n",
       "      <td>2</td>\n",
       "      <td>2014-01-01</td>\n",
       "    </tr>\n",
       "    <tr>\n",
       "      <th>3</th>\n",
       "      <td>4</td>\n",
       "      <td>2</td>\n",
       "      <td>2014-01-01</td>\n",
       "    </tr>\n",
       "    <tr>\n",
       "      <th>4</th>\n",
       "      <td>5</td>\n",
       "      <td>2</td>\n",
       "      <td>2014-01-01</td>\n",
       "    </tr>\n",
       "    <tr>\n",
       "      <th>...</th>\n",
       "      <td>...</td>\n",
       "      <td>...</td>\n",
       "      <td>...</td>\n",
       "    </tr>\n",
       "    <tr>\n",
       "      <th>11389</th>\n",
       "      <td>11390</td>\n",
       "      <td>2</td>\n",
       "      <td>2020-07-05</td>\n",
       "    </tr>\n",
       "    <tr>\n",
       "      <th>11390</th>\n",
       "      <td>11391</td>\n",
       "      <td>2</td>\n",
       "      <td>2020-07-05</td>\n",
       "    </tr>\n",
       "    <tr>\n",
       "      <th>11391</th>\n",
       "      <td>11392</td>\n",
       "      <td>2</td>\n",
       "      <td>2020-07-05</td>\n",
       "    </tr>\n",
       "    <tr>\n",
       "      <th>11392</th>\n",
       "      <td>11393</td>\n",
       "      <td>2</td>\n",
       "      <td>2020-07-05</td>\n",
       "    </tr>\n",
       "    <tr>\n",
       "      <th>11393</th>\n",
       "      <td>11394</td>\n",
       "      <td>2</td>\n",
       "      <td>2020-07-05</td>\n",
       "    </tr>\n",
       "  </tbody>\n",
       "</table>\n",
       "<p>11394 rows × 3 columns</p>\n",
       "</div>"
      ],
      "text/plain": [
       "       change_request_id  sla_change_status created_date_utc\n",
       "0                      1                  2       2014-01-01\n",
       "1                      2                  2       2014-01-01\n",
       "2                      3                  2       2014-01-01\n",
       "3                      4                  2       2014-01-01\n",
       "4                      5                  2       2014-01-01\n",
       "...                  ...                ...              ...\n",
       "11389              11390                  2       2020-07-05\n",
       "11390              11391                  2       2020-07-05\n",
       "11391              11392                  2       2020-07-05\n",
       "11392              11393                  2       2020-07-05\n",
       "11393              11394                  2       2020-07-05\n",
       "\n",
       "[11394 rows x 3 columns]"
      ]
     },
     "execution_count": 129,
     "metadata": {},
     "output_type": "execute_result"
    }
   ],
   "source": [
    "before_change_request_status[[\n",
    "    'change_request_id', 'sla_change_status', 'created_date_utc'\n",
    "]].groupby('change_request_id').max().reset_index()"
   ]
  },
  {
   "cell_type": "markdown",
   "metadata": {},
   "source": [
    "### Fourteenth before test"
   ]
  },
  {
   "cell_type": "code",
   "execution_count": 130,
   "metadata": {},
   "outputs": [],
   "source": [
    "timing.append('before')"
   ]
  },
  {
   "cell_type": "code",
   "execution_count": 131,
   "metadata": {},
   "outputs": [],
   "source": [
    "descriptions.append('''Test that the latest entry in \\\n",
    "tbl_change_request_status for each 'change_request_id' is the same \\\n",
    "as the entry in tbl_change_request for that change request''')"
   ]
  },
  {
   "cell_type": "code",
   "execution_count": null,
   "metadata": {},
   "outputs": [],
   "source": [
    "descriptions_nontech.append('''[is this correct?] Verifying that the latest change request record corresponds to \\ \n",
    "the latest change request status record.\n",
    "''')"
   ]
  },
  {
   "cell_type": "code",
   "execution_count": 132,
   "metadata": {},
   "outputs": [],
   "source": [
    "results.append(len(before_change_request_status[[\n",
    "    'change_request_id', 'sla_change_status', 'created_date_utc'\n",
    "]].groupby('change_request_id').max().reset_index().merge(\n",
    "    before_change_request[['change_request_id', 'sla_change_status'\n",
    "                           ]].sort_values(by='change_request_id'),\n",
    "    on=['change_request_id', 'sla_change_status'],\n",
    "    how='left'))==len(before_change_request))"
   ]
  },
  {
   "cell_type": "code",
   "execution_count": 133,
   "metadata": {},
   "outputs": [
    {
     "data": {
      "text/plain": [
       "11394"
      ]
     },
     "execution_count": 133,
     "metadata": {},
     "output_type": "execute_result"
    }
   ],
   "source": [
    "len(before_change_request)"
   ]
  },
  {
   "cell_type": "code",
   "execution_count": 134,
   "metadata": {},
   "outputs": [],
   "source": [
    "# before_change_request_status[[\n",
    "#     'change_request_id', 'sla_change_status', 'created_date_utc'\n",
    "# ]].sort_values(by='change_request_id').merge(before_change_request_status[[\n",
    "#     'change_request_id', 'sla_change_status', 'created_date_utc'\n",
    "# ]].groupby('change_request_id').max().reset_index(),\n",
    "#                                              left_on=['change_request_id','sla_change_status_x'],\n",
    "#                                              right_on = ['change_request_id', 'sla_change_status_y']\n",
    "                                             \n",
    "# #                                              right_index=True,\n",
    "#                                              )"
   ]
  },
  {
   "cell_type": "markdown",
   "metadata": {},
   "source": [
    "## Make Updates"
   ]
  },
  {
   "cell_type": "markdown",
   "metadata": {},
   "source": [
    "## Execute all of the sql queries AFTER UPDATES and store the results"
   ]
  },
  {
   "cell_type": "markdown",
   "metadata": {},
   "source": [
    "## List of tuples with final test results"
   ]
  },
  {
   "cell_type": "code",
   "execution_count": 135,
   "metadata": {
    "scrolled": true
   },
   "outputs": [
    {
     "data": {
      "text/plain": [
       "[('before',\n",
       "  \"In tbl_unit_change_request test to make sure the 'effective_start_adj' is between 'effective_start_adj' and 'effective_end_adj' from tbl_sla_season if not null. If 'effective_end_adj' is null in tbl_sla_season, replace with today's date+1year. If this condition is not met, 'sla_change_status' must == 4\",\n",
       "  True),\n",
       " ('before',\n",
       "  \"In tbl_unit_sla_season test that 'effective_start_adj' and 'effective_end_adj' are always Sundays and Saturdays, respectively\",\n",
       "  True),\n",
       " ('before',\n",
       "  \"In tbl_change_request test that for any change request that has 'sla_change_status'==2 the 'effective_start_adj' is the Sunday after the 'effective_start' IF 'date_created_utc' (in tbl_change_request_status) <= Sunday after 'effective_start'. Otherwise, 'effective_start_adj' should be the Sunday after 'date_created_utc' \",\n",
       "  True),\n",
       " ('before',\n",
       "  \"In tbl_change_request test that each unit only has one entry with 'sla_change_status'==1\",\n",
       "  True),\n",
       " ('before',\n",
       "  \"In tbl_change_request test that each entry has a unique combination 'unit_id', 'effective_start_adj', and 'sla_change_status' fields\",\n",
       "  True),\n",
       " ('before',\n",
       "  \"In tbl_unit_sla_season test that each entry has a unique combination 'unit_id' and 'effective_start_adj' \",\n",
       "  True),\n",
       " ('before',\n",
       "  \"In tbl_unit_sla_season test there are no overlaps in dates ('effective_start_adj' and 'effective_end_adj')\",\n",
       "  True),\n",
       " ('before',\n",
       "  \"Validate that change requests have consistent 'year_round' values in tbl_sla_season and vw_sla_code_pivot\",\n",
       "  True),\n",
       " ('before',\n",
       "  \"Compare tbl_ref_unit and tbl_change_request and test that 'effective_start' <= 'unit_withdraw' for all change requests where 'sla_change_status' !=4 \",\n",
       "  True),\n",
       " ('before',\n",
       "  \"Test that for every record in tbl_change_request there is at least one record in tbl_change_request_status and that the first one has 'sla_change_status' ==1\",\n",
       "  True),\n",
       " ('before',\n",
       "  'Test that len(tbl_change_request) >= len(tbl_unit_sla_season)',\n",
       "  True),\n",
       " ('before',\n",
       "  \"In tbl_change_request_status, if there are entries with 'sla_change_status' == 4 make sure those entries have 'created_date_utc'== max('created_date_utc') for that change request\",\n",
       "  True),\n",
       " ('before',\n",
       "  \"Test that the latest entry in tbl_change_request_status for each 'change_request_id' is the same as the entry in tbl_change_request for that change request\",\n",
       "  True)]"
      ]
     },
     "execution_count": 135,
     "metadata": {},
     "output_type": "execute_result"
    }
   ],
   "source": [
    "list(zip(timing, descriptions, results))"
   ]
  },
  {
   "cell_type": "code",
   "execution_count": 136,
   "metadata": {
    "scrolled": false
   },
   "outputs": [
    {
     "data": {
      "text/html": [
       "<div>\n",
       "<style scoped>\n",
       "    .dataframe tbody tr th:only-of-type {\n",
       "        vertical-align: middle;\n",
       "    }\n",
       "\n",
       "    .dataframe tbody tr th {\n",
       "        vertical-align: top;\n",
       "    }\n",
       "\n",
       "    .dataframe thead th {\n",
       "        text-align: right;\n",
       "    }\n",
       "</style>\n",
       "<table border=\"1\" class=\"dataframe\">\n",
       "  <thead>\n",
       "    <tr style=\"text-align: right;\">\n",
       "      <th></th>\n",
       "      <th>test_desc</th>\n",
       "      <th>result</th>\n",
       "      <th>before/after</th>\n",
       "    </tr>\n",
       "  </thead>\n",
       "  <tbody>\n",
       "    <tr>\n",
       "      <th>0</th>\n",
       "      <td>before</td>\n",
       "      <td>In tbl_unit_change_request test to make sure t...</td>\n",
       "      <td>True</td>\n",
       "    </tr>\n",
       "    <tr>\n",
       "      <th>1</th>\n",
       "      <td>before</td>\n",
       "      <td>In tbl_unit_sla_season test that 'effective_st...</td>\n",
       "      <td>True</td>\n",
       "    </tr>\n",
       "    <tr>\n",
       "      <th>2</th>\n",
       "      <td>before</td>\n",
       "      <td>In tbl_change_request test that for any change...</td>\n",
       "      <td>True</td>\n",
       "    </tr>\n",
       "    <tr>\n",
       "      <th>3</th>\n",
       "      <td>before</td>\n",
       "      <td>In tbl_change_request test that each unit only...</td>\n",
       "      <td>True</td>\n",
       "    </tr>\n",
       "    <tr>\n",
       "      <th>4</th>\n",
       "      <td>before</td>\n",
       "      <td>In tbl_change_request test that each entry has...</td>\n",
       "      <td>True</td>\n",
       "    </tr>\n",
       "    <tr>\n",
       "      <th>5</th>\n",
       "      <td>before</td>\n",
       "      <td>In tbl_unit_sla_season test that each entry ha...</td>\n",
       "      <td>True</td>\n",
       "    </tr>\n",
       "    <tr>\n",
       "      <th>6</th>\n",
       "      <td>before</td>\n",
       "      <td>In tbl_unit_sla_season test there are no overl...</td>\n",
       "      <td>True</td>\n",
       "    </tr>\n",
       "    <tr>\n",
       "      <th>7</th>\n",
       "      <td>before</td>\n",
       "      <td>Validate that change requests have consistent ...</td>\n",
       "      <td>True</td>\n",
       "    </tr>\n",
       "    <tr>\n",
       "      <th>8</th>\n",
       "      <td>before</td>\n",
       "      <td>Compare tbl_ref_unit and tbl_change_request an...</td>\n",
       "      <td>True</td>\n",
       "    </tr>\n",
       "    <tr>\n",
       "      <th>9</th>\n",
       "      <td>before</td>\n",
       "      <td>Test that for every record in tbl_change_reque...</td>\n",
       "      <td>True</td>\n",
       "    </tr>\n",
       "    <tr>\n",
       "      <th>10</th>\n",
       "      <td>before</td>\n",
       "      <td>Test that len(tbl_change_request) &gt;= len(tbl_u...</td>\n",
       "      <td>True</td>\n",
       "    </tr>\n",
       "    <tr>\n",
       "      <th>11</th>\n",
       "      <td>before</td>\n",
       "      <td>In tbl_change_request_status, if there are ent...</td>\n",
       "      <td>True</td>\n",
       "    </tr>\n",
       "    <tr>\n",
       "      <th>12</th>\n",
       "      <td>before</td>\n",
       "      <td>Test that the latest entry in tbl_change_reque...</td>\n",
       "      <td>True</td>\n",
       "    </tr>\n",
       "  </tbody>\n",
       "</table>\n",
       "</div>"
      ],
      "text/plain": [
       "   test_desc                                             result  before/after\n",
       "0     before  In tbl_unit_change_request test to make sure t...          True\n",
       "1     before  In tbl_unit_sla_season test that 'effective_st...          True\n",
       "2     before  In tbl_change_request test that for any change...          True\n",
       "3     before  In tbl_change_request test that each unit only...          True\n",
       "4     before  In tbl_change_request test that each entry has...          True\n",
       "5     before  In tbl_unit_sla_season test that each entry ha...          True\n",
       "6     before  In tbl_unit_sla_season test there are no overl...          True\n",
       "7     before  Validate that change requests have consistent ...          True\n",
       "8     before  Compare tbl_ref_unit and tbl_change_request an...          True\n",
       "9     before  Test that for every record in tbl_change_reque...          True\n",
       "10    before  Test that len(tbl_change_request) >= len(tbl_u...          True\n",
       "11    before  In tbl_change_request_status, if there are ent...          True\n",
       "12    before  Test that the latest entry in tbl_change_reque...          True"
      ]
     },
     "execution_count": 136,
     "metadata": {},
     "output_type": "execute_result"
    }
   ],
   "source": [
    "pd.DataFrame(list(zip(timing, descriptions, results)), columns = {'before/after', 'test_desc', 'result'})             "
   ]
  },
  {
   "cell_type": "code",
   "execution_count": null,
   "metadata": {},
   "outputs": [],
   "source": []
  },
  {
   "cell_type": "code",
   "execution_count": null,
   "metadata": {},
   "outputs": [],
   "source": []
  }
 ],
 "metadata": {
  "kernelspec": {
   "display_name": "Python 3",
   "language": "python",
   "name": "python3"
  },
  "language_info": {
   "codemirror_mode": {
    "name": "ipython",
    "version": 3
   },
   "file_extension": ".py",
   "mimetype": "text/x-python",
   "name": "python",
   "nbconvert_exporter": "python",
   "pygments_lexer": "ipython3",
   "version": "3.7.6"
  },
  "toc": {
   "base_numbering": 1,
   "nav_menu": {},
   "number_sections": true,
   "sideBar": true,
   "skip_h1_title": false,
   "title_cell": "Table of Contents",
   "title_sidebar": "Contents",
   "toc_cell": false,
   "toc_position": {
    "height": "calc(100% - 180px)",
    "left": "10px",
    "top": "150px",
    "width": "183px"
   },
   "toc_section_display": true,
   "toc_window_display": true
  }
 },
 "nbformat": 4,
 "nbformat_minor": 2
}
