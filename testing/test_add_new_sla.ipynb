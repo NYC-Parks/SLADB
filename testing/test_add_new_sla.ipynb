{
 "cells": [
  {
   "cell_type": "code",
   "execution_count": 1,
   "metadata": {},
   "outputs": [],
   "source": [
    "import sys\n",
    "import pandas as pd\n",
    "import numpy as np\n",
    "import urllib\n",
    "import sqlalchemy\n",
    "import string"
   ]
  },
  {
   "cell_type": "code",
   "execution_count": 2,
   "metadata": {},
   "outputs": [],
   "source": [
    "#Import shared functions\n",
    "sys.path.append('..\\..')\n",
    "from IPM_Shared_Code_public.Python.utils import get_config"
   ]
  },
  {
   "cell_type": "code",
   "execution_count": 3,
   "metadata": {},
   "outputs": [],
   "source": [
    "config = get_config('c:\\Projects\\config.ini')\n",
    "\n",
    "driver = config['srv']['driver']\n",
    "server = config['srv']['dev_server']\n",
    "sladb = config['db']['sladb']"
   ]
  },
  {
   "cell_type": "code",
   "execution_count": 4,
   "metadata": {},
   "outputs": [],
   "source": [
    "con_string = 'Driver={' + driver + '};Server=' + server +';Database=' + sladb + ';Trusted_Connection=Yes;'\n",
    "params = urllib.parse.quote_plus(con_string)\n",
    "engine = sqlalchemy.create_engine(\"mssql+pyodbc:///?odbc_connect=%s\" % params)"
   ]
  },
  {
   "cell_type": "markdown",
   "metadata": {},
   "source": [
    "## Write all of the sql queries required for the tests"
   ]
  },
  {
   "cell_type": "code",
   "execution_count": 5,
   "metadata": {},
   "outputs": [],
   "source": [
    "sql_count_sla_id = 'select count(*) from sladb.dbo.tbl_ref_sla'"
   ]
  },
  {
   "cell_type": "code",
   "execution_count": 6,
   "metadata": {},
   "outputs": [],
   "source": [
    "sql_distinct_sla_id = 'select distinct sla_id from sladb.dbo.tbl_ref_sla'"
   ]
  },
  {
   "cell_type": "code",
   "execution_count": 7,
   "metadata": {},
   "outputs": [],
   "source": [
    "# sql_sla_code = '''select * from \\\n",
    "# sladb.dbo.tbl_ref_sla_code'''"
   ]
  },
  {
   "cell_type": "code",
   "execution_count": 8,
   "metadata": {},
   "outputs": [],
   "source": [
    "sql_sla_code = '''select min(sla_code) as min_sla_code, \n",
    "                          max(sla_code) as max_sla_code, \n",
    "                          count(*) as n_sla_codes\n",
    "                   from sladb.dbo.tbl_ref_sla_code'''"
   ]
  },
  {
   "cell_type": "code",
   "execution_count": 9,
   "metadata": {},
   "outputs": [],
   "source": [
    "sql_date_category = 'select distinct(date_category_id) from sladb.dbo.tbl_ref_sla_season_category'"
   ]
  },
  {
   "cell_type": "code",
   "execution_count": 10,
   "metadata": {},
   "outputs": [],
   "source": [
    "sql_sla_translation = 'select sla_id, sla_code, date_category_id from sladb.dbo.tbl_ref_sla_translation'"
   ]
  },
  {
   "cell_type": "markdown",
   "metadata": {},
   "source": [
    "## Execute all of the sql queries and store the results"
   ]
  },
  {
   "cell_type": "code",
   "execution_count": 11,
   "metadata": {},
   "outputs": [],
   "source": [
    "before_count_sla_id = pd.read_sql(con = engine, sql = sql_count_sla_id).values[0][0]"
   ]
  },
  {
   "cell_type": "code",
   "execution_count": 12,
   "metadata": {},
   "outputs": [
    {
     "data": {
      "text/plain": [
       "8"
      ]
     },
     "execution_count": 12,
     "metadata": {},
     "output_type": "execute_result"
    }
   ],
   "source": [
    "before_count_sla_id"
   ]
  },
  {
   "cell_type": "code",
   "execution_count": 13,
   "metadata": {},
   "outputs": [],
   "source": [
    "before_squared_count_sla_id = before_count_sla_id * before_count_sla_id"
   ]
  },
  {
   "cell_type": "code",
   "execution_count": 14,
   "metadata": {},
   "outputs": [
    {
     "data": {
      "text/plain": [
       "64"
      ]
     },
     "execution_count": 14,
     "metadata": {},
     "output_type": "execute_result"
    }
   ],
   "source": [
    "before_squared_count_sla_id"
   ]
  },
  {
   "cell_type": "code",
   "execution_count": 15,
   "metadata": {},
   "outputs": [],
   "source": [
    "before_distinct_sla_id = pd.read_sql(con = engine, sql = sql_distinct_sla_id)"
   ]
  },
  {
   "cell_type": "code",
   "execution_count": 16,
   "metadata": {},
   "outputs": [
    {
     "data": {
      "text/html": [
       "<div>\n",
       "<style scoped>\n",
       "    .dataframe tbody tr th:only-of-type {\n",
       "        vertical-align: middle;\n",
       "    }\n",
       "\n",
       "    .dataframe tbody tr th {\n",
       "        vertical-align: top;\n",
       "    }\n",
       "\n",
       "    .dataframe thead th {\n",
       "        text-align: right;\n",
       "    }\n",
       "</style>\n",
       "<table border=\"1\" class=\"dataframe\">\n",
       "  <thead>\n",
       "    <tr style=\"text-align: right;\">\n",
       "      <th></th>\n",
       "      <th>sla_id</th>\n",
       "    </tr>\n",
       "  </thead>\n",
       "  <tbody>\n",
       "    <tr>\n",
       "      <th>0</th>\n",
       "      <td>A</td>\n",
       "    </tr>\n",
       "    <tr>\n",
       "      <th>1</th>\n",
       "      <td>B</td>\n",
       "    </tr>\n",
       "    <tr>\n",
       "      <th>2</th>\n",
       "      <td>C</td>\n",
       "    </tr>\n",
       "    <tr>\n",
       "      <th>3</th>\n",
       "      <td>D</td>\n",
       "    </tr>\n",
       "    <tr>\n",
       "      <th>4</th>\n",
       "      <td>E</td>\n",
       "    </tr>\n",
       "    <tr>\n",
       "      <th>5</th>\n",
       "      <td>F</td>\n",
       "    </tr>\n",
       "    <tr>\n",
       "      <th>6</th>\n",
       "      <td>N</td>\n",
       "    </tr>\n",
       "    <tr>\n",
       "      <th>7</th>\n",
       "      <td>T</td>\n",
       "    </tr>\n",
       "  </tbody>\n",
       "</table>\n",
       "</div>"
      ],
      "text/plain": [
       "  sla_id\n",
       "0      A\n",
       "1      B\n",
       "2      C\n",
       "3      D\n",
       "4      E\n",
       "5      F\n",
       "6      N\n",
       "7      T"
      ]
     },
     "execution_count": 16,
     "metadata": {},
     "output_type": "execute_result"
    }
   ],
   "source": [
    "before_distinct_sla_id"
   ]
  },
  {
   "cell_type": "code",
   "execution_count": 17,
   "metadata": {},
   "outputs": [],
   "source": [
    "before_sla_code = pd.read_sql(con = engine, sql = sql_sla_code)"
   ]
  },
  {
   "cell_type": "code",
   "execution_count": 18,
   "metadata": {},
   "outputs": [
    {
     "data": {
      "text/html": [
       "<div>\n",
       "<style scoped>\n",
       "    .dataframe tbody tr th:only-of-type {\n",
       "        vertical-align: middle;\n",
       "    }\n",
       "\n",
       "    .dataframe tbody tr th {\n",
       "        vertical-align: top;\n",
       "    }\n",
       "\n",
       "    .dataframe thead th {\n",
       "        text-align: right;\n",
       "    }\n",
       "</style>\n",
       "<table border=\"1\" class=\"dataframe\">\n",
       "  <thead>\n",
       "    <tr style=\"text-align: right;\">\n",
       "      <th></th>\n",
       "      <th>min_sla_code</th>\n",
       "      <th>max_sla_code</th>\n",
       "      <th>n_sla_codes</th>\n",
       "    </tr>\n",
       "  </thead>\n",
       "  <tbody>\n",
       "    <tr>\n",
       "      <th>0</th>\n",
       "      <td>1</td>\n",
       "      <td>64</td>\n",
       "      <td>64</td>\n",
       "    </tr>\n",
       "  </tbody>\n",
       "</table>\n",
       "</div>"
      ],
      "text/plain": [
       "   min_sla_code  max_sla_code  n_sla_codes\n",
       "0             1            64           64"
      ]
     },
     "execution_count": 18,
     "metadata": {},
     "output_type": "execute_result"
    }
   ],
   "source": [
    "before_sla_code"
   ]
  },
  {
   "cell_type": "code",
   "execution_count": 19,
   "metadata": {},
   "outputs": [],
   "source": [
    "before_date_category = pd.read_sql(con = engine, sql = sql_date_category)"
   ]
  },
  {
   "cell_type": "code",
   "execution_count": 20,
   "metadata": {},
   "outputs": [
    {
     "data": {
      "text/html": [
       "<div>\n",
       "<style scoped>\n",
       "    .dataframe tbody tr th:only-of-type {\n",
       "        vertical-align: middle;\n",
       "    }\n",
       "\n",
       "    .dataframe tbody tr th {\n",
       "        vertical-align: top;\n",
       "    }\n",
       "\n",
       "    .dataframe thead th {\n",
       "        text-align: right;\n",
       "    }\n",
       "</style>\n",
       "<table border=\"1\" class=\"dataframe\">\n",
       "  <thead>\n",
       "    <tr style=\"text-align: right;\">\n",
       "      <th></th>\n",
       "      <th>date_category_id</th>\n",
       "    </tr>\n",
       "  </thead>\n",
       "  <tbody>\n",
       "    <tr>\n",
       "      <th>0</th>\n",
       "      <td>1</td>\n",
       "    </tr>\n",
       "    <tr>\n",
       "      <th>1</th>\n",
       "      <td>2</td>\n",
       "    </tr>\n",
       "  </tbody>\n",
       "</table>\n",
       "</div>"
      ],
      "text/plain": [
       "   date_category_id\n",
       "0                 1\n",
       "1                 2"
      ]
     },
     "execution_count": 20,
     "metadata": {},
     "output_type": "execute_result"
    }
   ],
   "source": [
    "before_date_category"
   ]
  },
  {
   "cell_type": "code",
   "execution_count": 21,
   "metadata": {},
   "outputs": [],
   "source": [
    "before_sla_translation = pd.read_sql(con = engine, sql = sql_sla_translation)"
   ]
  },
  {
   "cell_type": "code",
   "execution_count": 22,
   "metadata": {},
   "outputs": [
    {
     "data": {
      "text/html": [
       "<div>\n",
       "<style scoped>\n",
       "    .dataframe tbody tr th:only-of-type {\n",
       "        vertical-align: middle;\n",
       "    }\n",
       "\n",
       "    .dataframe tbody tr th {\n",
       "        vertical-align: top;\n",
       "    }\n",
       "\n",
       "    .dataframe thead th {\n",
       "        text-align: right;\n",
       "    }\n",
       "</style>\n",
       "<table border=\"1\" class=\"dataframe\">\n",
       "  <thead>\n",
       "    <tr style=\"text-align: right;\">\n",
       "      <th></th>\n",
       "      <th>sla_id</th>\n",
       "      <th>sla_code</th>\n",
       "      <th>date_category_id</th>\n",
       "    </tr>\n",
       "  </thead>\n",
       "  <tbody>\n",
       "    <tr>\n",
       "      <th>0</th>\n",
       "      <td>A</td>\n",
       "      <td>1</td>\n",
       "      <td>1</td>\n",
       "    </tr>\n",
       "    <tr>\n",
       "      <th>1</th>\n",
       "      <td>A</td>\n",
       "      <td>2</td>\n",
       "      <td>1</td>\n",
       "    </tr>\n",
       "    <tr>\n",
       "      <th>2</th>\n",
       "      <td>A</td>\n",
       "      <td>3</td>\n",
       "      <td>1</td>\n",
       "    </tr>\n",
       "    <tr>\n",
       "      <th>3</th>\n",
       "      <td>A</td>\n",
       "      <td>4</td>\n",
       "      <td>1</td>\n",
       "    </tr>\n",
       "    <tr>\n",
       "      <th>4</th>\n",
       "      <td>A</td>\n",
       "      <td>17</td>\n",
       "      <td>1</td>\n",
       "    </tr>\n",
       "    <tr>\n",
       "      <th>...</th>\n",
       "      <td>...</td>\n",
       "      <td>...</td>\n",
       "      <td>...</td>\n",
       "    </tr>\n",
       "    <tr>\n",
       "      <th>123</th>\n",
       "      <td>T</td>\n",
       "      <td>28</td>\n",
       "      <td>2</td>\n",
       "    </tr>\n",
       "    <tr>\n",
       "      <th>124</th>\n",
       "      <td>T</td>\n",
       "      <td>30</td>\n",
       "      <td>2</td>\n",
       "    </tr>\n",
       "    <tr>\n",
       "      <th>125</th>\n",
       "      <td>T</td>\n",
       "      <td>36</td>\n",
       "      <td>2</td>\n",
       "    </tr>\n",
       "    <tr>\n",
       "      <th>126</th>\n",
       "      <td>T</td>\n",
       "      <td>47</td>\n",
       "      <td>2</td>\n",
       "    </tr>\n",
       "    <tr>\n",
       "      <th>127</th>\n",
       "      <td>T</td>\n",
       "      <td>62</td>\n",
       "      <td>2</td>\n",
       "    </tr>\n",
       "  </tbody>\n",
       "</table>\n",
       "<p>128 rows × 3 columns</p>\n",
       "</div>"
      ],
      "text/plain": [
       "    sla_id  sla_code  date_category_id\n",
       "0        A         1                 1\n",
       "1        A         2                 1\n",
       "2        A         3                 1\n",
       "3        A         4                 1\n",
       "4        A        17                 1\n",
       "..     ...       ...               ...\n",
       "123      T        28                 2\n",
       "124      T        30                 2\n",
       "125      T        36                 2\n",
       "126      T        47                 2\n",
       "127      T        62                 2\n",
       "\n",
       "[128 rows x 3 columns]"
      ]
     },
     "execution_count": 22,
     "metadata": {},
     "output_type": "execute_result"
    }
   ],
   "source": [
    "before_sla_translation"
   ]
  },
  {
   "cell_type": "code",
   "execution_count": null,
   "metadata": {},
   "outputs": [],
   "source": []
  },
  {
   "cell_type": "code",
   "execution_count": 662,
   "metadata": {},
   "outputs": [],
   "source": [
    "timing = []"
   ]
  },
  {
   "cell_type": "code",
   "execution_count": 663,
   "metadata": {},
   "outputs": [],
   "source": [
    "descriptions = []"
   ]
  },
  {
   "cell_type": "code",
   "execution_count": 664,
   "metadata": {},
   "outputs": [],
   "source": [
    "results = []"
   ]
  },
  {
   "cell_type": "markdown",
   "metadata": {},
   "source": [
    "## Before Tests"
   ]
  },
  {
   "cell_type": "markdown",
   "metadata": {},
   "source": [
    "### First before test"
   ]
  },
  {
   "cell_type": "code",
   "execution_count": 665,
   "metadata": {},
   "outputs": [],
   "source": [
    "timing.append('before')"
   ]
  },
  {
   "cell_type": "code",
   "execution_count": 666,
   "metadata": {},
   "outputs": [],
   "source": [
    "descriptions.append('''Check that the count of sla_ids (from tbl_ref_sla) squared \\\n",
    "is equal to the number of sla_codes in tbl_ref_sla_code''')"
   ]
  },
  {
   "cell_type": "code",
   "execution_count": 667,
   "metadata": {},
   "outputs": [],
   "source": [
    "results.append(before_squared_count_sla_id == before_sla_code['n_sla_codes'].values[0])"
   ]
  },
  {
   "cell_type": "markdown",
   "metadata": {},
   "source": [
    "### Second before test"
   ]
  },
  {
   "cell_type": "code",
   "execution_count": 668,
   "metadata": {},
   "outputs": [],
   "source": [
    "timing.append('before')"
   ]
  },
  {
   "cell_type": "code",
   "execution_count": 669,
   "metadata": {},
   "outputs": [],
   "source": [
    "descriptions.append('''Test that the number of sla_codes in tbl_ref_sla_code \\\n",
    "is equal to the maximum sla_code in tbl_ref_sla_code''')"
   ]
  },
  {
   "cell_type": "code",
   "execution_count": 670,
   "metadata": {},
   "outputs": [],
   "source": [
    "results.append(before_sla_code['n_sla_codes'].values[0] == before_sla_code['max_sla_code'].values[0])"
   ]
  },
  {
   "cell_type": "markdown",
   "metadata": {},
   "source": [
    "### Third before test"
   ]
  },
  {
   "cell_type": "code",
   "execution_count": 671,
   "metadata": {},
   "outputs": [],
   "source": [
    "timing.append('before')"
   ]
  },
  {
   "cell_type": "code",
   "execution_count": 672,
   "metadata": {},
   "outputs": [],
   "source": [
    "descriptions.append('''Test that the minimum sla_code in tbl_ref_sla_code is equal to 1''')"
   ]
  },
  {
   "cell_type": "code",
   "execution_count": 673,
   "metadata": {},
   "outputs": [],
   "source": [
    "results.append(1 == before_sla_code['min_sla_code'].values[0])"
   ]
  },
  {
   "cell_type": "markdown",
   "metadata": {},
   "source": [
    "### Fourth before test"
   ]
  },
  {
   "cell_type": "code",
   "execution_count": 674,
   "metadata": {},
   "outputs": [],
   "source": [
    "timing.append('before')"
   ]
  },
  {
   "cell_type": "code",
   "execution_count": 675,
   "metadata": {},
   "outputs": [],
   "source": [
    "descriptions.append('''Test that the count of records in tbl_ref_sla_translation \\\n",
    "is equal to the count of sla_codes in tbl_ref_sla_code multiplied by the number \\\n",
    "of date_category_ids in tbl_ref_sla_season_category''')"
   ]
  },
  {
   "cell_type": "code",
   "execution_count": 676,
   "metadata": {},
   "outputs": [],
   "source": [
    "results.append(\n",
    "    len(before_sla_translation) == (before_sla_code['n_sla_codes'].values[0] *\n",
    "                                    len(before_date_category)))"
   ]
  },
  {
   "cell_type": "markdown",
   "metadata": {},
   "source": [
    "### Fifth before test"
   ]
  },
  {
   "cell_type": "code",
   "execution_count": 677,
   "metadata": {},
   "outputs": [],
   "source": [
    "timing.append('before')"
   ]
  },
  {
   "cell_type": "code",
   "execution_count": 678,
   "metadata": {},
   "outputs": [],
   "source": [
    "descriptions.append('''Test the uniqueness of the rows in tbl_ref_sla_translation''')"
   ]
  },
  {
   "cell_type": "code",
   "execution_count": 679,
   "metadata": {},
   "outputs": [],
   "source": [
    "before_sla_translation_nodup = before_sla_translation.drop_duplicates()"
   ]
  },
  {
   "cell_type": "code",
   "execution_count": 680,
   "metadata": {},
   "outputs": [],
   "source": [
    "results.append(len(before_sla_translation) == len(before_sla_translation_nodup))"
   ]
  },
  {
   "cell_type": "markdown",
   "metadata": {
    "heading_collapsed": true
   },
   "source": [
    "### Sixth before test"
   ]
  },
  {
   "cell_type": "code",
   "execution_count": 681,
   "metadata": {
    "hidden": true
   },
   "outputs": [],
   "source": [
    "timing.append('before')"
   ]
  },
  {
   "cell_type": "code",
   "execution_count": 682,
   "metadata": {
    "hidden": true
   },
   "outputs": [],
   "source": [
    "descriptions.append(\n",
    "    '''Test that all sla_ids, sla_codes and date_category_ids have been \\\n",
    "    accounted for in tbl_ref_sla_translation''')"
   ]
  },
  {
   "cell_type": "code",
   "execution_count": 683,
   "metadata": {
    "hidden": true
   },
   "outputs": [],
   "source": [
    "before_unique_sla_translation = before_sla_translation.nunique()"
   ]
  },
  {
   "cell_type": "code",
   "execution_count": 684,
   "metadata": {
    "hidden": true
   },
   "outputs": [],
   "source": [
    "results.append(\n",
    "    ((before_unique_sla_translation['sla_id'] == before_count_sla_id)\n",
    "     and (before_unique_sla_translation['date_category_id'] == len(\n",
    "         before_date_category))\n",
    "     and (before_unique_sla_translation['sla_code'] ==\n",
    "          before_sla_code['n_sla_codes'].values[0])))"
   ]
  },
  {
   "cell_type": "markdown",
   "metadata": {},
   "source": [
    "## Insert the sla_id values into tbl_ref_sla so that the after tests can be conducted"
   ]
  },
  {
   "cell_type": "code",
   "execution_count": 685,
   "metadata": {},
   "outputs": [],
   "source": [
    "ninserts = 2"
   ]
  },
  {
   "cell_type": "code",
   "execution_count": 686,
   "metadata": {},
   "outputs": [],
   "source": [
    "sla_id = [x for x in string.ascii_uppercase if x not in(before_distinct_sla_id.values)]"
   ]
  },
  {
   "cell_type": "code",
   "execution_count": 687,
   "metadata": {},
   "outputs": [],
   "source": [
    "sla_inserts = [[x, 'Testing new SLA: '+ x, 1, 2] for x in sla_id]"
   ]
  },
  {
   "cell_type": "code",
   "execution_count": 688,
   "metadata": {},
   "outputs": [],
   "source": [
    "sla_inserts_df = pd.DataFrame(sla_inserts[0:ninserts], \n",
    "                              columns = ['sla_id', 'sla_desc', 'sla_min_days', 'sla_max_days'])"
   ]
  },
  {
   "cell_type": "code",
   "execution_count": 689,
   "metadata": {},
   "outputs": [
    {
     "data": {
      "text/html": [
       "<div>\n",
       "<style scoped>\n",
       "    .dataframe tbody tr th:only-of-type {\n",
       "        vertical-align: middle;\n",
       "    }\n",
       "\n",
       "    .dataframe tbody tr th {\n",
       "        vertical-align: top;\n",
       "    }\n",
       "\n",
       "    .dataframe thead th {\n",
       "        text-align: right;\n",
       "    }\n",
       "</style>\n",
       "<table border=\"1\" class=\"dataframe\">\n",
       "  <thead>\n",
       "    <tr style=\"text-align: right;\">\n",
       "      <th></th>\n",
       "      <th>sla_id</th>\n",
       "      <th>sla_desc</th>\n",
       "      <th>sla_min_days</th>\n",
       "      <th>sla_max_days</th>\n",
       "    </tr>\n",
       "  </thead>\n",
       "  <tbody>\n",
       "    <tr>\n",
       "      <th>0</th>\n",
       "      <td>G</td>\n",
       "      <td>Testing new SLA: G</td>\n",
       "      <td>1</td>\n",
       "      <td>2</td>\n",
       "    </tr>\n",
       "    <tr>\n",
       "      <th>1</th>\n",
       "      <td>H</td>\n",
       "      <td>Testing new SLA: H</td>\n",
       "      <td>1</td>\n",
       "      <td>2</td>\n",
       "    </tr>\n",
       "  </tbody>\n",
       "</table>\n",
       "</div>"
      ],
      "text/plain": [
       "  sla_id            sla_desc  sla_min_days  sla_max_days\n",
       "0      G  Testing new SLA: G             1             2\n",
       "1      H  Testing new SLA: H             1             2"
      ]
     },
     "execution_count": 689,
     "metadata": {},
     "output_type": "execute_result"
    }
   ],
   "source": [
    "sla_inserts_df"
   ]
  },
  {
   "cell_type": "code",
   "execution_count": 690,
   "metadata": {},
   "outputs": [],
   "source": [
    "# sla_inserts_df.to_sql('tbl_ref_sla', con = engine, index = False, if_exists = 'append')"
   ]
  },
  {
   "cell_type": "markdown",
   "metadata": {},
   "source": [
    "## Execute all of the sql queries AFTER INSERT and store the results"
   ]
  },
  {
   "cell_type": "code",
   "execution_count": 691,
   "metadata": {},
   "outputs": [],
   "source": [
    "after_count_sla_id = pd.read_sql(con = engine, sql = sql_count_sla_id).values[0][0]"
   ]
  },
  {
   "cell_type": "code",
   "execution_count": 692,
   "metadata": {},
   "outputs": [
    {
     "data": {
      "text/plain": [
       "10"
      ]
     },
     "execution_count": 692,
     "metadata": {},
     "output_type": "execute_result"
    }
   ],
   "source": [
    "after_count_sla_id"
   ]
  },
  {
   "cell_type": "code",
   "execution_count": 693,
   "metadata": {},
   "outputs": [],
   "source": [
    "after_squared_count_sla_id = (after_count_sla_id)**2 "
   ]
  },
  {
   "cell_type": "code",
   "execution_count": 694,
   "metadata": {},
   "outputs": [
    {
     "data": {
      "text/plain": [
       "100"
      ]
     },
     "execution_count": 694,
     "metadata": {},
     "output_type": "execute_result"
    }
   ],
   "source": [
    "after_squared_count_sla_id"
   ]
  },
  {
   "cell_type": "code",
   "execution_count": 695,
   "metadata": {},
   "outputs": [],
   "source": [
    "after_distinct_sla_id = pd.read_sql(con = engine, sql = sql_distinct_sla_id)"
   ]
  },
  {
   "cell_type": "code",
   "execution_count": 696,
   "metadata": {},
   "outputs": [
    {
     "data": {
      "text/html": [
       "<div>\n",
       "<style scoped>\n",
       "    .dataframe tbody tr th:only-of-type {\n",
       "        vertical-align: middle;\n",
       "    }\n",
       "\n",
       "    .dataframe tbody tr th {\n",
       "        vertical-align: top;\n",
       "    }\n",
       "\n",
       "    .dataframe thead th {\n",
       "        text-align: right;\n",
       "    }\n",
       "</style>\n",
       "<table border=\"1\" class=\"dataframe\">\n",
       "  <thead>\n",
       "    <tr style=\"text-align: right;\">\n",
       "      <th></th>\n",
       "      <th>sla_id</th>\n",
       "    </tr>\n",
       "  </thead>\n",
       "  <tbody>\n",
       "    <tr>\n",
       "      <th>0</th>\n",
       "      <td>A</td>\n",
       "    </tr>\n",
       "    <tr>\n",
       "      <th>1</th>\n",
       "      <td>B</td>\n",
       "    </tr>\n",
       "    <tr>\n",
       "      <th>2</th>\n",
       "      <td>C</td>\n",
       "    </tr>\n",
       "    <tr>\n",
       "      <th>3</th>\n",
       "      <td>D</td>\n",
       "    </tr>\n",
       "    <tr>\n",
       "      <th>4</th>\n",
       "      <td>E</td>\n",
       "    </tr>\n",
       "    <tr>\n",
       "      <th>5</th>\n",
       "      <td>F</td>\n",
       "    </tr>\n",
       "    <tr>\n",
       "      <th>6</th>\n",
       "      <td>G</td>\n",
       "    </tr>\n",
       "    <tr>\n",
       "      <th>7</th>\n",
       "      <td>H</td>\n",
       "    </tr>\n",
       "    <tr>\n",
       "      <th>8</th>\n",
       "      <td>N</td>\n",
       "    </tr>\n",
       "    <tr>\n",
       "      <th>9</th>\n",
       "      <td>T</td>\n",
       "    </tr>\n",
       "  </tbody>\n",
       "</table>\n",
       "</div>"
      ],
      "text/plain": [
       "  sla_id\n",
       "0      A\n",
       "1      B\n",
       "2      C\n",
       "3      D\n",
       "4      E\n",
       "5      F\n",
       "6      G\n",
       "7      H\n",
       "8      N\n",
       "9      T"
      ]
     },
     "execution_count": 696,
     "metadata": {},
     "output_type": "execute_result"
    }
   ],
   "source": [
    "after_distinct_sla_id"
   ]
  },
  {
   "cell_type": "code",
   "execution_count": 697,
   "metadata": {},
   "outputs": [],
   "source": [
    "after_sla_code = pd.read_sql(con = engine, sql = sql_sla_code)"
   ]
  },
  {
   "cell_type": "code",
   "execution_count": 698,
   "metadata": {},
   "outputs": [
    {
     "data": {
      "text/html": [
       "<div>\n",
       "<style scoped>\n",
       "    .dataframe tbody tr th:only-of-type {\n",
       "        vertical-align: middle;\n",
       "    }\n",
       "\n",
       "    .dataframe tbody tr th {\n",
       "        vertical-align: top;\n",
       "    }\n",
       "\n",
       "    .dataframe thead th {\n",
       "        text-align: right;\n",
       "    }\n",
       "</style>\n",
       "<table border=\"1\" class=\"dataframe\">\n",
       "  <thead>\n",
       "    <tr style=\"text-align: right;\">\n",
       "      <th></th>\n",
       "      <th>min_sla_code</th>\n",
       "      <th>max_sla_code</th>\n",
       "      <th>n_sla_codes</th>\n",
       "    </tr>\n",
       "  </thead>\n",
       "  <tbody>\n",
       "    <tr>\n",
       "      <th>0</th>\n",
       "      <td>1</td>\n",
       "      <td>100</td>\n",
       "      <td>100</td>\n",
       "    </tr>\n",
       "  </tbody>\n",
       "</table>\n",
       "</div>"
      ],
      "text/plain": [
       "   min_sla_code  max_sla_code  n_sla_codes\n",
       "0             1           100          100"
      ]
     },
     "execution_count": 698,
     "metadata": {},
     "output_type": "execute_result"
    }
   ],
   "source": [
    "after_sla_code"
   ]
  },
  {
   "cell_type": "code",
   "execution_count": 699,
   "metadata": {},
   "outputs": [],
   "source": [
    "after_date_category = pd.read_sql(con = engine, sql = sql_date_category)"
   ]
  },
  {
   "cell_type": "code",
   "execution_count": 700,
   "metadata": {},
   "outputs": [],
   "source": [
    "# after_date_category"
   ]
  },
  {
   "cell_type": "code",
   "execution_count": 701,
   "metadata": {},
   "outputs": [],
   "source": [
    "after_sla_translation = pd.read_sql(con = engine, sql = sql_sla_translation)"
   ]
  },
  {
   "cell_type": "code",
   "execution_count": 702,
   "metadata": {},
   "outputs": [],
   "source": [
    "# after_sla_translation"
   ]
  },
  {
   "cell_type": "markdown",
   "metadata": {},
   "source": [
    "## After Tests"
   ]
  },
  {
   "cell_type": "markdown",
   "metadata": {},
   "source": [
    "### First after test"
   ]
  },
  {
   "cell_type": "code",
   "execution_count": 703,
   "metadata": {},
   "outputs": [],
   "source": [
    "timing.append('after')"
   ]
  },
  {
   "cell_type": "code",
   "execution_count": 704,
   "metadata": {},
   "outputs": [],
   "source": [
    "descriptions.append('''Check that the count of sla_ids (from tbl_ref_sla) squared \\\n",
    "is equal to the number of sla_codes in tbl_ref_sla_code''')"
   ]
  },
  {
   "cell_type": "code",
   "execution_count": 705,
   "metadata": {},
   "outputs": [],
   "source": [
    "results.append(after_squared_count_sla_id == after_sla_code['n_sla_codes'].values[0])"
   ]
  },
  {
   "cell_type": "code",
   "execution_count": 706,
   "metadata": {},
   "outputs": [
    {
     "data": {
      "text/plain": [
       "[True, True, True, True, True, True, True]"
      ]
     },
     "execution_count": 706,
     "metadata": {},
     "output_type": "execute_result"
    }
   ],
   "source": [
    "results"
   ]
  },
  {
   "cell_type": "markdown",
   "metadata": {},
   "source": [
    "### Second after test"
   ]
  },
  {
   "cell_type": "code",
   "execution_count": 707,
   "metadata": {},
   "outputs": [],
   "source": [
    "timing.append('after')"
   ]
  },
  {
   "cell_type": "code",
   "execution_count": 708,
   "metadata": {},
   "outputs": [],
   "source": [
    "descriptions.append('''Test that the number of sla_codes in tbl_ref_sla_code \\\n",
    "is equal to the maximum sla_code in tbl_ref_sla_code''')"
   ]
  },
  {
   "cell_type": "code",
   "execution_count": 709,
   "metadata": {},
   "outputs": [],
   "source": [
    "results.append(after_sla_code['n_sla_codes'].values[0] == after_sla_code['max_sla_code'].values[0])"
   ]
  },
  {
   "cell_type": "markdown",
   "metadata": {},
   "source": [
    "### Third after test"
   ]
  },
  {
   "cell_type": "code",
   "execution_count": 710,
   "metadata": {},
   "outputs": [],
   "source": [
    "timing.append('after')"
   ]
  },
  {
   "cell_type": "code",
   "execution_count": 711,
   "metadata": {},
   "outputs": [],
   "source": [
    "descriptions.append('''Test that the minimum sla_code in tbl_ref_sla_code is equal to 1''')"
   ]
  },
  {
   "cell_type": "code",
   "execution_count": 712,
   "metadata": {},
   "outputs": [],
   "source": [
    "results.append(1 == after_sla_code['min_sla_code'].values[0])"
   ]
  },
  {
   "cell_type": "markdown",
   "metadata": {},
   "source": [
    "### Fourth after test"
   ]
  },
  {
   "cell_type": "code",
   "execution_count": 713,
   "metadata": {},
   "outputs": [],
   "source": [
    "timing.append('after')"
   ]
  },
  {
   "cell_type": "code",
   "execution_count": 714,
   "metadata": {},
   "outputs": [],
   "source": [
    "descriptions.append(\n",
    "    '''Test that the count of records in tbl_ref_sla_translation is \\\n",
    "    equal to the count of sla_codes in tbl_ref_sla_code multiplied by \\\n",
    "    the number of date_category_ids in tbl_ref_sla_season_category''')"
   ]
  },
  {
   "cell_type": "code",
   "execution_count": 715,
   "metadata": {},
   "outputs": [],
   "source": [
    "results.append(len(after_sla_translation) == (after_sla_code['n_sla_codes'].values[0] * len(after_date_category)))"
   ]
  },
  {
   "cell_type": "markdown",
   "metadata": {},
   "source": [
    "### Fifth before test"
   ]
  },
  {
   "cell_type": "code",
   "execution_count": 716,
   "metadata": {},
   "outputs": [],
   "source": [
    "timing.append('after')"
   ]
  },
  {
   "cell_type": "code",
   "execution_count": 717,
   "metadata": {},
   "outputs": [],
   "source": [
    "descriptions.append('''Test the uniqueness of the rows in tbl_ref_sla_translation''')"
   ]
  },
  {
   "cell_type": "code",
   "execution_count": 718,
   "metadata": {},
   "outputs": [],
   "source": [
    "after_sla_translation_nodup = after_sla_translation.drop_duplicates()"
   ]
  },
  {
   "cell_type": "code",
   "execution_count": 719,
   "metadata": {},
   "outputs": [],
   "source": [
    "results.append(len(after_sla_translation) == len(after_sla_translation_nodup))"
   ]
  },
  {
   "cell_type": "markdown",
   "metadata": {},
   "source": [
    "### Sixth after test"
   ]
  },
  {
   "cell_type": "code",
   "execution_count": 720,
   "metadata": {},
   "outputs": [],
   "source": [
    "timing.append('after')"
   ]
  },
  {
   "cell_type": "code",
   "execution_count": 721,
   "metadata": {},
   "outputs": [],
   "source": [
    "descriptions.append('''Test that all sla_ids, sla_codes and date_category_ids have been\\\n",
    "accounted for in tbl_ref_sla_translation''')"
   ]
  },
  {
   "cell_type": "code",
   "execution_count": 722,
   "metadata": {},
   "outputs": [],
   "source": [
    "after_unique_sla_translation = after_sla_translation.nunique()"
   ]
  },
  {
   "cell_type": "code",
   "execution_count": 723,
   "metadata": {},
   "outputs": [],
   "source": [
    "results.append(\n",
    "    ((after_unique_sla_translation['sla_id'] == after_count_sla_id)\n",
    "     and (after_unique_sla_translation['date_category_id'] == len(\n",
    "         after_date_category)) and (after_unique_sla_translation['sla_code'] ==\n",
    "                                    after_sla_code['n_sla_codes'].values[0])))"
   ]
  },
  {
   "cell_type": "markdown",
   "metadata": {},
   "source": [
    "### Seventh after test"
   ]
  },
  {
   "cell_type": "code",
   "execution_count": 724,
   "metadata": {},
   "outputs": [],
   "source": [
    "timing.append('after')"
   ]
  },
  {
   "cell_type": "code",
   "execution_count": 725,
   "metadata": {},
   "outputs": [],
   "source": [
    "m = ninserts\n",
    "n = before_count_sla_id"
   ]
  },
  {
   "cell_type": "code",
   "execution_count": 726,
   "metadata": {},
   "outputs": [],
   "source": [
    "descriptions.append(\n",
    "    '''Test that the number of rows insrted into tbl_ref_sla_code\\\n",
    "    is equal to (m+n)**2-n**2 '''\n",
    ")"
   ]
  },
  {
   "cell_type": "code",
   "execution_count": 727,
   "metadata": {},
   "outputs": [],
   "source": [
    "results.append(after_sla_code.n_sla_codes.values[0] -\n",
    "               before_sla_code.n_sla_codes.values[0] == (m + n)**2 - n**2)"
   ]
  },
  {
   "cell_type": "markdown",
   "metadata": {},
   "source": [
    "### Eighth after test"
   ]
  },
  {
   "cell_type": "code",
   "execution_count": 728,
   "metadata": {},
   "outputs": [],
   "source": [
    "timing.append('after')"
   ]
  },
  {
   "cell_type": "code",
   "execution_count": 729,
   "metadata": {},
   "outputs": [],
   "source": [
    "descriptions.append(\n",
    "    '''Test that the nmuber of rows in tbl_ref_sla_translation is equal to 2*(m+n)**2 '''\n",
    ")"
   ]
  },
  {
   "cell_type": "code",
   "execution_count": 730,
   "metadata": {},
   "outputs": [],
   "source": [
    "num_date_category_ids = len(after_date_category)"
   ]
  },
  {
   "cell_type": "code",
   "execution_count": 731,
   "metadata": {},
   "outputs": [],
   "source": [
    "results.append(len(after_sla_translation) == num_date_category_ids * (m + n)**2)"
   ]
  },
  {
   "cell_type": "markdown",
   "metadata": {},
   "source": [
    "### Ninth after test"
   ]
  },
  {
   "cell_type": "code",
   "execution_count": 732,
   "metadata": {},
   "outputs": [],
   "source": [
    "timing.append('after')"
   ]
  },
  {
   "cell_type": "code",
   "execution_count": 733,
   "metadata": {},
   "outputs": [],
   "source": [
    "descriptions.append('''After removing the original rows, \\\n",
    "test the uniqueness of the rows in tbl_ref_sla_translation''')"
   ]
  },
  {
   "cell_type": "code",
   "execution_count": 734,
   "metadata": {},
   "outputs": [],
   "source": [
    "after_sla_translation_nodup = after_sla_translation.drop_duplicates()"
   ]
  },
  {
   "cell_type": "code",
   "execution_count": 735,
   "metadata": {},
   "outputs": [],
   "source": [
    "results.append(len(after_sla_translation) == len(after_sla_translation_nodup))"
   ]
  },
  {
   "cell_type": "markdown",
   "metadata": {},
   "source": [
    "### Tenth after test"
   ]
  },
  {
   "cell_type": "code",
   "execution_count": 736,
   "metadata": {},
   "outputs": [],
   "source": [
    "timing.append('after')"
   ]
  },
  {
   "cell_type": "code",
   "execution_count": 737,
   "metadata": {},
   "outputs": [],
   "source": [
    "descriptions.append(\n",
    "    '''Ensuring the correct number of rows was inserted into tbl_ref_sla_trnalsation'''\n",
    ")"
   ]
  },
  {
   "cell_type": "code",
   "execution_count": 738,
   "metadata": {},
   "outputs": [],
   "source": [
    "added_rows_df = pd.merge(after_sla_translation,\n",
    "         before_sla_translation,\n",
    "         on=['sla_id', 'sla_code', 'date_category_id'],\n",
    "         indicator=True,\n",
    "         how='outer').query('_merge==\"left_only\"').drop('_merge', axis=1)"
   ]
  },
  {
   "cell_type": "code",
   "execution_count": 739,
   "metadata": {},
   "outputs": [],
   "source": [
    "results.append(len(added_rows_df)==(len(after_sla_translation) - len(before_sla_translation)))"
   ]
  },
  {
   "cell_type": "markdown",
   "metadata": {},
   "source": [
    "## List of tuples with final test results"
   ]
  },
  {
   "cell_type": "code",
   "execution_count": 740,
   "metadata": {},
   "outputs": [
    {
     "data": {
      "text/plain": [
       "[('before',\n",
       "  'Check that the count of sla_ids (from tbl_ref_sla) squared is equal to the number of sla_codes in tbl_ref_sla_code',\n",
       "  True),\n",
       " ('before',\n",
       "  'Test that the number of sla_codes in tbl_ref_sla_code is equal to the maximum sla_code in tbl_ref_sla_code',\n",
       "  True),\n",
       " ('before',\n",
       "  'Test that the minimum sla_code in tbl_ref_sla_code is equal to 1',\n",
       "  True),\n",
       " ('before',\n",
       "  'Test that the count of records in tbl_ref_sla_translation is equal to the count of sla_codes in tbl_ref_sla_code multiplied by the number of date_category_ids in tbl_ref_sla_season_category',\n",
       "  True),\n",
       " ('before',\n",
       "  'Test the uniqueness of the rows in tbl_ref_sla_translation',\n",
       "  True),\n",
       " ('before',\n",
       "  'Test that all sla_ids, sla_codes and date_category_ids have been     accounted for in tbl_ref_sla_translation',\n",
       "  True),\n",
       " ('after',\n",
       "  'Check that the count of sla_ids (from tbl_ref_sla) squared is equal to the number of sla_codes in tbl_ref_sla_code',\n",
       "  True),\n",
       " ('after',\n",
       "  'Test that the number of sla_codes in tbl_ref_sla_code is equal to the maximum sla_code in tbl_ref_sla_code',\n",
       "  True),\n",
       " ('after',\n",
       "  'Test that the minimum sla_code in tbl_ref_sla_code is equal to 1',\n",
       "  True),\n",
       " ('after',\n",
       "  'Test that the count of records in tbl_ref_sla_translation is     equal to the count of sla_codes in tbl_ref_sla_code multiplied by     the number of date_category_ids in tbl_ref_sla_season_category',\n",
       "  True),\n",
       " ('after', 'Test the uniqueness of the rows in tbl_ref_sla_translation', True),\n",
       " ('after',\n",
       "  'Test that all sla_ids, sla_codes and date_category_ids have beenaccounted for in tbl_ref_sla_translation',\n",
       "  True),\n",
       " ('after',\n",
       "  'Test that the number of rows insrted into tbl_ref_sla_code    is equal to (m+n)**2-n**2 ',\n",
       "  True),\n",
       " ('after',\n",
       "  'Test that the nmuber of rows in tbl_ref_sla_translation is equal to 2*(m+n)**2 ',\n",
       "  True),\n",
       " ('after',\n",
       "  'After removing the original rows, test the uniqueness of the rows in tbl_ref_sla_translation',\n",
       "  True),\n",
       " ('after',\n",
       "  'Ensuring the correct number of rows was inserted into tbl_ref_sla_trnalsation',\n",
       "  True)]"
      ]
     },
     "execution_count": 740,
     "metadata": {},
     "output_type": "execute_result"
    }
   ],
   "source": [
    "list(zip(timing, descriptions, results))"
   ]
  },
  {
   "cell_type": "code",
   "execution_count": 741,
   "metadata": {
    "scrolled": false
   },
   "outputs": [
    {
     "data": {
      "text/html": [
       "<div>\n",
       "<style scoped>\n",
       "    .dataframe tbody tr th:only-of-type {\n",
       "        vertical-align: middle;\n",
       "    }\n",
       "\n",
       "    .dataframe tbody tr th {\n",
       "        vertical-align: top;\n",
       "    }\n",
       "\n",
       "    .dataframe thead th {\n",
       "        text-align: right;\n",
       "    }\n",
       "</style>\n",
       "<table border=\"1\" class=\"dataframe\">\n",
       "  <thead>\n",
       "    <tr style=\"text-align: right;\">\n",
       "      <th></th>\n",
       "      <th>before/after</th>\n",
       "      <th>test_desc</th>\n",
       "      <th>result</th>\n",
       "    </tr>\n",
       "  </thead>\n",
       "  <tbody>\n",
       "    <tr>\n",
       "      <th>0</th>\n",
       "      <td>before</td>\n",
       "      <td>Check that the count of sla_ids (from tbl_ref_...</td>\n",
       "      <td>True</td>\n",
       "    </tr>\n",
       "    <tr>\n",
       "      <th>1</th>\n",
       "      <td>before</td>\n",
       "      <td>Test that the number of sla_codes in tbl_ref_s...</td>\n",
       "      <td>True</td>\n",
       "    </tr>\n",
       "    <tr>\n",
       "      <th>2</th>\n",
       "      <td>before</td>\n",
       "      <td>Test that the minimum sla_code in tbl_ref_sla_...</td>\n",
       "      <td>True</td>\n",
       "    </tr>\n",
       "    <tr>\n",
       "      <th>3</th>\n",
       "      <td>before</td>\n",
       "      <td>Test that the count of records in tbl_ref_sla_...</td>\n",
       "      <td>True</td>\n",
       "    </tr>\n",
       "    <tr>\n",
       "      <th>4</th>\n",
       "      <td>before</td>\n",
       "      <td>Test the uniqueness of the rows in tbl_ref_sla...</td>\n",
       "      <td>True</td>\n",
       "    </tr>\n",
       "    <tr>\n",
       "      <th>5</th>\n",
       "      <td>before</td>\n",
       "      <td>Test that all sla_ids, sla_codes and date_cate...</td>\n",
       "      <td>True</td>\n",
       "    </tr>\n",
       "    <tr>\n",
       "      <th>6</th>\n",
       "      <td>after</td>\n",
       "      <td>Check that the count of sla_ids (from tbl_ref_...</td>\n",
       "      <td>True</td>\n",
       "    </tr>\n",
       "    <tr>\n",
       "      <th>7</th>\n",
       "      <td>after</td>\n",
       "      <td>Test that the number of sla_codes in tbl_ref_s...</td>\n",
       "      <td>True</td>\n",
       "    </tr>\n",
       "    <tr>\n",
       "      <th>8</th>\n",
       "      <td>after</td>\n",
       "      <td>Test that the minimum sla_code in tbl_ref_sla_...</td>\n",
       "      <td>True</td>\n",
       "    </tr>\n",
       "    <tr>\n",
       "      <th>9</th>\n",
       "      <td>after</td>\n",
       "      <td>Test that the count of records in tbl_ref_sla_...</td>\n",
       "      <td>True</td>\n",
       "    </tr>\n",
       "    <tr>\n",
       "      <th>10</th>\n",
       "      <td>after</td>\n",
       "      <td>Test the uniqueness of the rows in tbl_ref_sla...</td>\n",
       "      <td>True</td>\n",
       "    </tr>\n",
       "    <tr>\n",
       "      <th>11</th>\n",
       "      <td>after</td>\n",
       "      <td>Test that all sla_ids, sla_codes and date_cate...</td>\n",
       "      <td>True</td>\n",
       "    </tr>\n",
       "    <tr>\n",
       "      <th>12</th>\n",
       "      <td>after</td>\n",
       "      <td>Test that the number of rows insrted into tbl_...</td>\n",
       "      <td>True</td>\n",
       "    </tr>\n",
       "    <tr>\n",
       "      <th>13</th>\n",
       "      <td>after</td>\n",
       "      <td>Test that the nmuber of rows in tbl_ref_sla_tr...</td>\n",
       "      <td>True</td>\n",
       "    </tr>\n",
       "    <tr>\n",
       "      <th>14</th>\n",
       "      <td>after</td>\n",
       "      <td>After removing the original rows, test the uni...</td>\n",
       "      <td>True</td>\n",
       "    </tr>\n",
       "    <tr>\n",
       "      <th>15</th>\n",
       "      <td>after</td>\n",
       "      <td>Ensuring the correct number of rows was insert...</td>\n",
       "      <td>True</td>\n",
       "    </tr>\n",
       "  </tbody>\n",
       "</table>\n",
       "</div>"
      ],
      "text/plain": [
       "   before/after                                          test_desc  result\n",
       "0        before  Check that the count of sla_ids (from tbl_ref_...    True\n",
       "1        before  Test that the number of sla_codes in tbl_ref_s...    True\n",
       "2        before  Test that the minimum sla_code in tbl_ref_sla_...    True\n",
       "3        before  Test that the count of records in tbl_ref_sla_...    True\n",
       "4        before  Test the uniqueness of the rows in tbl_ref_sla...    True\n",
       "5        before  Test that all sla_ids, sla_codes and date_cate...    True\n",
       "6         after  Check that the count of sla_ids (from tbl_ref_...    True\n",
       "7         after  Test that the number of sla_codes in tbl_ref_s...    True\n",
       "8         after  Test that the minimum sla_code in tbl_ref_sla_...    True\n",
       "9         after  Test that the count of records in tbl_ref_sla_...    True\n",
       "10        after  Test the uniqueness of the rows in tbl_ref_sla...    True\n",
       "11        after  Test that all sla_ids, sla_codes and date_cate...    True\n",
       "12        after  Test that the number of rows insrted into tbl_...    True\n",
       "13        after  Test that the nmuber of rows in tbl_ref_sla_tr...    True\n",
       "14        after  After removing the original rows, test the uni...    True\n",
       "15        after  Ensuring the correct number of rows was insert...    True"
      ]
     },
     "execution_count": 741,
     "metadata": {},
     "output_type": "execute_result"
    }
   ],
   "source": [
    "pd.DataFrame(list(zip(timing, descriptions, results)), columns = {'before/after', 'test_desc', 'result'})             "
   ]
  },
  {
   "cell_type": "code",
   "execution_count": null,
   "metadata": {},
   "outputs": [],
   "source": []
  }
 ],
 "metadata": {
  "kernelspec": {
   "display_name": "Python 3",
   "language": "python",
   "name": "python3"
  },
  "language_info": {
   "codemirror_mode": {
    "name": "ipython",
    "version": 3
   },
   "file_extension": ".py",
   "mimetype": "text/x-python",
   "name": "python",
   "nbconvert_exporter": "python",
   "pygments_lexer": "ipython3",
   "version": "3.7.3"
  },
  "toc": {
   "base_numbering": 1,
   "nav_menu": {},
   "number_sections": true,
   "sideBar": true,
   "skip_h1_title": false,
   "title_cell": "Table of Contents",
   "title_sidebar": "Contents",
   "toc_cell": false,
   "toc_position": {},
   "toc_section_display": true,
   "toc_window_display": true
  }
 },
 "nbformat": 4,
 "nbformat_minor": 2
}
